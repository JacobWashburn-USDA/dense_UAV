{
 "cells": [
  {
   "cell_type": "code",
   "execution_count": 1,
   "id": "9aebc28c",
   "metadata": {},
   "outputs": [],
   "source": [
    "import os, sys\n",
    "import pandas as pd\n",
    "import numpy as np\n",
    "import plotly.express as px\n",
    "import io\n",
    "\n",
    "from scipy.stats import f_oneway\n",
    "from statsmodels.stats.multicomp import pairwise_tukeyhsd"
   ]
  },
  {
   "cell_type": "code",
   "execution_count": 2,
   "id": "997bc53b",
   "metadata": {},
   "outputs": [],
   "source": [
    "#bring in data\n",
    "data_dir = \"../data/\"\n",
    "sng_long_pred = pd.read_csv(\"../data/Prediction ability.csv\")\n",
    "sng_long_pred_noPHT = pd.read_csv(\"../data/Prediction ability no hieght.csv\")\n",
    "\n",
    "temp_VIs = pd.read_csv(data_dir+\"Temporal_VIs.csv\", index_col=[0])"
   ]
  },
  {
   "cell_type": "code",
   "execution_count": 3,
   "id": "31bf4d2c",
   "metadata": {},
   "outputs": [],
   "source": [
    "def process_labels(sng_long_pred):\n",
    "    #add M number as int for sorting\n",
    "    sng_long_pred[\"M_num\"] = sng_long_pred[\"Model\"].str.split(\"M\",expand=True)[1].astype(int)\n",
    "    #add genomic verses phenomic\n",
    "    sng_long_pred[\"Type\"] = \"\"\n",
    "    sng_long_pred.loc[sng_long_pred[\"Model\"]==\"M1\", \"Type\"] = \"Genomic\"\n",
    "    sng_long_pred.loc[sng_long_pred[\"Model\"]!=\"M1\", \"Type\"] = \"Phenomic\"\n",
    "    return sng_long_pred"
   ]
  },
  {
   "cell_type": "code",
   "execution_count": 4,
   "id": "2f652196",
   "metadata": {},
   "outputs": [],
   "source": [
    "def add_DAP(temp_VIs, sng_long_pred):\n",
    "    #get and add DAP to labels\n",
    "    temp_VIs=temp_VIs.copy()\n",
    "    temp_VIs.columns = pd.MultiIndex.from_tuples([x.split(\" \") for x in temp_VIs.columns.tolist()])\n",
    "    daps = [0] + temp_VIs[\"Red\"].columns.tolist()\n",
    "    daps = pd.DataFrame(daps, columns=[\"DAP\"])\n",
    "    daps[\"Model\"]=[\"M\"+str(x) for x in range(1, len(daps)+1)]\n",
    "\n",
    "    labels = []\n",
    "    for ind in daps.index:\n",
    "        label = daps.loc[ind, \"Model\"] + \": \"\n",
    "        if ind == 0:\n",
    "            label = \"M1: Genomic\"\n",
    "        elif ind == 1:\n",
    "            label += daps.loc[ind,\"DAP\"] + \" DAP\"\n",
    "        else:\n",
    "            label += daps.loc[ind-1, \"Model\"] + \" + \" + daps.loc[ind,\"DAP\"] + \" DAP\"\n",
    "        labels.append(label)\n",
    "        #print(label)\n",
    "    daps[\"Label\"] = labels\n",
    "    #long_pred = long_pred.merge(daps[[\"Model\",\"Label\"]], on=\"Model\")\n",
    "    sng_long_pred = sng_long_pred.merge(daps[[\"Model\",\"Label\"]], on=\"Model\")\n",
    "    return sng_long_pred"
   ]
  },
  {
   "cell_type": "code",
   "execution_count": 5,
   "id": "93bb641f",
   "metadata": {},
   "outputs": [],
   "source": [
    "def anova_tukey(df, group_column=\"Model\", alpha = 0.05):\n",
    "    print(len(df))\n",
    "    models = []\n",
    "    for model in df[group_column].unique():\n",
    "        models.append(df.loc[df[group_column]==model, \"cor\"].tolist())\n",
    "    anova_res = f_oneway(*models)\n",
    "    print(anova_res)\n",
    "    \n",
    "    if anova_res[1] < alpha:\n",
    "        print(\"Preforming Tukey's HSD test...\")\n",
    "    \n",
    "        tukey = pairwise_tukeyhsd(endog=df['cor'],\n",
    "                                  groups=df[group_column],\n",
    "                                  alpha=alpha)\n",
    "        return tukey\n",
    "    else: return None "
   ]
  },
  {
   "cell_type": "code",
   "execution_count": 6,
   "id": "196ea596",
   "metadata": {},
   "outputs": [],
   "source": [
    "def run_tukey(sng_long_pred):\n",
    "    tukey_res = anova_tukey(sng_long_pred[sng_long_pred[\"CV\"]==\"CV1\"]) #, group_column=\"M_num\")\n",
    "    #get single confidence interval and mean data\n",
    "    tukey_res._simultaneous_ci()\n",
    "    means = tukey_res._multicomp.groupstats.groupmean\n",
    "    #minrange = [means[i] - tukey_res.halfwidths[i] for i in range(len(means))]\n",
    "    #maxrange = [means[i] + tukey_res.halfwidths[i] for i in range(len(means))]\n",
    "    sim_CIs = pd.DataFrame([tukey_res.groupsunique, means, tukey_res.halfwidths], index=[\"Model\",\"Mean\",\"Halfwidth\"]).T\n",
    "    sim_CIs[\"M_num\"] = sim_CIs[\"Model\"].str[1:].astype(int)\n",
    "    sim_CIs = sim_CIs.sort_values(\"M_num\").reset_index(drop=True)\n",
    "    sim_CIs = sim_CIs.merge(sng_long_pred[[\"Model\",\"Label\"]].drop_duplicates(), on=\"Model\", how=\"left\")\n",
    "    return sim_CIs"
   ]
  },
  {
   "cell_type": "code",
   "execution_count": 7,
   "id": "132c2a15",
   "metadata": {},
   "outputs": [
    {
     "name": "stdout",
     "output_type": "stream",
     "text": [
      "5500\n",
      "F_onewayResult(statistic=185.32476423398526, pvalue=0.0)\n",
      "Preforming Tukey's HSD test...\n"
     ]
    }
   ],
   "source": [
    "sng_long_pred = process_labels(sng_long_pred)\n",
    "sng_long_pred = add_DAP(temp_VIs, sng_long_pred)\n",
    "sim_CIs = run_tukey(sng_long_pred) #run anova"
   ]
  },
  {
   "cell_type": "code",
   "execution_count": 12,
   "id": "711045c6",
   "metadata": {
    "scrolled": false
   },
   "outputs": [
    {
     "data": {
      "application/vnd.plotly.v1+json": {
       "config": {
        "plotlyServerURL": "https://plot.ly"
       },
       "data": [
        {
         "alignmentgroup": "True",
         "hovertemplate": "Model=%{x}<br>cor=%{y}<extra></extra>",
         "legendgroup": "Genomic<br>(M1)",
         "marker": {
          "color": "#636efa"
         },
         "name": "Genomic<br>(M1)",
         "notched": false,
         "offsetgroup": "Genomic<br>(M1)",
         "orientation": "v",
         "showlegend": true,
         "type": "box",
         "x": [
          "Genomic<br>(M1)",
          "Genomic<br>(M1)",
          "Genomic<br>(M1)",
          "Genomic<br>(M1)",
          "Genomic<br>(M1)",
          "Genomic<br>(M1)",
          "Genomic<br>(M1)",
          "Genomic<br>(M1)",
          "Genomic<br>(M1)",
          "Genomic<br>(M1)",
          "Genomic<br>(M1)",
          "Genomic<br>(M1)",
          "Genomic<br>(M1)",
          "Genomic<br>(M1)",
          "Genomic<br>(M1)",
          "Genomic<br>(M1)",
          "Genomic<br>(M1)",
          "Genomic<br>(M1)",
          "Genomic<br>(M1)",
          "Genomic<br>(M1)",
          "Genomic<br>(M1)",
          "Genomic<br>(M1)",
          "Genomic<br>(M1)",
          "Genomic<br>(M1)",
          "Genomic<br>(M1)",
          "Genomic<br>(M1)",
          "Genomic<br>(M1)",
          "Genomic<br>(M1)",
          "Genomic<br>(M1)",
          "Genomic<br>(M1)",
          "Genomic<br>(M1)",
          "Genomic<br>(M1)",
          "Genomic<br>(M1)",
          "Genomic<br>(M1)",
          "Genomic<br>(M1)",
          "Genomic<br>(M1)",
          "Genomic<br>(M1)",
          "Genomic<br>(M1)",
          "Genomic<br>(M1)",
          "Genomic<br>(M1)",
          "Genomic<br>(M1)",
          "Genomic<br>(M1)",
          "Genomic<br>(M1)",
          "Genomic<br>(M1)",
          "Genomic<br>(M1)",
          "Genomic<br>(M1)",
          "Genomic<br>(M1)",
          "Genomic<br>(M1)",
          "Genomic<br>(M1)",
          "Genomic<br>(M1)",
          "Genomic<br>(M1)",
          "Genomic<br>(M1)",
          "Genomic<br>(M1)",
          "Genomic<br>(M1)",
          "Genomic<br>(M1)",
          "Genomic<br>(M1)",
          "Genomic<br>(M1)",
          "Genomic<br>(M1)",
          "Genomic<br>(M1)",
          "Genomic<br>(M1)",
          "Genomic<br>(M1)",
          "Genomic<br>(M1)",
          "Genomic<br>(M1)",
          "Genomic<br>(M1)",
          "Genomic<br>(M1)",
          "Genomic<br>(M1)",
          "Genomic<br>(M1)",
          "Genomic<br>(M1)",
          "Genomic<br>(M1)",
          "Genomic<br>(M1)",
          "Genomic<br>(M1)",
          "Genomic<br>(M1)",
          "Genomic<br>(M1)",
          "Genomic<br>(M1)",
          "Genomic<br>(M1)",
          "Genomic<br>(M1)",
          "Genomic<br>(M1)",
          "Genomic<br>(M1)",
          "Genomic<br>(M1)",
          "Genomic<br>(M1)",
          "Genomic<br>(M1)",
          "Genomic<br>(M1)",
          "Genomic<br>(M1)",
          "Genomic<br>(M1)",
          "Genomic<br>(M1)",
          "Genomic<br>(M1)",
          "Genomic<br>(M1)",
          "Genomic<br>(M1)",
          "Genomic<br>(M1)",
          "Genomic<br>(M1)",
          "Genomic<br>(M1)",
          "Genomic<br>(M1)",
          "Genomic<br>(M1)",
          "Genomic<br>(M1)",
          "Genomic<br>(M1)",
          "Genomic<br>(M1)",
          "Genomic<br>(M1)",
          "Genomic<br>(M1)",
          "Genomic<br>(M1)",
          "Genomic<br>(M1)",
          "Genomic<br>(M1)",
          "Genomic<br>(M1)",
          "Genomic<br>(M1)",
          "Genomic<br>(M1)",
          "Genomic<br>(M1)",
          "Genomic<br>(M1)",
          "Genomic<br>(M1)",
          "Genomic<br>(M1)",
          "Genomic<br>(M1)",
          "Genomic<br>(M1)",
          "Genomic<br>(M1)",
          "Genomic<br>(M1)",
          "Genomic<br>(M1)",
          "Genomic<br>(M1)",
          "Genomic<br>(M1)",
          "Genomic<br>(M1)",
          "Genomic<br>(M1)",
          "Genomic<br>(M1)",
          "Genomic<br>(M1)",
          "Genomic<br>(M1)",
          "Genomic<br>(M1)",
          "Genomic<br>(M1)",
          "Genomic<br>(M1)",
          "Genomic<br>(M1)",
          "Genomic<br>(M1)"
         ],
         "x0": " ",
         "xaxis": "x",
         "y": [
          0.177102036,
          0.265770045,
          0.247749184,
          0.251452469,
          0.164980948,
          0.254030337,
          0.256397836,
          0.208931129,
          0.2009095,
          0.204816691,
          0.285913724,
          0.219275958,
          0.161894004,
          0.091644152,
          0.307932936,
          0.391299044,
          0.268195781,
          0.276806042,
          0.256092337,
          0.270827,
          0.195654596,
          0.267707042,
          0.187492665,
          0.271795402,
          0.094103916,
          0.239588532,
          0.242652917,
          0.244621843,
          0.238358817,
          0.348195656,
          0.250736494,
          0.138649389,
          0.331837678,
          0.236330024,
          0.157558092,
          0.334057919,
          0.288403761,
          0.22493867,
          0.206225135,
          0.222818483,
          0.151035115,
          0.168117251,
          0.240016653,
          0.293826087,
          0.236321612,
          0.259451144,
          0.192720538,
          0.218663433,
          0.142097229,
          0.279577732,
          0.266645391,
          0.17642401,
          0.316337917,
          0.173666217,
          0.253734795,
          0.373577641,
          0.209655379,
          0.353069777,
          0.250798284,
          0.195944863,
          0.262458313,
          0.170285507,
          0.219661503,
          0.294417358,
          0.19243508,
          0.280603511,
          0.229241983,
          0.33145294,
          0.147407323,
          0.245962121,
          0.264803389,
          0.284379306,
          0.280612769,
          0.23611144,
          0.334599842,
          0.199990491,
          0.238158511,
          0.194113163,
          0.136708671,
          0.266601327,
          0.273140418,
          0.253066561,
          0.196385772,
          0.102548706,
          0.244339879,
          0.233303953,
          0.188255769,
          0.334619028,
          0.307596119,
          0.352862363,
          0.306817111,
          0.204417242,
          0.239487893,
          0.312171069,
          0.240510238,
          0.252683495,
          0.288778602,
          0.232344645,
          0.264166686,
          0.211223386,
          0.283963002,
          0.295075949,
          0.125964306,
          0.16810871,
          0.237476717,
          0.265257921,
          0.265966966,
          0.24739899,
          0.109657507,
          0.227628245,
          0.272742087,
          0.233151791,
          0.34361433,
          0.226738017,
          0.159160311,
          0.2512376,
          0.149890887,
          0.370733409,
          0.163820121,
          0.197870784,
          0.200161872,
          0.160662226,
          0.253451122,
          0.337609537,
          0.292925609
         ],
         "y0": " ",
         "yaxis": "y"
        },
        {
         "alignmentgroup": "True",
         "hovertemplate": "Model=%{x}<br>cor=%{y}<extra></extra>",
         "legendgroup": "Phenomic:<br>All Season<br>(M2)",
         "marker": {
          "color": "#EF553B"
         },
         "name": "Phenomic:<br>All Season<br>(M2)",
         "notched": false,
         "offsetgroup": "Phenomic:<br>All Season<br>(M2)",
         "orientation": "v",
         "showlegend": true,
         "type": "box",
         "x": [
          "Phenomic:<br>All Season<br>(M2)",
          "Phenomic:<br>All Season<br>(M2)",
          "Phenomic:<br>All Season<br>(M2)",
          "Phenomic:<br>All Season<br>(M2)",
          "Phenomic:<br>All Season<br>(M2)",
          "Phenomic:<br>All Season<br>(M2)",
          "Phenomic:<br>All Season<br>(M2)",
          "Phenomic:<br>All Season<br>(M2)",
          "Phenomic:<br>All Season<br>(M2)",
          "Phenomic:<br>All Season<br>(M2)",
          "Phenomic:<br>All Season<br>(M2)",
          "Phenomic:<br>All Season<br>(M2)",
          "Phenomic:<br>All Season<br>(M2)",
          "Phenomic:<br>All Season<br>(M2)",
          "Phenomic:<br>All Season<br>(M2)",
          "Phenomic:<br>All Season<br>(M2)",
          "Phenomic:<br>All Season<br>(M2)",
          "Phenomic:<br>All Season<br>(M2)",
          "Phenomic:<br>All Season<br>(M2)",
          "Phenomic:<br>All Season<br>(M2)",
          "Phenomic:<br>All Season<br>(M2)",
          "Phenomic:<br>All Season<br>(M2)",
          "Phenomic:<br>All Season<br>(M2)",
          "Phenomic:<br>All Season<br>(M2)",
          "Phenomic:<br>All Season<br>(M2)",
          "Phenomic:<br>All Season<br>(M2)",
          "Phenomic:<br>All Season<br>(M2)",
          "Phenomic:<br>All Season<br>(M2)",
          "Phenomic:<br>All Season<br>(M2)",
          "Phenomic:<br>All Season<br>(M2)",
          "Phenomic:<br>All Season<br>(M2)",
          "Phenomic:<br>All Season<br>(M2)",
          "Phenomic:<br>All Season<br>(M2)",
          "Phenomic:<br>All Season<br>(M2)",
          "Phenomic:<br>All Season<br>(M2)",
          "Phenomic:<br>All Season<br>(M2)",
          "Phenomic:<br>All Season<br>(M2)",
          "Phenomic:<br>All Season<br>(M2)",
          "Phenomic:<br>All Season<br>(M2)",
          "Phenomic:<br>All Season<br>(M2)",
          "Phenomic:<br>All Season<br>(M2)",
          "Phenomic:<br>All Season<br>(M2)",
          "Phenomic:<br>All Season<br>(M2)",
          "Phenomic:<br>All Season<br>(M2)",
          "Phenomic:<br>All Season<br>(M2)",
          "Phenomic:<br>All Season<br>(M2)",
          "Phenomic:<br>All Season<br>(M2)",
          "Phenomic:<br>All Season<br>(M2)",
          "Phenomic:<br>All Season<br>(M2)",
          "Phenomic:<br>All Season<br>(M2)",
          "Phenomic:<br>All Season<br>(M2)",
          "Phenomic:<br>All Season<br>(M2)",
          "Phenomic:<br>All Season<br>(M2)",
          "Phenomic:<br>All Season<br>(M2)",
          "Phenomic:<br>All Season<br>(M2)",
          "Phenomic:<br>All Season<br>(M2)",
          "Phenomic:<br>All Season<br>(M2)",
          "Phenomic:<br>All Season<br>(M2)",
          "Phenomic:<br>All Season<br>(M2)",
          "Phenomic:<br>All Season<br>(M2)",
          "Phenomic:<br>All Season<br>(M2)",
          "Phenomic:<br>All Season<br>(M2)",
          "Phenomic:<br>All Season<br>(M2)",
          "Phenomic:<br>All Season<br>(M2)",
          "Phenomic:<br>All Season<br>(M2)",
          "Phenomic:<br>All Season<br>(M2)",
          "Phenomic:<br>All Season<br>(M2)",
          "Phenomic:<br>All Season<br>(M2)",
          "Phenomic:<br>All Season<br>(M2)",
          "Phenomic:<br>All Season<br>(M2)",
          "Phenomic:<br>All Season<br>(M2)",
          "Phenomic:<br>All Season<br>(M2)",
          "Phenomic:<br>All Season<br>(M2)",
          "Phenomic:<br>All Season<br>(M2)",
          "Phenomic:<br>All Season<br>(M2)",
          "Phenomic:<br>All Season<br>(M2)",
          "Phenomic:<br>All Season<br>(M2)",
          "Phenomic:<br>All Season<br>(M2)",
          "Phenomic:<br>All Season<br>(M2)",
          "Phenomic:<br>All Season<br>(M2)",
          "Phenomic:<br>All Season<br>(M2)",
          "Phenomic:<br>All Season<br>(M2)",
          "Phenomic:<br>All Season<br>(M2)",
          "Phenomic:<br>All Season<br>(M2)",
          "Phenomic:<br>All Season<br>(M2)",
          "Phenomic:<br>All Season<br>(M2)",
          "Phenomic:<br>All Season<br>(M2)",
          "Phenomic:<br>All Season<br>(M2)",
          "Phenomic:<br>All Season<br>(M2)",
          "Phenomic:<br>All Season<br>(M2)",
          "Phenomic:<br>All Season<br>(M2)",
          "Phenomic:<br>All Season<br>(M2)",
          "Phenomic:<br>All Season<br>(M2)",
          "Phenomic:<br>All Season<br>(M2)",
          "Phenomic:<br>All Season<br>(M2)",
          "Phenomic:<br>All Season<br>(M2)",
          "Phenomic:<br>All Season<br>(M2)",
          "Phenomic:<br>All Season<br>(M2)",
          "Phenomic:<br>All Season<br>(M2)",
          "Phenomic:<br>All Season<br>(M2)",
          "Phenomic:<br>All Season<br>(M2)",
          "Phenomic:<br>All Season<br>(M2)",
          "Phenomic:<br>All Season<br>(M2)",
          "Phenomic:<br>All Season<br>(M2)",
          "Phenomic:<br>All Season<br>(M2)",
          "Phenomic:<br>All Season<br>(M2)",
          "Phenomic:<br>All Season<br>(M2)",
          "Phenomic:<br>All Season<br>(M2)",
          "Phenomic:<br>All Season<br>(M2)",
          "Phenomic:<br>All Season<br>(M2)",
          "Phenomic:<br>All Season<br>(M2)",
          "Phenomic:<br>All Season<br>(M2)",
          "Phenomic:<br>All Season<br>(M2)",
          "Phenomic:<br>All Season<br>(M2)",
          "Phenomic:<br>All Season<br>(M2)",
          "Phenomic:<br>All Season<br>(M2)",
          "Phenomic:<br>All Season<br>(M2)",
          "Phenomic:<br>All Season<br>(M2)",
          "Phenomic:<br>All Season<br>(M2)",
          "Phenomic:<br>All Season<br>(M2)",
          "Phenomic:<br>All Season<br>(M2)",
          "Phenomic:<br>All Season<br>(M2)",
          "Phenomic:<br>All Season<br>(M2)",
          "Phenomic:<br>All Season<br>(M2)",
          "Phenomic:<br>All Season<br>(M2)"
         ],
         "x0": " ",
         "xaxis": "x",
         "y": [
          0.643158966,
          0.641129892,
          0.66973663,
          0.524366998,
          0.62079468,
          0.585413269,
          0.565687759,
          0.694445193,
          0.649120026,
          0.575147161,
          0.598529445,
          0.653042268,
          0.702880454,
          0.675146556,
          0.676392452,
          0.604457927,
          0.673104392,
          0.601918458,
          0.600150889,
          0.657559926,
          0.621477804,
          0.600074839,
          0.5811163,
          0.583020575,
          0.619031584,
          0.667123051,
          0.483902288,
          0.663877529,
          0.618477874,
          0.624640968,
          0.664928096,
          0.622617792,
          0.664635554,
          0.619047766,
          0.553256471,
          0.672813506,
          0.596453258,
          0.65927165,
          0.676015708,
          0.552830244,
          0.488402837,
          0.655994672,
          0.688454004,
          0.650925131,
          0.581373575,
          0.626427437,
          0.567648306,
          0.698761835,
          0.549870814,
          0.644087149,
          0.615114048,
          0.631740109,
          0.607839754,
          0.650737172,
          0.596987499,
          0.559569434,
          0.656635012,
          0.623533502,
          0.614987921,
          0.645063704,
          0.611552447,
          0.602656174,
          0.603583586,
          0.638739443,
          0.642217691,
          0.611013971,
          0.527557239,
          0.622381198,
          0.672066608,
          0.651222646,
          0.706419507,
          0.581106682,
          0.559649932,
          0.55489387,
          0.686607921,
          0.726246084,
          0.585622113,
          0.620059247,
          0.600351795,
          0.60010219,
          0.553962177,
          0.635474461,
          0.675750678,
          0.581735821,
          0.637886149,
          0.62598816,
          0.563856595,
          0.640922421,
          0.600588214,
          0.596590609,
          0.62260385,
          0.648862572,
          0.627877029,
          0.573198454,
          0.601134509,
          0.60456241,
          0.64474372,
          0.623054637,
          0.661458977,
          0.520114017,
          0.651078628,
          0.654763996,
          0.639608475,
          0.605128196,
          0.558184851,
          0.627781471,
          0.643202971,
          0.609258364,
          0.626958477,
          0.621528392,
          0.655715437,
          0.578489926,
          0.582037991,
          0.664274342,
          0.698371022,
          0.674060137,
          0.639526143,
          0.523280627,
          0.607451613,
          0.610888459,
          0.603559592,
          0.698049136,
          0.60376952,
          0.641809072,
          0.618753715
         ],
         "y0": " ",
         "yaxis": "y"
        },
        {
         "alignmentgroup": "True",
         "hovertemplate": "Model=%{x}<br>cor=%{y}<extra></extra>",
         "legendgroup": "Phenomic:<br>Pre-Flowering<br>(M3)",
         "marker": {
          "color": "#00cc96"
         },
         "name": "Phenomic:<br>Pre-Flowering<br>(M3)",
         "notched": false,
         "offsetgroup": "Phenomic:<br>Pre-Flowering<br>(M3)",
         "orientation": "v",
         "showlegend": true,
         "type": "box",
         "x": [
          "Phenomic:<br>Pre-Flowering<br>(M3)",
          "Phenomic:<br>Pre-Flowering<br>(M3)",
          "Phenomic:<br>Pre-Flowering<br>(M3)",
          "Phenomic:<br>Pre-Flowering<br>(M3)",
          "Phenomic:<br>Pre-Flowering<br>(M3)",
          "Phenomic:<br>Pre-Flowering<br>(M3)",
          "Phenomic:<br>Pre-Flowering<br>(M3)",
          "Phenomic:<br>Pre-Flowering<br>(M3)",
          "Phenomic:<br>Pre-Flowering<br>(M3)",
          "Phenomic:<br>Pre-Flowering<br>(M3)",
          "Phenomic:<br>Pre-Flowering<br>(M3)",
          "Phenomic:<br>Pre-Flowering<br>(M3)",
          "Phenomic:<br>Pre-Flowering<br>(M3)",
          "Phenomic:<br>Pre-Flowering<br>(M3)",
          "Phenomic:<br>Pre-Flowering<br>(M3)",
          "Phenomic:<br>Pre-Flowering<br>(M3)",
          "Phenomic:<br>Pre-Flowering<br>(M3)",
          "Phenomic:<br>Pre-Flowering<br>(M3)",
          "Phenomic:<br>Pre-Flowering<br>(M3)",
          "Phenomic:<br>Pre-Flowering<br>(M3)",
          "Phenomic:<br>Pre-Flowering<br>(M3)",
          "Phenomic:<br>Pre-Flowering<br>(M3)",
          "Phenomic:<br>Pre-Flowering<br>(M3)",
          "Phenomic:<br>Pre-Flowering<br>(M3)",
          "Phenomic:<br>Pre-Flowering<br>(M3)",
          "Phenomic:<br>Pre-Flowering<br>(M3)",
          "Phenomic:<br>Pre-Flowering<br>(M3)",
          "Phenomic:<br>Pre-Flowering<br>(M3)",
          "Phenomic:<br>Pre-Flowering<br>(M3)",
          "Phenomic:<br>Pre-Flowering<br>(M3)",
          "Phenomic:<br>Pre-Flowering<br>(M3)",
          "Phenomic:<br>Pre-Flowering<br>(M3)",
          "Phenomic:<br>Pre-Flowering<br>(M3)",
          "Phenomic:<br>Pre-Flowering<br>(M3)",
          "Phenomic:<br>Pre-Flowering<br>(M3)",
          "Phenomic:<br>Pre-Flowering<br>(M3)",
          "Phenomic:<br>Pre-Flowering<br>(M3)",
          "Phenomic:<br>Pre-Flowering<br>(M3)",
          "Phenomic:<br>Pre-Flowering<br>(M3)",
          "Phenomic:<br>Pre-Flowering<br>(M3)",
          "Phenomic:<br>Pre-Flowering<br>(M3)",
          "Phenomic:<br>Pre-Flowering<br>(M3)",
          "Phenomic:<br>Pre-Flowering<br>(M3)",
          "Phenomic:<br>Pre-Flowering<br>(M3)",
          "Phenomic:<br>Pre-Flowering<br>(M3)",
          "Phenomic:<br>Pre-Flowering<br>(M3)",
          "Phenomic:<br>Pre-Flowering<br>(M3)",
          "Phenomic:<br>Pre-Flowering<br>(M3)",
          "Phenomic:<br>Pre-Flowering<br>(M3)",
          "Phenomic:<br>Pre-Flowering<br>(M3)",
          "Phenomic:<br>Pre-Flowering<br>(M3)",
          "Phenomic:<br>Pre-Flowering<br>(M3)",
          "Phenomic:<br>Pre-Flowering<br>(M3)",
          "Phenomic:<br>Pre-Flowering<br>(M3)",
          "Phenomic:<br>Pre-Flowering<br>(M3)",
          "Phenomic:<br>Pre-Flowering<br>(M3)",
          "Phenomic:<br>Pre-Flowering<br>(M3)",
          "Phenomic:<br>Pre-Flowering<br>(M3)",
          "Phenomic:<br>Pre-Flowering<br>(M3)",
          "Phenomic:<br>Pre-Flowering<br>(M3)",
          "Phenomic:<br>Pre-Flowering<br>(M3)",
          "Phenomic:<br>Pre-Flowering<br>(M3)",
          "Phenomic:<br>Pre-Flowering<br>(M3)",
          "Phenomic:<br>Pre-Flowering<br>(M3)",
          "Phenomic:<br>Pre-Flowering<br>(M3)",
          "Phenomic:<br>Pre-Flowering<br>(M3)",
          "Phenomic:<br>Pre-Flowering<br>(M3)",
          "Phenomic:<br>Pre-Flowering<br>(M3)",
          "Phenomic:<br>Pre-Flowering<br>(M3)",
          "Phenomic:<br>Pre-Flowering<br>(M3)",
          "Phenomic:<br>Pre-Flowering<br>(M3)",
          "Phenomic:<br>Pre-Flowering<br>(M3)",
          "Phenomic:<br>Pre-Flowering<br>(M3)",
          "Phenomic:<br>Pre-Flowering<br>(M3)",
          "Phenomic:<br>Pre-Flowering<br>(M3)",
          "Phenomic:<br>Pre-Flowering<br>(M3)",
          "Phenomic:<br>Pre-Flowering<br>(M3)",
          "Phenomic:<br>Pre-Flowering<br>(M3)",
          "Phenomic:<br>Pre-Flowering<br>(M3)",
          "Phenomic:<br>Pre-Flowering<br>(M3)",
          "Phenomic:<br>Pre-Flowering<br>(M3)",
          "Phenomic:<br>Pre-Flowering<br>(M3)",
          "Phenomic:<br>Pre-Flowering<br>(M3)",
          "Phenomic:<br>Pre-Flowering<br>(M3)",
          "Phenomic:<br>Pre-Flowering<br>(M3)",
          "Phenomic:<br>Pre-Flowering<br>(M3)",
          "Phenomic:<br>Pre-Flowering<br>(M3)",
          "Phenomic:<br>Pre-Flowering<br>(M3)",
          "Phenomic:<br>Pre-Flowering<br>(M3)",
          "Phenomic:<br>Pre-Flowering<br>(M3)",
          "Phenomic:<br>Pre-Flowering<br>(M3)",
          "Phenomic:<br>Pre-Flowering<br>(M3)",
          "Phenomic:<br>Pre-Flowering<br>(M3)",
          "Phenomic:<br>Pre-Flowering<br>(M3)",
          "Phenomic:<br>Pre-Flowering<br>(M3)",
          "Phenomic:<br>Pre-Flowering<br>(M3)",
          "Phenomic:<br>Pre-Flowering<br>(M3)",
          "Phenomic:<br>Pre-Flowering<br>(M3)",
          "Phenomic:<br>Pre-Flowering<br>(M3)",
          "Phenomic:<br>Pre-Flowering<br>(M3)",
          "Phenomic:<br>Pre-Flowering<br>(M3)",
          "Phenomic:<br>Pre-Flowering<br>(M3)",
          "Phenomic:<br>Pre-Flowering<br>(M3)",
          "Phenomic:<br>Pre-Flowering<br>(M3)",
          "Phenomic:<br>Pre-Flowering<br>(M3)",
          "Phenomic:<br>Pre-Flowering<br>(M3)",
          "Phenomic:<br>Pre-Flowering<br>(M3)",
          "Phenomic:<br>Pre-Flowering<br>(M3)",
          "Phenomic:<br>Pre-Flowering<br>(M3)",
          "Phenomic:<br>Pre-Flowering<br>(M3)",
          "Phenomic:<br>Pre-Flowering<br>(M3)",
          "Phenomic:<br>Pre-Flowering<br>(M3)",
          "Phenomic:<br>Pre-Flowering<br>(M3)",
          "Phenomic:<br>Pre-Flowering<br>(M3)",
          "Phenomic:<br>Pre-Flowering<br>(M3)",
          "Phenomic:<br>Pre-Flowering<br>(M3)",
          "Phenomic:<br>Pre-Flowering<br>(M3)",
          "Phenomic:<br>Pre-Flowering<br>(M3)",
          "Phenomic:<br>Pre-Flowering<br>(M3)",
          "Phenomic:<br>Pre-Flowering<br>(M3)",
          "Phenomic:<br>Pre-Flowering<br>(M3)",
          "Phenomic:<br>Pre-Flowering<br>(M3)",
          "Phenomic:<br>Pre-Flowering<br>(M3)",
          "Phenomic:<br>Pre-Flowering<br>(M3)",
          "Phenomic:<br>Pre-Flowering<br>(M3)"
         ],
         "x0": " ",
         "xaxis": "x",
         "y": [
          0.600546446,
          0.585872837,
          0.584533047,
          0.58098924,
          0.560701604,
          0.612559076,
          0.625433418,
          0.59249589,
          0.540750772,
          0.625649388,
          0.524575622,
          0.642177316,
          0.605412403,
          0.61399479,
          0.586476847,
          0.603475244,
          0.604537914,
          0.588880111,
          0.661276128,
          0.651497691,
          0.545360392,
          0.578717246,
          0.564687005,
          0.625778351,
          0.593436273,
          0.543046893,
          0.559921445,
          0.653779585,
          0.598088801,
          0.541773827,
          0.567132085,
          0.574669735,
          0.642063145,
          0.542966237,
          0.493026723,
          0.601931556,
          0.630692199,
          0.596579236,
          0.516135567,
          0.623836717,
          0.604408397,
          0.595506174,
          0.646537296,
          0.514997969,
          0.636283483,
          0.605576446,
          0.575613726,
          0.585119894,
          0.526480472,
          0.600121288,
          0.663313363,
          0.540494803,
          0.671035445,
          0.607035369,
          0.543444396,
          0.582654772,
          0.532721194,
          0.613757828,
          0.55641251,
          0.614505503,
          0.571169523,
          0.562271058,
          0.606998143,
          0.630553383,
          0.458687881,
          0.610319938,
          0.630096979,
          0.608797637,
          0.594242947,
          0.572233004,
          0.617183162,
          0.552652819,
          0.566388428,
          0.511580679,
          0.572277067,
          0.626678224,
          0.60655956,
          0.641505595,
          0.524525852,
          0.621886812,
          0.617010564,
          0.648983633,
          0.495375622,
          0.579648785,
          0.604608504,
          0.524335163,
          0.622624247,
          0.612495028,
          0.571186507,
          0.573876365,
          0.661998586,
          0.586767507,
          0.649361445,
          0.590711134,
          0.581907941,
          0.62704344,
          0.62691821,
          0.597795519,
          0.599523319,
          0.570180855,
          0.598036435,
          0.538105512,
          0.588607764,
          0.625678002,
          0.539794766,
          0.623095879,
          0.618698746,
          0.56138096,
          0.508413801,
          0.574941255,
          0.619645695,
          0.630430959,
          0.695073374,
          0.536172161,
          0.59388564,
          0.483125505,
          0.6233904,
          0.521913454,
          0.612719494,
          0.615997507,
          0.600699516,
          0.58268343,
          0.53538838,
          0.589550576,
          0.543685915
         ],
         "y0": " ",
         "yaxis": "y"
        }
       ],
       "layout": {
        "autosize": false,
        "boxmode": "overlay",
        "height": 500,
        "legend": {
         "title": {
          "text": "Model"
         },
         "tracegroupgap": 0
        },
        "margin": {
         "t": 60
        },
        "showlegend": false,
        "template": {
         "data": {
          "bar": [
           {
            "error_x": {
             "color": "#2a3f5f"
            },
            "error_y": {
             "color": "#2a3f5f"
            },
            "marker": {
             "line": {
              "color": "#E5ECF6",
              "width": 0.5
             },
             "pattern": {
              "fillmode": "overlay",
              "size": 10,
              "solidity": 0.2
             }
            },
            "type": "bar"
           }
          ],
          "barpolar": [
           {
            "marker": {
             "line": {
              "color": "#E5ECF6",
              "width": 0.5
             },
             "pattern": {
              "fillmode": "overlay",
              "size": 10,
              "solidity": 0.2
             }
            },
            "type": "barpolar"
           }
          ],
          "carpet": [
           {
            "aaxis": {
             "endlinecolor": "#2a3f5f",
             "gridcolor": "white",
             "linecolor": "white",
             "minorgridcolor": "white",
             "startlinecolor": "#2a3f5f"
            },
            "baxis": {
             "endlinecolor": "#2a3f5f",
             "gridcolor": "white",
             "linecolor": "white",
             "minorgridcolor": "white",
             "startlinecolor": "#2a3f5f"
            },
            "type": "carpet"
           }
          ],
          "choropleth": [
           {
            "colorbar": {
             "outlinewidth": 0,
             "ticks": ""
            },
            "type": "choropleth"
           }
          ],
          "contour": [
           {
            "colorbar": {
             "outlinewidth": 0,
             "ticks": ""
            },
            "colorscale": [
             [
              0,
              "#0d0887"
             ],
             [
              0.1111111111111111,
              "#46039f"
             ],
             [
              0.2222222222222222,
              "#7201a8"
             ],
             [
              0.3333333333333333,
              "#9c179e"
             ],
             [
              0.4444444444444444,
              "#bd3786"
             ],
             [
              0.5555555555555556,
              "#d8576b"
             ],
             [
              0.6666666666666666,
              "#ed7953"
             ],
             [
              0.7777777777777778,
              "#fb9f3a"
             ],
             [
              0.8888888888888888,
              "#fdca26"
             ],
             [
              1,
              "#f0f921"
             ]
            ],
            "type": "contour"
           }
          ],
          "contourcarpet": [
           {
            "colorbar": {
             "outlinewidth": 0,
             "ticks": ""
            },
            "type": "contourcarpet"
           }
          ],
          "heatmap": [
           {
            "colorbar": {
             "outlinewidth": 0,
             "ticks": ""
            },
            "colorscale": [
             [
              0,
              "#0d0887"
             ],
             [
              0.1111111111111111,
              "#46039f"
             ],
             [
              0.2222222222222222,
              "#7201a8"
             ],
             [
              0.3333333333333333,
              "#9c179e"
             ],
             [
              0.4444444444444444,
              "#bd3786"
             ],
             [
              0.5555555555555556,
              "#d8576b"
             ],
             [
              0.6666666666666666,
              "#ed7953"
             ],
             [
              0.7777777777777778,
              "#fb9f3a"
             ],
             [
              0.8888888888888888,
              "#fdca26"
             ],
             [
              1,
              "#f0f921"
             ]
            ],
            "type": "heatmap"
           }
          ],
          "heatmapgl": [
           {
            "colorbar": {
             "outlinewidth": 0,
             "ticks": ""
            },
            "colorscale": [
             [
              0,
              "#0d0887"
             ],
             [
              0.1111111111111111,
              "#46039f"
             ],
             [
              0.2222222222222222,
              "#7201a8"
             ],
             [
              0.3333333333333333,
              "#9c179e"
             ],
             [
              0.4444444444444444,
              "#bd3786"
             ],
             [
              0.5555555555555556,
              "#d8576b"
             ],
             [
              0.6666666666666666,
              "#ed7953"
             ],
             [
              0.7777777777777778,
              "#fb9f3a"
             ],
             [
              0.8888888888888888,
              "#fdca26"
             ],
             [
              1,
              "#f0f921"
             ]
            ],
            "type": "heatmapgl"
           }
          ],
          "histogram": [
           {
            "marker": {
             "pattern": {
              "fillmode": "overlay",
              "size": 10,
              "solidity": 0.2
             }
            },
            "type": "histogram"
           }
          ],
          "histogram2d": [
           {
            "colorbar": {
             "outlinewidth": 0,
             "ticks": ""
            },
            "colorscale": [
             [
              0,
              "#0d0887"
             ],
             [
              0.1111111111111111,
              "#46039f"
             ],
             [
              0.2222222222222222,
              "#7201a8"
             ],
             [
              0.3333333333333333,
              "#9c179e"
             ],
             [
              0.4444444444444444,
              "#bd3786"
             ],
             [
              0.5555555555555556,
              "#d8576b"
             ],
             [
              0.6666666666666666,
              "#ed7953"
             ],
             [
              0.7777777777777778,
              "#fb9f3a"
             ],
             [
              0.8888888888888888,
              "#fdca26"
             ],
             [
              1,
              "#f0f921"
             ]
            ],
            "type": "histogram2d"
           }
          ],
          "histogram2dcontour": [
           {
            "colorbar": {
             "outlinewidth": 0,
             "ticks": ""
            },
            "colorscale": [
             [
              0,
              "#0d0887"
             ],
             [
              0.1111111111111111,
              "#46039f"
             ],
             [
              0.2222222222222222,
              "#7201a8"
             ],
             [
              0.3333333333333333,
              "#9c179e"
             ],
             [
              0.4444444444444444,
              "#bd3786"
             ],
             [
              0.5555555555555556,
              "#d8576b"
             ],
             [
              0.6666666666666666,
              "#ed7953"
             ],
             [
              0.7777777777777778,
              "#fb9f3a"
             ],
             [
              0.8888888888888888,
              "#fdca26"
             ],
             [
              1,
              "#f0f921"
             ]
            ],
            "type": "histogram2dcontour"
           }
          ],
          "mesh3d": [
           {
            "colorbar": {
             "outlinewidth": 0,
             "ticks": ""
            },
            "type": "mesh3d"
           }
          ],
          "parcoords": [
           {
            "line": {
             "colorbar": {
              "outlinewidth": 0,
              "ticks": ""
             }
            },
            "type": "parcoords"
           }
          ],
          "pie": [
           {
            "automargin": true,
            "type": "pie"
           }
          ],
          "scatter": [
           {
            "fillpattern": {
             "fillmode": "overlay",
             "size": 10,
             "solidity": 0.2
            },
            "type": "scatter"
           }
          ],
          "scatter3d": [
           {
            "line": {
             "colorbar": {
              "outlinewidth": 0,
              "ticks": ""
             }
            },
            "marker": {
             "colorbar": {
              "outlinewidth": 0,
              "ticks": ""
             }
            },
            "type": "scatter3d"
           }
          ],
          "scattercarpet": [
           {
            "marker": {
             "colorbar": {
              "outlinewidth": 0,
              "ticks": ""
             }
            },
            "type": "scattercarpet"
           }
          ],
          "scattergeo": [
           {
            "marker": {
             "colorbar": {
              "outlinewidth": 0,
              "ticks": ""
             }
            },
            "type": "scattergeo"
           }
          ],
          "scattergl": [
           {
            "marker": {
             "colorbar": {
              "outlinewidth": 0,
              "ticks": ""
             }
            },
            "type": "scattergl"
           }
          ],
          "scattermapbox": [
           {
            "marker": {
             "colorbar": {
              "outlinewidth": 0,
              "ticks": ""
             }
            },
            "type": "scattermapbox"
           }
          ],
          "scatterpolar": [
           {
            "marker": {
             "colorbar": {
              "outlinewidth": 0,
              "ticks": ""
             }
            },
            "type": "scatterpolar"
           }
          ],
          "scatterpolargl": [
           {
            "marker": {
             "colorbar": {
              "outlinewidth": 0,
              "ticks": ""
             }
            },
            "type": "scatterpolargl"
           }
          ],
          "scatterternary": [
           {
            "marker": {
             "colorbar": {
              "outlinewidth": 0,
              "ticks": ""
             }
            },
            "type": "scatterternary"
           }
          ],
          "surface": [
           {
            "colorbar": {
             "outlinewidth": 0,
             "ticks": ""
            },
            "colorscale": [
             [
              0,
              "#0d0887"
             ],
             [
              0.1111111111111111,
              "#46039f"
             ],
             [
              0.2222222222222222,
              "#7201a8"
             ],
             [
              0.3333333333333333,
              "#9c179e"
             ],
             [
              0.4444444444444444,
              "#bd3786"
             ],
             [
              0.5555555555555556,
              "#d8576b"
             ],
             [
              0.6666666666666666,
              "#ed7953"
             ],
             [
              0.7777777777777778,
              "#fb9f3a"
             ],
             [
              0.8888888888888888,
              "#fdca26"
             ],
             [
              1,
              "#f0f921"
             ]
            ],
            "type": "surface"
           }
          ],
          "table": [
           {
            "cells": {
             "fill": {
              "color": "#EBF0F8"
             },
             "line": {
              "color": "white"
             }
            },
            "header": {
             "fill": {
              "color": "#C8D4E3"
             },
             "line": {
              "color": "white"
             }
            },
            "type": "table"
           }
          ]
         },
         "layout": {
          "annotationdefaults": {
           "arrowcolor": "#2a3f5f",
           "arrowhead": 0,
           "arrowwidth": 1
          },
          "autotypenumbers": "strict",
          "coloraxis": {
           "colorbar": {
            "outlinewidth": 0,
            "ticks": ""
           }
          },
          "colorscale": {
           "diverging": [
            [
             0,
             "#8e0152"
            ],
            [
             0.1,
             "#c51b7d"
            ],
            [
             0.2,
             "#de77ae"
            ],
            [
             0.3,
             "#f1b6da"
            ],
            [
             0.4,
             "#fde0ef"
            ],
            [
             0.5,
             "#f7f7f7"
            ],
            [
             0.6,
             "#e6f5d0"
            ],
            [
             0.7,
             "#b8e186"
            ],
            [
             0.8,
             "#7fbc41"
            ],
            [
             0.9,
             "#4d9221"
            ],
            [
             1,
             "#276419"
            ]
           ],
           "sequential": [
            [
             0,
             "#0d0887"
            ],
            [
             0.1111111111111111,
             "#46039f"
            ],
            [
             0.2222222222222222,
             "#7201a8"
            ],
            [
             0.3333333333333333,
             "#9c179e"
            ],
            [
             0.4444444444444444,
             "#bd3786"
            ],
            [
             0.5555555555555556,
             "#d8576b"
            ],
            [
             0.6666666666666666,
             "#ed7953"
            ],
            [
             0.7777777777777778,
             "#fb9f3a"
            ],
            [
             0.8888888888888888,
             "#fdca26"
            ],
            [
             1,
             "#f0f921"
            ]
           ],
           "sequentialminus": [
            [
             0,
             "#0d0887"
            ],
            [
             0.1111111111111111,
             "#46039f"
            ],
            [
             0.2222222222222222,
             "#7201a8"
            ],
            [
             0.3333333333333333,
             "#9c179e"
            ],
            [
             0.4444444444444444,
             "#bd3786"
            ],
            [
             0.5555555555555556,
             "#d8576b"
            ],
            [
             0.6666666666666666,
             "#ed7953"
            ],
            [
             0.7777777777777778,
             "#fb9f3a"
            ],
            [
             0.8888888888888888,
             "#fdca26"
            ],
            [
             1,
             "#f0f921"
            ]
           ]
          },
          "colorway": [
           "#636efa",
           "#EF553B",
           "#00cc96",
           "#ab63fa",
           "#FFA15A",
           "#19d3f3",
           "#FF6692",
           "#B6E880",
           "#FF97FF",
           "#FECB52"
          ],
          "font": {
           "color": "#2a3f5f"
          },
          "geo": {
           "bgcolor": "white",
           "lakecolor": "white",
           "landcolor": "#E5ECF6",
           "showlakes": true,
           "showland": true,
           "subunitcolor": "white"
          },
          "hoverlabel": {
           "align": "left"
          },
          "hovermode": "closest",
          "mapbox": {
           "style": "light"
          },
          "paper_bgcolor": "white",
          "plot_bgcolor": "#E5ECF6",
          "polar": {
           "angularaxis": {
            "gridcolor": "white",
            "linecolor": "white",
            "ticks": ""
           },
           "bgcolor": "#E5ECF6",
           "radialaxis": {
            "gridcolor": "white",
            "linecolor": "white",
            "ticks": ""
           }
          },
          "scene": {
           "xaxis": {
            "backgroundcolor": "#E5ECF6",
            "gridcolor": "white",
            "gridwidth": 2,
            "linecolor": "white",
            "showbackground": true,
            "ticks": "",
            "zerolinecolor": "white"
           },
           "yaxis": {
            "backgroundcolor": "#E5ECF6",
            "gridcolor": "white",
            "gridwidth": 2,
            "linecolor": "white",
            "showbackground": true,
            "ticks": "",
            "zerolinecolor": "white"
           },
           "zaxis": {
            "backgroundcolor": "#E5ECF6",
            "gridcolor": "white",
            "gridwidth": 2,
            "linecolor": "white",
            "showbackground": true,
            "ticks": "",
            "zerolinecolor": "white"
           }
          },
          "shapedefaults": {
           "line": {
            "color": "#2a3f5f"
           }
          },
          "ternary": {
           "aaxis": {
            "gridcolor": "white",
            "linecolor": "white",
            "ticks": ""
           },
           "baxis": {
            "gridcolor": "white",
            "linecolor": "white",
            "ticks": ""
           },
           "bgcolor": "#E5ECF6",
           "caxis": {
            "gridcolor": "white",
            "linecolor": "white",
            "ticks": ""
           }
          },
          "title": {
           "x": 0.05
          },
          "xaxis": {
           "automargin": true,
           "gridcolor": "white",
           "linecolor": "white",
           "ticks": "",
           "title": {
            "standoff": 15
           },
           "zerolinecolor": "white",
           "zerolinewidth": 2
          },
          "yaxis": {
           "automargin": true,
           "gridcolor": "white",
           "linecolor": "white",
           "ticks": "",
           "title": {
            "standoff": 15
           },
           "zerolinecolor": "white",
           "zerolinewidth": 2
          }
         }
        },
        "width": 500,
        "xaxis": {
         "anchor": "y",
         "categoryarray": [
          "Genomic<br>(M1)",
          "Phenomic:<br>All Season<br>(M2)",
          "Phenomic:<br>Pre-Flowering<br>(M3)"
         ],
         "categoryorder": "array",
         "domain": [
          0,
          1
         ],
         "title": {
          "text": ""
         }
        },
        "yaxis": {
         "anchor": "x",
         "domain": [
          0,
          1
         ],
         "title": {
          "text": "Prediction Ability (pearson r)"
         }
        }
       }
      },
      "text/html": [
       "<div>                            <div id=\"720a837d-4974-415c-9cc8-3288459e9079\" class=\"plotly-graph-div\" style=\"height:500px; width:500px;\"></div>            <script type=\"text/javascript\">                require([\"plotly\"], function(Plotly) {                    window.PLOTLYENV=window.PLOTLYENV || {};                                    if (document.getElementById(\"720a837d-4974-415c-9cc8-3288459e9079\")) {                    Plotly.newPlot(                        \"720a837d-4974-415c-9cc8-3288459e9079\",                        [{\"alignmentgroup\":\"True\",\"hovertemplate\":\"Model=%{x}\\u003cbr\\u003ecor=%{y}\\u003cextra\\u003e\\u003c\\u002fextra\\u003e\",\"legendgroup\":\"Genomic\\u003cbr\\u003e(M1)\",\"marker\":{\"color\":\"#636efa\"},\"name\":\"Genomic\\u003cbr\\u003e(M1)\",\"notched\":false,\"offsetgroup\":\"Genomic\\u003cbr\\u003e(M1)\",\"orientation\":\"v\",\"showlegend\":true,\"x\":[\"Genomic\\u003cbr\\u003e(M1)\",\"Genomic\\u003cbr\\u003e(M1)\",\"Genomic\\u003cbr\\u003e(M1)\",\"Genomic\\u003cbr\\u003e(M1)\",\"Genomic\\u003cbr\\u003e(M1)\",\"Genomic\\u003cbr\\u003e(M1)\",\"Genomic\\u003cbr\\u003e(M1)\",\"Genomic\\u003cbr\\u003e(M1)\",\"Genomic\\u003cbr\\u003e(M1)\",\"Genomic\\u003cbr\\u003e(M1)\",\"Genomic\\u003cbr\\u003e(M1)\",\"Genomic\\u003cbr\\u003e(M1)\",\"Genomic\\u003cbr\\u003e(M1)\",\"Genomic\\u003cbr\\u003e(M1)\",\"Genomic\\u003cbr\\u003e(M1)\",\"Genomic\\u003cbr\\u003e(M1)\",\"Genomic\\u003cbr\\u003e(M1)\",\"Genomic\\u003cbr\\u003e(M1)\",\"Genomic\\u003cbr\\u003e(M1)\",\"Genomic\\u003cbr\\u003e(M1)\",\"Genomic\\u003cbr\\u003e(M1)\",\"Genomic\\u003cbr\\u003e(M1)\",\"Genomic\\u003cbr\\u003e(M1)\",\"Genomic\\u003cbr\\u003e(M1)\",\"Genomic\\u003cbr\\u003e(M1)\",\"Genomic\\u003cbr\\u003e(M1)\",\"Genomic\\u003cbr\\u003e(M1)\",\"Genomic\\u003cbr\\u003e(M1)\",\"Genomic\\u003cbr\\u003e(M1)\",\"Genomic\\u003cbr\\u003e(M1)\",\"Genomic\\u003cbr\\u003e(M1)\",\"Genomic\\u003cbr\\u003e(M1)\",\"Genomic\\u003cbr\\u003e(M1)\",\"Genomic\\u003cbr\\u003e(M1)\",\"Genomic\\u003cbr\\u003e(M1)\",\"Genomic\\u003cbr\\u003e(M1)\",\"Genomic\\u003cbr\\u003e(M1)\",\"Genomic\\u003cbr\\u003e(M1)\",\"Genomic\\u003cbr\\u003e(M1)\",\"Genomic\\u003cbr\\u003e(M1)\",\"Genomic\\u003cbr\\u003e(M1)\",\"Genomic\\u003cbr\\u003e(M1)\",\"Genomic\\u003cbr\\u003e(M1)\",\"Genomic\\u003cbr\\u003e(M1)\",\"Genomic\\u003cbr\\u003e(M1)\",\"Genomic\\u003cbr\\u003e(M1)\",\"Genomic\\u003cbr\\u003e(M1)\",\"Genomic\\u003cbr\\u003e(M1)\",\"Genomic\\u003cbr\\u003e(M1)\",\"Genomic\\u003cbr\\u003e(M1)\",\"Genomic\\u003cbr\\u003e(M1)\",\"Genomic\\u003cbr\\u003e(M1)\",\"Genomic\\u003cbr\\u003e(M1)\",\"Genomic\\u003cbr\\u003e(M1)\",\"Genomic\\u003cbr\\u003e(M1)\",\"Genomic\\u003cbr\\u003e(M1)\",\"Genomic\\u003cbr\\u003e(M1)\",\"Genomic\\u003cbr\\u003e(M1)\",\"Genomic\\u003cbr\\u003e(M1)\",\"Genomic\\u003cbr\\u003e(M1)\",\"Genomic\\u003cbr\\u003e(M1)\",\"Genomic\\u003cbr\\u003e(M1)\",\"Genomic\\u003cbr\\u003e(M1)\",\"Genomic\\u003cbr\\u003e(M1)\",\"Genomic\\u003cbr\\u003e(M1)\",\"Genomic\\u003cbr\\u003e(M1)\",\"Genomic\\u003cbr\\u003e(M1)\",\"Genomic\\u003cbr\\u003e(M1)\",\"Genomic\\u003cbr\\u003e(M1)\",\"Genomic\\u003cbr\\u003e(M1)\",\"Genomic\\u003cbr\\u003e(M1)\",\"Genomic\\u003cbr\\u003e(M1)\",\"Genomic\\u003cbr\\u003e(M1)\",\"Genomic\\u003cbr\\u003e(M1)\",\"Genomic\\u003cbr\\u003e(M1)\",\"Genomic\\u003cbr\\u003e(M1)\",\"Genomic\\u003cbr\\u003e(M1)\",\"Genomic\\u003cbr\\u003e(M1)\",\"Genomic\\u003cbr\\u003e(M1)\",\"Genomic\\u003cbr\\u003e(M1)\",\"Genomic\\u003cbr\\u003e(M1)\",\"Genomic\\u003cbr\\u003e(M1)\",\"Genomic\\u003cbr\\u003e(M1)\",\"Genomic\\u003cbr\\u003e(M1)\",\"Genomic\\u003cbr\\u003e(M1)\",\"Genomic\\u003cbr\\u003e(M1)\",\"Genomic\\u003cbr\\u003e(M1)\",\"Genomic\\u003cbr\\u003e(M1)\",\"Genomic\\u003cbr\\u003e(M1)\",\"Genomic\\u003cbr\\u003e(M1)\",\"Genomic\\u003cbr\\u003e(M1)\",\"Genomic\\u003cbr\\u003e(M1)\",\"Genomic\\u003cbr\\u003e(M1)\",\"Genomic\\u003cbr\\u003e(M1)\",\"Genomic\\u003cbr\\u003e(M1)\",\"Genomic\\u003cbr\\u003e(M1)\",\"Genomic\\u003cbr\\u003e(M1)\",\"Genomic\\u003cbr\\u003e(M1)\",\"Genomic\\u003cbr\\u003e(M1)\",\"Genomic\\u003cbr\\u003e(M1)\",\"Genomic\\u003cbr\\u003e(M1)\",\"Genomic\\u003cbr\\u003e(M1)\",\"Genomic\\u003cbr\\u003e(M1)\",\"Genomic\\u003cbr\\u003e(M1)\",\"Genomic\\u003cbr\\u003e(M1)\",\"Genomic\\u003cbr\\u003e(M1)\",\"Genomic\\u003cbr\\u003e(M1)\",\"Genomic\\u003cbr\\u003e(M1)\",\"Genomic\\u003cbr\\u003e(M1)\",\"Genomic\\u003cbr\\u003e(M1)\",\"Genomic\\u003cbr\\u003e(M1)\",\"Genomic\\u003cbr\\u003e(M1)\",\"Genomic\\u003cbr\\u003e(M1)\",\"Genomic\\u003cbr\\u003e(M1)\",\"Genomic\\u003cbr\\u003e(M1)\",\"Genomic\\u003cbr\\u003e(M1)\",\"Genomic\\u003cbr\\u003e(M1)\",\"Genomic\\u003cbr\\u003e(M1)\",\"Genomic\\u003cbr\\u003e(M1)\",\"Genomic\\u003cbr\\u003e(M1)\",\"Genomic\\u003cbr\\u003e(M1)\",\"Genomic\\u003cbr\\u003e(M1)\",\"Genomic\\u003cbr\\u003e(M1)\",\"Genomic\\u003cbr\\u003e(M1)\",\"Genomic\\u003cbr\\u003e(M1)\"],\"x0\":\" \",\"xaxis\":\"x\",\"y\":[0.177102036,0.265770045,0.247749184,0.251452469,0.164980948,0.254030337,0.256397836,0.208931129,0.2009095,0.204816691,0.285913724,0.219275958,0.161894004,0.091644152,0.307932936,0.391299044,0.268195781,0.276806042,0.256092337,0.270827,0.195654596,0.267707042,0.187492665,0.271795402,0.094103916,0.239588532,0.242652917,0.244621843,0.238358817,0.348195656,0.250736494,0.138649389,0.331837678,0.236330024,0.157558092,0.334057919,0.288403761,0.22493867,0.206225135,0.222818483,0.151035115,0.168117251,0.240016653,0.293826087,0.236321612,0.259451144,0.192720538,0.218663433,0.142097229,0.279577732,0.266645391,0.17642401,0.316337917,0.173666217,0.253734795,0.373577641,0.209655379,0.353069777,0.250798284,0.195944863,0.262458313,0.170285507,0.219661503,0.294417358,0.19243508,0.280603511,0.229241983,0.33145294,0.147407323,0.245962121,0.264803389,0.284379306,0.280612769,0.23611144,0.334599842,0.199990491,0.238158511,0.194113163,0.136708671,0.266601327,0.273140418,0.253066561,0.196385772,0.102548706,0.244339879,0.233303953,0.188255769,0.334619028,0.307596119,0.352862363,0.306817111,0.204417242,0.239487893,0.312171069,0.240510238,0.252683495,0.288778602,0.232344645,0.264166686,0.211223386,0.283963002,0.295075949,0.125964306,0.16810871,0.237476717,0.265257921,0.265966966,0.24739899,0.109657507,0.227628245,0.272742087,0.233151791,0.34361433,0.226738017,0.159160311,0.2512376,0.149890887,0.370733409,0.163820121,0.197870784,0.200161872,0.160662226,0.253451122,0.337609537,0.292925609],\"y0\":\" \",\"yaxis\":\"y\",\"type\":\"box\"},{\"alignmentgroup\":\"True\",\"hovertemplate\":\"Model=%{x}\\u003cbr\\u003ecor=%{y}\\u003cextra\\u003e\\u003c\\u002fextra\\u003e\",\"legendgroup\":\"Phenomic:\\u003cbr\\u003eAll Season\\u003cbr\\u003e(M2)\",\"marker\":{\"color\":\"#EF553B\"},\"name\":\"Phenomic:\\u003cbr\\u003eAll Season\\u003cbr\\u003e(M2)\",\"notched\":false,\"offsetgroup\":\"Phenomic:\\u003cbr\\u003eAll Season\\u003cbr\\u003e(M2)\",\"orientation\":\"v\",\"showlegend\":true,\"x\":[\"Phenomic:\\u003cbr\\u003eAll Season\\u003cbr\\u003e(M2)\",\"Phenomic:\\u003cbr\\u003eAll Season\\u003cbr\\u003e(M2)\",\"Phenomic:\\u003cbr\\u003eAll Season\\u003cbr\\u003e(M2)\",\"Phenomic:\\u003cbr\\u003eAll Season\\u003cbr\\u003e(M2)\",\"Phenomic:\\u003cbr\\u003eAll Season\\u003cbr\\u003e(M2)\",\"Phenomic:\\u003cbr\\u003eAll Season\\u003cbr\\u003e(M2)\",\"Phenomic:\\u003cbr\\u003eAll Season\\u003cbr\\u003e(M2)\",\"Phenomic:\\u003cbr\\u003eAll Season\\u003cbr\\u003e(M2)\",\"Phenomic:\\u003cbr\\u003eAll Season\\u003cbr\\u003e(M2)\",\"Phenomic:\\u003cbr\\u003eAll Season\\u003cbr\\u003e(M2)\",\"Phenomic:\\u003cbr\\u003eAll Season\\u003cbr\\u003e(M2)\",\"Phenomic:\\u003cbr\\u003eAll Season\\u003cbr\\u003e(M2)\",\"Phenomic:\\u003cbr\\u003eAll Season\\u003cbr\\u003e(M2)\",\"Phenomic:\\u003cbr\\u003eAll Season\\u003cbr\\u003e(M2)\",\"Phenomic:\\u003cbr\\u003eAll Season\\u003cbr\\u003e(M2)\",\"Phenomic:\\u003cbr\\u003eAll Season\\u003cbr\\u003e(M2)\",\"Phenomic:\\u003cbr\\u003eAll Season\\u003cbr\\u003e(M2)\",\"Phenomic:\\u003cbr\\u003eAll Season\\u003cbr\\u003e(M2)\",\"Phenomic:\\u003cbr\\u003eAll Season\\u003cbr\\u003e(M2)\",\"Phenomic:\\u003cbr\\u003eAll Season\\u003cbr\\u003e(M2)\",\"Phenomic:\\u003cbr\\u003eAll Season\\u003cbr\\u003e(M2)\",\"Phenomic:\\u003cbr\\u003eAll Season\\u003cbr\\u003e(M2)\",\"Phenomic:\\u003cbr\\u003eAll Season\\u003cbr\\u003e(M2)\",\"Phenomic:\\u003cbr\\u003eAll Season\\u003cbr\\u003e(M2)\",\"Phenomic:\\u003cbr\\u003eAll Season\\u003cbr\\u003e(M2)\",\"Phenomic:\\u003cbr\\u003eAll Season\\u003cbr\\u003e(M2)\",\"Phenomic:\\u003cbr\\u003eAll Season\\u003cbr\\u003e(M2)\",\"Phenomic:\\u003cbr\\u003eAll Season\\u003cbr\\u003e(M2)\",\"Phenomic:\\u003cbr\\u003eAll Season\\u003cbr\\u003e(M2)\",\"Phenomic:\\u003cbr\\u003eAll Season\\u003cbr\\u003e(M2)\",\"Phenomic:\\u003cbr\\u003eAll Season\\u003cbr\\u003e(M2)\",\"Phenomic:\\u003cbr\\u003eAll Season\\u003cbr\\u003e(M2)\",\"Phenomic:\\u003cbr\\u003eAll Season\\u003cbr\\u003e(M2)\",\"Phenomic:\\u003cbr\\u003eAll Season\\u003cbr\\u003e(M2)\",\"Phenomic:\\u003cbr\\u003eAll Season\\u003cbr\\u003e(M2)\",\"Phenomic:\\u003cbr\\u003eAll Season\\u003cbr\\u003e(M2)\",\"Phenomic:\\u003cbr\\u003eAll Season\\u003cbr\\u003e(M2)\",\"Phenomic:\\u003cbr\\u003eAll Season\\u003cbr\\u003e(M2)\",\"Phenomic:\\u003cbr\\u003eAll Season\\u003cbr\\u003e(M2)\",\"Phenomic:\\u003cbr\\u003eAll Season\\u003cbr\\u003e(M2)\",\"Phenomic:\\u003cbr\\u003eAll Season\\u003cbr\\u003e(M2)\",\"Phenomic:\\u003cbr\\u003eAll Season\\u003cbr\\u003e(M2)\",\"Phenomic:\\u003cbr\\u003eAll Season\\u003cbr\\u003e(M2)\",\"Phenomic:\\u003cbr\\u003eAll Season\\u003cbr\\u003e(M2)\",\"Phenomic:\\u003cbr\\u003eAll Season\\u003cbr\\u003e(M2)\",\"Phenomic:\\u003cbr\\u003eAll Season\\u003cbr\\u003e(M2)\",\"Phenomic:\\u003cbr\\u003eAll Season\\u003cbr\\u003e(M2)\",\"Phenomic:\\u003cbr\\u003eAll Season\\u003cbr\\u003e(M2)\",\"Phenomic:\\u003cbr\\u003eAll Season\\u003cbr\\u003e(M2)\",\"Phenomic:\\u003cbr\\u003eAll Season\\u003cbr\\u003e(M2)\",\"Phenomic:\\u003cbr\\u003eAll Season\\u003cbr\\u003e(M2)\",\"Phenomic:\\u003cbr\\u003eAll Season\\u003cbr\\u003e(M2)\",\"Phenomic:\\u003cbr\\u003eAll Season\\u003cbr\\u003e(M2)\",\"Phenomic:\\u003cbr\\u003eAll Season\\u003cbr\\u003e(M2)\",\"Phenomic:\\u003cbr\\u003eAll Season\\u003cbr\\u003e(M2)\",\"Phenomic:\\u003cbr\\u003eAll Season\\u003cbr\\u003e(M2)\",\"Phenomic:\\u003cbr\\u003eAll Season\\u003cbr\\u003e(M2)\",\"Phenomic:\\u003cbr\\u003eAll Season\\u003cbr\\u003e(M2)\",\"Phenomic:\\u003cbr\\u003eAll Season\\u003cbr\\u003e(M2)\",\"Phenomic:\\u003cbr\\u003eAll Season\\u003cbr\\u003e(M2)\",\"Phenomic:\\u003cbr\\u003eAll Season\\u003cbr\\u003e(M2)\",\"Phenomic:\\u003cbr\\u003eAll Season\\u003cbr\\u003e(M2)\",\"Phenomic:\\u003cbr\\u003eAll Season\\u003cbr\\u003e(M2)\",\"Phenomic:\\u003cbr\\u003eAll Season\\u003cbr\\u003e(M2)\",\"Phenomic:\\u003cbr\\u003eAll Season\\u003cbr\\u003e(M2)\",\"Phenomic:\\u003cbr\\u003eAll Season\\u003cbr\\u003e(M2)\",\"Phenomic:\\u003cbr\\u003eAll Season\\u003cbr\\u003e(M2)\",\"Phenomic:\\u003cbr\\u003eAll Season\\u003cbr\\u003e(M2)\",\"Phenomic:\\u003cbr\\u003eAll Season\\u003cbr\\u003e(M2)\",\"Phenomic:\\u003cbr\\u003eAll Season\\u003cbr\\u003e(M2)\",\"Phenomic:\\u003cbr\\u003eAll Season\\u003cbr\\u003e(M2)\",\"Phenomic:\\u003cbr\\u003eAll Season\\u003cbr\\u003e(M2)\",\"Phenomic:\\u003cbr\\u003eAll Season\\u003cbr\\u003e(M2)\",\"Phenomic:\\u003cbr\\u003eAll Season\\u003cbr\\u003e(M2)\",\"Phenomic:\\u003cbr\\u003eAll Season\\u003cbr\\u003e(M2)\",\"Phenomic:\\u003cbr\\u003eAll Season\\u003cbr\\u003e(M2)\",\"Phenomic:\\u003cbr\\u003eAll Season\\u003cbr\\u003e(M2)\",\"Phenomic:\\u003cbr\\u003eAll Season\\u003cbr\\u003e(M2)\",\"Phenomic:\\u003cbr\\u003eAll Season\\u003cbr\\u003e(M2)\",\"Phenomic:\\u003cbr\\u003eAll Season\\u003cbr\\u003e(M2)\",\"Phenomic:\\u003cbr\\u003eAll Season\\u003cbr\\u003e(M2)\",\"Phenomic:\\u003cbr\\u003eAll Season\\u003cbr\\u003e(M2)\",\"Phenomic:\\u003cbr\\u003eAll Season\\u003cbr\\u003e(M2)\",\"Phenomic:\\u003cbr\\u003eAll Season\\u003cbr\\u003e(M2)\",\"Phenomic:\\u003cbr\\u003eAll Season\\u003cbr\\u003e(M2)\",\"Phenomic:\\u003cbr\\u003eAll Season\\u003cbr\\u003e(M2)\",\"Phenomic:\\u003cbr\\u003eAll Season\\u003cbr\\u003e(M2)\",\"Phenomic:\\u003cbr\\u003eAll Season\\u003cbr\\u003e(M2)\",\"Phenomic:\\u003cbr\\u003eAll Season\\u003cbr\\u003e(M2)\",\"Phenomic:\\u003cbr\\u003eAll Season\\u003cbr\\u003e(M2)\",\"Phenomic:\\u003cbr\\u003eAll Season\\u003cbr\\u003e(M2)\",\"Phenomic:\\u003cbr\\u003eAll Season\\u003cbr\\u003e(M2)\",\"Phenomic:\\u003cbr\\u003eAll Season\\u003cbr\\u003e(M2)\",\"Phenomic:\\u003cbr\\u003eAll Season\\u003cbr\\u003e(M2)\",\"Phenomic:\\u003cbr\\u003eAll Season\\u003cbr\\u003e(M2)\",\"Phenomic:\\u003cbr\\u003eAll Season\\u003cbr\\u003e(M2)\",\"Phenomic:\\u003cbr\\u003eAll Season\\u003cbr\\u003e(M2)\",\"Phenomic:\\u003cbr\\u003eAll Season\\u003cbr\\u003e(M2)\",\"Phenomic:\\u003cbr\\u003eAll Season\\u003cbr\\u003e(M2)\",\"Phenomic:\\u003cbr\\u003eAll Season\\u003cbr\\u003e(M2)\",\"Phenomic:\\u003cbr\\u003eAll Season\\u003cbr\\u003e(M2)\",\"Phenomic:\\u003cbr\\u003eAll Season\\u003cbr\\u003e(M2)\",\"Phenomic:\\u003cbr\\u003eAll Season\\u003cbr\\u003e(M2)\",\"Phenomic:\\u003cbr\\u003eAll Season\\u003cbr\\u003e(M2)\",\"Phenomic:\\u003cbr\\u003eAll Season\\u003cbr\\u003e(M2)\",\"Phenomic:\\u003cbr\\u003eAll Season\\u003cbr\\u003e(M2)\",\"Phenomic:\\u003cbr\\u003eAll Season\\u003cbr\\u003e(M2)\",\"Phenomic:\\u003cbr\\u003eAll Season\\u003cbr\\u003e(M2)\",\"Phenomic:\\u003cbr\\u003eAll Season\\u003cbr\\u003e(M2)\",\"Phenomic:\\u003cbr\\u003eAll Season\\u003cbr\\u003e(M2)\",\"Phenomic:\\u003cbr\\u003eAll Season\\u003cbr\\u003e(M2)\",\"Phenomic:\\u003cbr\\u003eAll Season\\u003cbr\\u003e(M2)\",\"Phenomic:\\u003cbr\\u003eAll Season\\u003cbr\\u003e(M2)\",\"Phenomic:\\u003cbr\\u003eAll Season\\u003cbr\\u003e(M2)\",\"Phenomic:\\u003cbr\\u003eAll Season\\u003cbr\\u003e(M2)\",\"Phenomic:\\u003cbr\\u003eAll Season\\u003cbr\\u003e(M2)\",\"Phenomic:\\u003cbr\\u003eAll Season\\u003cbr\\u003e(M2)\",\"Phenomic:\\u003cbr\\u003eAll Season\\u003cbr\\u003e(M2)\",\"Phenomic:\\u003cbr\\u003eAll Season\\u003cbr\\u003e(M2)\",\"Phenomic:\\u003cbr\\u003eAll Season\\u003cbr\\u003e(M2)\",\"Phenomic:\\u003cbr\\u003eAll Season\\u003cbr\\u003e(M2)\",\"Phenomic:\\u003cbr\\u003eAll Season\\u003cbr\\u003e(M2)\",\"Phenomic:\\u003cbr\\u003eAll Season\\u003cbr\\u003e(M2)\",\"Phenomic:\\u003cbr\\u003eAll Season\\u003cbr\\u003e(M2)\",\"Phenomic:\\u003cbr\\u003eAll Season\\u003cbr\\u003e(M2)\"],\"x0\":\" \",\"xaxis\":\"x\",\"y\":[0.643158966,0.641129892,0.66973663,0.524366998,0.62079468,0.585413269,0.565687759,0.694445193,0.649120026,0.575147161,0.598529445,0.653042268,0.702880454,0.675146556,0.676392452,0.604457927,0.673104392,0.601918458,0.600150889,0.657559926,0.621477804,0.600074839,0.5811163,0.583020575,0.619031584,0.667123051,0.483902288,0.663877529,0.618477874,0.624640968,0.664928096,0.622617792,0.664635554,0.619047766,0.553256471,0.672813506,0.596453258,0.65927165,0.676015708,0.552830244,0.488402837,0.655994672,0.688454004,0.650925131,0.581373575,0.626427437,0.567648306,0.698761835,0.549870814,0.644087149,0.615114048,0.631740109,0.607839754,0.650737172,0.596987499,0.559569434,0.656635012,0.623533502,0.614987921,0.645063704,0.611552447,0.602656174,0.603583586,0.638739443,0.642217691,0.611013971,0.527557239,0.622381198,0.672066608,0.651222646,0.706419507,0.581106682,0.559649932,0.55489387,0.686607921,0.726246084,0.585622113,0.620059247,0.600351795,0.60010219,0.553962177,0.635474461,0.675750678,0.581735821,0.637886149,0.62598816,0.563856595,0.640922421,0.600588214,0.596590609,0.62260385,0.648862572,0.627877029,0.573198454,0.601134509,0.60456241,0.64474372,0.623054637,0.661458977,0.520114017,0.651078628,0.654763996,0.639608475,0.605128196,0.558184851,0.627781471,0.643202971,0.609258364,0.626958477,0.621528392,0.655715437,0.578489926,0.582037991,0.664274342,0.698371022,0.674060137,0.639526143,0.523280627,0.607451613,0.610888459,0.603559592,0.698049136,0.60376952,0.641809072,0.618753715],\"y0\":\" \",\"yaxis\":\"y\",\"type\":\"box\"},{\"alignmentgroup\":\"True\",\"hovertemplate\":\"Model=%{x}\\u003cbr\\u003ecor=%{y}\\u003cextra\\u003e\\u003c\\u002fextra\\u003e\",\"legendgroup\":\"Phenomic:\\u003cbr\\u003ePre-Flowering\\u003cbr\\u003e(M3)\",\"marker\":{\"color\":\"#00cc96\"},\"name\":\"Phenomic:\\u003cbr\\u003ePre-Flowering\\u003cbr\\u003e(M3)\",\"notched\":false,\"offsetgroup\":\"Phenomic:\\u003cbr\\u003ePre-Flowering\\u003cbr\\u003e(M3)\",\"orientation\":\"v\",\"showlegend\":true,\"x\":[\"Phenomic:\\u003cbr\\u003ePre-Flowering\\u003cbr\\u003e(M3)\",\"Phenomic:\\u003cbr\\u003ePre-Flowering\\u003cbr\\u003e(M3)\",\"Phenomic:\\u003cbr\\u003ePre-Flowering\\u003cbr\\u003e(M3)\",\"Phenomic:\\u003cbr\\u003ePre-Flowering\\u003cbr\\u003e(M3)\",\"Phenomic:\\u003cbr\\u003ePre-Flowering\\u003cbr\\u003e(M3)\",\"Phenomic:\\u003cbr\\u003ePre-Flowering\\u003cbr\\u003e(M3)\",\"Phenomic:\\u003cbr\\u003ePre-Flowering\\u003cbr\\u003e(M3)\",\"Phenomic:\\u003cbr\\u003ePre-Flowering\\u003cbr\\u003e(M3)\",\"Phenomic:\\u003cbr\\u003ePre-Flowering\\u003cbr\\u003e(M3)\",\"Phenomic:\\u003cbr\\u003ePre-Flowering\\u003cbr\\u003e(M3)\",\"Phenomic:\\u003cbr\\u003ePre-Flowering\\u003cbr\\u003e(M3)\",\"Phenomic:\\u003cbr\\u003ePre-Flowering\\u003cbr\\u003e(M3)\",\"Phenomic:\\u003cbr\\u003ePre-Flowering\\u003cbr\\u003e(M3)\",\"Phenomic:\\u003cbr\\u003ePre-Flowering\\u003cbr\\u003e(M3)\",\"Phenomic:\\u003cbr\\u003ePre-Flowering\\u003cbr\\u003e(M3)\",\"Phenomic:\\u003cbr\\u003ePre-Flowering\\u003cbr\\u003e(M3)\",\"Phenomic:\\u003cbr\\u003ePre-Flowering\\u003cbr\\u003e(M3)\",\"Phenomic:\\u003cbr\\u003ePre-Flowering\\u003cbr\\u003e(M3)\",\"Phenomic:\\u003cbr\\u003ePre-Flowering\\u003cbr\\u003e(M3)\",\"Phenomic:\\u003cbr\\u003ePre-Flowering\\u003cbr\\u003e(M3)\",\"Phenomic:\\u003cbr\\u003ePre-Flowering\\u003cbr\\u003e(M3)\",\"Phenomic:\\u003cbr\\u003ePre-Flowering\\u003cbr\\u003e(M3)\",\"Phenomic:\\u003cbr\\u003ePre-Flowering\\u003cbr\\u003e(M3)\",\"Phenomic:\\u003cbr\\u003ePre-Flowering\\u003cbr\\u003e(M3)\",\"Phenomic:\\u003cbr\\u003ePre-Flowering\\u003cbr\\u003e(M3)\",\"Phenomic:\\u003cbr\\u003ePre-Flowering\\u003cbr\\u003e(M3)\",\"Phenomic:\\u003cbr\\u003ePre-Flowering\\u003cbr\\u003e(M3)\",\"Phenomic:\\u003cbr\\u003ePre-Flowering\\u003cbr\\u003e(M3)\",\"Phenomic:\\u003cbr\\u003ePre-Flowering\\u003cbr\\u003e(M3)\",\"Phenomic:\\u003cbr\\u003ePre-Flowering\\u003cbr\\u003e(M3)\",\"Phenomic:\\u003cbr\\u003ePre-Flowering\\u003cbr\\u003e(M3)\",\"Phenomic:\\u003cbr\\u003ePre-Flowering\\u003cbr\\u003e(M3)\",\"Phenomic:\\u003cbr\\u003ePre-Flowering\\u003cbr\\u003e(M3)\",\"Phenomic:\\u003cbr\\u003ePre-Flowering\\u003cbr\\u003e(M3)\",\"Phenomic:\\u003cbr\\u003ePre-Flowering\\u003cbr\\u003e(M3)\",\"Phenomic:\\u003cbr\\u003ePre-Flowering\\u003cbr\\u003e(M3)\",\"Phenomic:\\u003cbr\\u003ePre-Flowering\\u003cbr\\u003e(M3)\",\"Phenomic:\\u003cbr\\u003ePre-Flowering\\u003cbr\\u003e(M3)\",\"Phenomic:\\u003cbr\\u003ePre-Flowering\\u003cbr\\u003e(M3)\",\"Phenomic:\\u003cbr\\u003ePre-Flowering\\u003cbr\\u003e(M3)\",\"Phenomic:\\u003cbr\\u003ePre-Flowering\\u003cbr\\u003e(M3)\",\"Phenomic:\\u003cbr\\u003ePre-Flowering\\u003cbr\\u003e(M3)\",\"Phenomic:\\u003cbr\\u003ePre-Flowering\\u003cbr\\u003e(M3)\",\"Phenomic:\\u003cbr\\u003ePre-Flowering\\u003cbr\\u003e(M3)\",\"Phenomic:\\u003cbr\\u003ePre-Flowering\\u003cbr\\u003e(M3)\",\"Phenomic:\\u003cbr\\u003ePre-Flowering\\u003cbr\\u003e(M3)\",\"Phenomic:\\u003cbr\\u003ePre-Flowering\\u003cbr\\u003e(M3)\",\"Phenomic:\\u003cbr\\u003ePre-Flowering\\u003cbr\\u003e(M3)\",\"Phenomic:\\u003cbr\\u003ePre-Flowering\\u003cbr\\u003e(M3)\",\"Phenomic:\\u003cbr\\u003ePre-Flowering\\u003cbr\\u003e(M3)\",\"Phenomic:\\u003cbr\\u003ePre-Flowering\\u003cbr\\u003e(M3)\",\"Phenomic:\\u003cbr\\u003ePre-Flowering\\u003cbr\\u003e(M3)\",\"Phenomic:\\u003cbr\\u003ePre-Flowering\\u003cbr\\u003e(M3)\",\"Phenomic:\\u003cbr\\u003ePre-Flowering\\u003cbr\\u003e(M3)\",\"Phenomic:\\u003cbr\\u003ePre-Flowering\\u003cbr\\u003e(M3)\",\"Phenomic:\\u003cbr\\u003ePre-Flowering\\u003cbr\\u003e(M3)\",\"Phenomic:\\u003cbr\\u003ePre-Flowering\\u003cbr\\u003e(M3)\",\"Phenomic:\\u003cbr\\u003ePre-Flowering\\u003cbr\\u003e(M3)\",\"Phenomic:\\u003cbr\\u003ePre-Flowering\\u003cbr\\u003e(M3)\",\"Phenomic:\\u003cbr\\u003ePre-Flowering\\u003cbr\\u003e(M3)\",\"Phenomic:\\u003cbr\\u003ePre-Flowering\\u003cbr\\u003e(M3)\",\"Phenomic:\\u003cbr\\u003ePre-Flowering\\u003cbr\\u003e(M3)\",\"Phenomic:\\u003cbr\\u003ePre-Flowering\\u003cbr\\u003e(M3)\",\"Phenomic:\\u003cbr\\u003ePre-Flowering\\u003cbr\\u003e(M3)\",\"Phenomic:\\u003cbr\\u003ePre-Flowering\\u003cbr\\u003e(M3)\",\"Phenomic:\\u003cbr\\u003ePre-Flowering\\u003cbr\\u003e(M3)\",\"Phenomic:\\u003cbr\\u003ePre-Flowering\\u003cbr\\u003e(M3)\",\"Phenomic:\\u003cbr\\u003ePre-Flowering\\u003cbr\\u003e(M3)\",\"Phenomic:\\u003cbr\\u003ePre-Flowering\\u003cbr\\u003e(M3)\",\"Phenomic:\\u003cbr\\u003ePre-Flowering\\u003cbr\\u003e(M3)\",\"Phenomic:\\u003cbr\\u003ePre-Flowering\\u003cbr\\u003e(M3)\",\"Phenomic:\\u003cbr\\u003ePre-Flowering\\u003cbr\\u003e(M3)\",\"Phenomic:\\u003cbr\\u003ePre-Flowering\\u003cbr\\u003e(M3)\",\"Phenomic:\\u003cbr\\u003ePre-Flowering\\u003cbr\\u003e(M3)\",\"Phenomic:\\u003cbr\\u003ePre-Flowering\\u003cbr\\u003e(M3)\",\"Phenomic:\\u003cbr\\u003ePre-Flowering\\u003cbr\\u003e(M3)\",\"Phenomic:\\u003cbr\\u003ePre-Flowering\\u003cbr\\u003e(M3)\",\"Phenomic:\\u003cbr\\u003ePre-Flowering\\u003cbr\\u003e(M3)\",\"Phenomic:\\u003cbr\\u003ePre-Flowering\\u003cbr\\u003e(M3)\",\"Phenomic:\\u003cbr\\u003ePre-Flowering\\u003cbr\\u003e(M3)\",\"Phenomic:\\u003cbr\\u003ePre-Flowering\\u003cbr\\u003e(M3)\",\"Phenomic:\\u003cbr\\u003ePre-Flowering\\u003cbr\\u003e(M3)\",\"Phenomic:\\u003cbr\\u003ePre-Flowering\\u003cbr\\u003e(M3)\",\"Phenomic:\\u003cbr\\u003ePre-Flowering\\u003cbr\\u003e(M3)\",\"Phenomic:\\u003cbr\\u003ePre-Flowering\\u003cbr\\u003e(M3)\",\"Phenomic:\\u003cbr\\u003ePre-Flowering\\u003cbr\\u003e(M3)\",\"Phenomic:\\u003cbr\\u003ePre-Flowering\\u003cbr\\u003e(M3)\",\"Phenomic:\\u003cbr\\u003ePre-Flowering\\u003cbr\\u003e(M3)\",\"Phenomic:\\u003cbr\\u003ePre-Flowering\\u003cbr\\u003e(M3)\",\"Phenomic:\\u003cbr\\u003ePre-Flowering\\u003cbr\\u003e(M3)\",\"Phenomic:\\u003cbr\\u003ePre-Flowering\\u003cbr\\u003e(M3)\",\"Phenomic:\\u003cbr\\u003ePre-Flowering\\u003cbr\\u003e(M3)\",\"Phenomic:\\u003cbr\\u003ePre-Flowering\\u003cbr\\u003e(M3)\",\"Phenomic:\\u003cbr\\u003ePre-Flowering\\u003cbr\\u003e(M3)\",\"Phenomic:\\u003cbr\\u003ePre-Flowering\\u003cbr\\u003e(M3)\",\"Phenomic:\\u003cbr\\u003ePre-Flowering\\u003cbr\\u003e(M3)\",\"Phenomic:\\u003cbr\\u003ePre-Flowering\\u003cbr\\u003e(M3)\",\"Phenomic:\\u003cbr\\u003ePre-Flowering\\u003cbr\\u003e(M3)\",\"Phenomic:\\u003cbr\\u003ePre-Flowering\\u003cbr\\u003e(M3)\",\"Phenomic:\\u003cbr\\u003ePre-Flowering\\u003cbr\\u003e(M3)\",\"Phenomic:\\u003cbr\\u003ePre-Flowering\\u003cbr\\u003e(M3)\",\"Phenomic:\\u003cbr\\u003ePre-Flowering\\u003cbr\\u003e(M3)\",\"Phenomic:\\u003cbr\\u003ePre-Flowering\\u003cbr\\u003e(M3)\",\"Phenomic:\\u003cbr\\u003ePre-Flowering\\u003cbr\\u003e(M3)\",\"Phenomic:\\u003cbr\\u003ePre-Flowering\\u003cbr\\u003e(M3)\",\"Phenomic:\\u003cbr\\u003ePre-Flowering\\u003cbr\\u003e(M3)\",\"Phenomic:\\u003cbr\\u003ePre-Flowering\\u003cbr\\u003e(M3)\",\"Phenomic:\\u003cbr\\u003ePre-Flowering\\u003cbr\\u003e(M3)\",\"Phenomic:\\u003cbr\\u003ePre-Flowering\\u003cbr\\u003e(M3)\",\"Phenomic:\\u003cbr\\u003ePre-Flowering\\u003cbr\\u003e(M3)\",\"Phenomic:\\u003cbr\\u003ePre-Flowering\\u003cbr\\u003e(M3)\",\"Phenomic:\\u003cbr\\u003ePre-Flowering\\u003cbr\\u003e(M3)\",\"Phenomic:\\u003cbr\\u003ePre-Flowering\\u003cbr\\u003e(M3)\",\"Phenomic:\\u003cbr\\u003ePre-Flowering\\u003cbr\\u003e(M3)\",\"Phenomic:\\u003cbr\\u003ePre-Flowering\\u003cbr\\u003e(M3)\",\"Phenomic:\\u003cbr\\u003ePre-Flowering\\u003cbr\\u003e(M3)\",\"Phenomic:\\u003cbr\\u003ePre-Flowering\\u003cbr\\u003e(M3)\",\"Phenomic:\\u003cbr\\u003ePre-Flowering\\u003cbr\\u003e(M3)\",\"Phenomic:\\u003cbr\\u003ePre-Flowering\\u003cbr\\u003e(M3)\",\"Phenomic:\\u003cbr\\u003ePre-Flowering\\u003cbr\\u003e(M3)\",\"Phenomic:\\u003cbr\\u003ePre-Flowering\\u003cbr\\u003e(M3)\",\"Phenomic:\\u003cbr\\u003ePre-Flowering\\u003cbr\\u003e(M3)\",\"Phenomic:\\u003cbr\\u003ePre-Flowering\\u003cbr\\u003e(M3)\",\"Phenomic:\\u003cbr\\u003ePre-Flowering\\u003cbr\\u003e(M3)\",\"Phenomic:\\u003cbr\\u003ePre-Flowering\\u003cbr\\u003e(M3)\"],\"x0\":\" \",\"xaxis\":\"x\",\"y\":[0.600546446,0.585872837,0.584533047,0.58098924,0.560701604,0.612559076,0.625433418,0.59249589,0.540750772,0.625649388,0.524575622,0.642177316,0.605412403,0.61399479,0.586476847,0.603475244,0.604537914,0.588880111,0.661276128,0.651497691,0.545360392,0.578717246,0.564687005,0.625778351,0.593436273,0.543046893,0.559921445,0.653779585,0.598088801,0.541773827,0.567132085,0.574669735,0.642063145,0.542966237,0.493026723,0.601931556,0.630692199,0.596579236,0.516135567,0.623836717,0.604408397,0.595506174,0.646537296,0.514997969,0.636283483,0.605576446,0.575613726,0.585119894,0.526480472,0.600121288,0.663313363,0.540494803,0.671035445,0.607035369,0.543444396,0.582654772,0.532721194,0.613757828,0.55641251,0.614505503,0.571169523,0.562271058,0.606998143,0.630553383,0.458687881,0.610319938,0.630096979,0.608797637,0.594242947,0.572233004,0.617183162,0.552652819,0.566388428,0.511580679,0.572277067,0.626678224,0.60655956,0.641505595,0.524525852,0.621886812,0.617010564,0.648983633,0.495375622,0.579648785,0.604608504,0.524335163,0.622624247,0.612495028,0.571186507,0.573876365,0.661998586,0.586767507,0.649361445,0.590711134,0.581907941,0.62704344,0.62691821,0.597795519,0.599523319,0.570180855,0.598036435,0.538105512,0.588607764,0.625678002,0.539794766,0.623095879,0.618698746,0.56138096,0.508413801,0.574941255,0.619645695,0.630430959,0.695073374,0.536172161,0.59388564,0.483125505,0.6233904,0.521913454,0.612719494,0.615997507,0.600699516,0.58268343,0.53538838,0.589550576,0.543685915],\"y0\":\" \",\"yaxis\":\"y\",\"type\":\"box\"}],                        {\"template\":{\"data\":{\"histogram2dcontour\":[{\"type\":\"histogram2dcontour\",\"colorbar\":{\"outlinewidth\":0,\"ticks\":\"\"},\"colorscale\":[[0.0,\"#0d0887\"],[0.1111111111111111,\"#46039f\"],[0.2222222222222222,\"#7201a8\"],[0.3333333333333333,\"#9c179e\"],[0.4444444444444444,\"#bd3786\"],[0.5555555555555556,\"#d8576b\"],[0.6666666666666666,\"#ed7953\"],[0.7777777777777778,\"#fb9f3a\"],[0.8888888888888888,\"#fdca26\"],[1.0,\"#f0f921\"]]}],\"choropleth\":[{\"type\":\"choropleth\",\"colorbar\":{\"outlinewidth\":0,\"ticks\":\"\"}}],\"histogram2d\":[{\"type\":\"histogram2d\",\"colorbar\":{\"outlinewidth\":0,\"ticks\":\"\"},\"colorscale\":[[0.0,\"#0d0887\"],[0.1111111111111111,\"#46039f\"],[0.2222222222222222,\"#7201a8\"],[0.3333333333333333,\"#9c179e\"],[0.4444444444444444,\"#bd3786\"],[0.5555555555555556,\"#d8576b\"],[0.6666666666666666,\"#ed7953\"],[0.7777777777777778,\"#fb9f3a\"],[0.8888888888888888,\"#fdca26\"],[1.0,\"#f0f921\"]]}],\"heatmap\":[{\"type\":\"heatmap\",\"colorbar\":{\"outlinewidth\":0,\"ticks\":\"\"},\"colorscale\":[[0.0,\"#0d0887\"],[0.1111111111111111,\"#46039f\"],[0.2222222222222222,\"#7201a8\"],[0.3333333333333333,\"#9c179e\"],[0.4444444444444444,\"#bd3786\"],[0.5555555555555556,\"#d8576b\"],[0.6666666666666666,\"#ed7953\"],[0.7777777777777778,\"#fb9f3a\"],[0.8888888888888888,\"#fdca26\"],[1.0,\"#f0f921\"]]}],\"heatmapgl\":[{\"type\":\"heatmapgl\",\"colorbar\":{\"outlinewidth\":0,\"ticks\":\"\"},\"colorscale\":[[0.0,\"#0d0887\"],[0.1111111111111111,\"#46039f\"],[0.2222222222222222,\"#7201a8\"],[0.3333333333333333,\"#9c179e\"],[0.4444444444444444,\"#bd3786\"],[0.5555555555555556,\"#d8576b\"],[0.6666666666666666,\"#ed7953\"],[0.7777777777777778,\"#fb9f3a\"],[0.8888888888888888,\"#fdca26\"],[1.0,\"#f0f921\"]]}],\"contourcarpet\":[{\"type\":\"contourcarpet\",\"colorbar\":{\"outlinewidth\":0,\"ticks\":\"\"}}],\"contour\":[{\"type\":\"contour\",\"colorbar\":{\"outlinewidth\":0,\"ticks\":\"\"},\"colorscale\":[[0.0,\"#0d0887\"],[0.1111111111111111,\"#46039f\"],[0.2222222222222222,\"#7201a8\"],[0.3333333333333333,\"#9c179e\"],[0.4444444444444444,\"#bd3786\"],[0.5555555555555556,\"#d8576b\"],[0.6666666666666666,\"#ed7953\"],[0.7777777777777778,\"#fb9f3a\"],[0.8888888888888888,\"#fdca26\"],[1.0,\"#f0f921\"]]}],\"surface\":[{\"type\":\"surface\",\"colorbar\":{\"outlinewidth\":0,\"ticks\":\"\"},\"colorscale\":[[0.0,\"#0d0887\"],[0.1111111111111111,\"#46039f\"],[0.2222222222222222,\"#7201a8\"],[0.3333333333333333,\"#9c179e\"],[0.4444444444444444,\"#bd3786\"],[0.5555555555555556,\"#d8576b\"],[0.6666666666666666,\"#ed7953\"],[0.7777777777777778,\"#fb9f3a\"],[0.8888888888888888,\"#fdca26\"],[1.0,\"#f0f921\"]]}],\"mesh3d\":[{\"type\":\"mesh3d\",\"colorbar\":{\"outlinewidth\":0,\"ticks\":\"\"}}],\"scatter\":[{\"fillpattern\":{\"fillmode\":\"overlay\",\"size\":10,\"solidity\":0.2},\"type\":\"scatter\"}],\"parcoords\":[{\"type\":\"parcoords\",\"line\":{\"colorbar\":{\"outlinewidth\":0,\"ticks\":\"\"}}}],\"scatterpolargl\":[{\"type\":\"scatterpolargl\",\"marker\":{\"colorbar\":{\"outlinewidth\":0,\"ticks\":\"\"}}}],\"bar\":[{\"error_x\":{\"color\":\"#2a3f5f\"},\"error_y\":{\"color\":\"#2a3f5f\"},\"marker\":{\"line\":{\"color\":\"#E5ECF6\",\"width\":0.5},\"pattern\":{\"fillmode\":\"overlay\",\"size\":10,\"solidity\":0.2}},\"type\":\"bar\"}],\"scattergeo\":[{\"type\":\"scattergeo\",\"marker\":{\"colorbar\":{\"outlinewidth\":0,\"ticks\":\"\"}}}],\"scatterpolar\":[{\"type\":\"scatterpolar\",\"marker\":{\"colorbar\":{\"outlinewidth\":0,\"ticks\":\"\"}}}],\"histogram\":[{\"marker\":{\"pattern\":{\"fillmode\":\"overlay\",\"size\":10,\"solidity\":0.2}},\"type\":\"histogram\"}],\"scattergl\":[{\"type\":\"scattergl\",\"marker\":{\"colorbar\":{\"outlinewidth\":0,\"ticks\":\"\"}}}],\"scatter3d\":[{\"type\":\"scatter3d\",\"line\":{\"colorbar\":{\"outlinewidth\":0,\"ticks\":\"\"}},\"marker\":{\"colorbar\":{\"outlinewidth\":0,\"ticks\":\"\"}}}],\"scattermapbox\":[{\"type\":\"scattermapbox\",\"marker\":{\"colorbar\":{\"outlinewidth\":0,\"ticks\":\"\"}}}],\"scatterternary\":[{\"type\":\"scatterternary\",\"marker\":{\"colorbar\":{\"outlinewidth\":0,\"ticks\":\"\"}}}],\"scattercarpet\":[{\"type\":\"scattercarpet\",\"marker\":{\"colorbar\":{\"outlinewidth\":0,\"ticks\":\"\"}}}],\"carpet\":[{\"aaxis\":{\"endlinecolor\":\"#2a3f5f\",\"gridcolor\":\"white\",\"linecolor\":\"white\",\"minorgridcolor\":\"white\",\"startlinecolor\":\"#2a3f5f\"},\"baxis\":{\"endlinecolor\":\"#2a3f5f\",\"gridcolor\":\"white\",\"linecolor\":\"white\",\"minorgridcolor\":\"white\",\"startlinecolor\":\"#2a3f5f\"},\"type\":\"carpet\"}],\"table\":[{\"cells\":{\"fill\":{\"color\":\"#EBF0F8\"},\"line\":{\"color\":\"white\"}},\"header\":{\"fill\":{\"color\":\"#C8D4E3\"},\"line\":{\"color\":\"white\"}},\"type\":\"table\"}],\"barpolar\":[{\"marker\":{\"line\":{\"color\":\"#E5ECF6\",\"width\":0.5},\"pattern\":{\"fillmode\":\"overlay\",\"size\":10,\"solidity\":0.2}},\"type\":\"barpolar\"}],\"pie\":[{\"automargin\":true,\"type\":\"pie\"}]},\"layout\":{\"autotypenumbers\":\"strict\",\"colorway\":[\"#636efa\",\"#EF553B\",\"#00cc96\",\"#ab63fa\",\"#FFA15A\",\"#19d3f3\",\"#FF6692\",\"#B6E880\",\"#FF97FF\",\"#FECB52\"],\"font\":{\"color\":\"#2a3f5f\"},\"hovermode\":\"closest\",\"hoverlabel\":{\"align\":\"left\"},\"paper_bgcolor\":\"white\",\"plot_bgcolor\":\"#E5ECF6\",\"polar\":{\"bgcolor\":\"#E5ECF6\",\"angularaxis\":{\"gridcolor\":\"white\",\"linecolor\":\"white\",\"ticks\":\"\"},\"radialaxis\":{\"gridcolor\":\"white\",\"linecolor\":\"white\",\"ticks\":\"\"}},\"ternary\":{\"bgcolor\":\"#E5ECF6\",\"aaxis\":{\"gridcolor\":\"white\",\"linecolor\":\"white\",\"ticks\":\"\"},\"baxis\":{\"gridcolor\":\"white\",\"linecolor\":\"white\",\"ticks\":\"\"},\"caxis\":{\"gridcolor\":\"white\",\"linecolor\":\"white\",\"ticks\":\"\"}},\"coloraxis\":{\"colorbar\":{\"outlinewidth\":0,\"ticks\":\"\"}},\"colorscale\":{\"sequential\":[[0.0,\"#0d0887\"],[0.1111111111111111,\"#46039f\"],[0.2222222222222222,\"#7201a8\"],[0.3333333333333333,\"#9c179e\"],[0.4444444444444444,\"#bd3786\"],[0.5555555555555556,\"#d8576b\"],[0.6666666666666666,\"#ed7953\"],[0.7777777777777778,\"#fb9f3a\"],[0.8888888888888888,\"#fdca26\"],[1.0,\"#f0f921\"]],\"sequentialminus\":[[0.0,\"#0d0887\"],[0.1111111111111111,\"#46039f\"],[0.2222222222222222,\"#7201a8\"],[0.3333333333333333,\"#9c179e\"],[0.4444444444444444,\"#bd3786\"],[0.5555555555555556,\"#d8576b\"],[0.6666666666666666,\"#ed7953\"],[0.7777777777777778,\"#fb9f3a\"],[0.8888888888888888,\"#fdca26\"],[1.0,\"#f0f921\"]],\"diverging\":[[0,\"#8e0152\"],[0.1,\"#c51b7d\"],[0.2,\"#de77ae\"],[0.3,\"#f1b6da\"],[0.4,\"#fde0ef\"],[0.5,\"#f7f7f7\"],[0.6,\"#e6f5d0\"],[0.7,\"#b8e186\"],[0.8,\"#7fbc41\"],[0.9,\"#4d9221\"],[1,\"#276419\"]]},\"xaxis\":{\"gridcolor\":\"white\",\"linecolor\":\"white\",\"ticks\":\"\",\"title\":{\"standoff\":15},\"zerolinecolor\":\"white\",\"automargin\":true,\"zerolinewidth\":2},\"yaxis\":{\"gridcolor\":\"white\",\"linecolor\":\"white\",\"ticks\":\"\",\"title\":{\"standoff\":15},\"zerolinecolor\":\"white\",\"automargin\":true,\"zerolinewidth\":2},\"scene\":{\"xaxis\":{\"backgroundcolor\":\"#E5ECF6\",\"gridcolor\":\"white\",\"linecolor\":\"white\",\"showbackground\":true,\"ticks\":\"\",\"zerolinecolor\":\"white\",\"gridwidth\":2},\"yaxis\":{\"backgroundcolor\":\"#E5ECF6\",\"gridcolor\":\"white\",\"linecolor\":\"white\",\"showbackground\":true,\"ticks\":\"\",\"zerolinecolor\":\"white\",\"gridwidth\":2},\"zaxis\":{\"backgroundcolor\":\"#E5ECF6\",\"gridcolor\":\"white\",\"linecolor\":\"white\",\"showbackground\":true,\"ticks\":\"\",\"zerolinecolor\":\"white\",\"gridwidth\":2}},\"shapedefaults\":{\"line\":{\"color\":\"#2a3f5f\"}},\"annotationdefaults\":{\"arrowcolor\":\"#2a3f5f\",\"arrowhead\":0,\"arrowwidth\":1},\"geo\":{\"bgcolor\":\"white\",\"landcolor\":\"#E5ECF6\",\"subunitcolor\":\"white\",\"showland\":true,\"showlakes\":true,\"lakecolor\":\"white\"},\"title\":{\"x\":0.05},\"mapbox\":{\"style\":\"light\"}}},\"xaxis\":{\"anchor\":\"y\",\"domain\":[0.0,1.0],\"title\":{\"text\":\"\"},\"categoryorder\":\"array\",\"categoryarray\":[\"Genomic\\u003cbr\\u003e(M1)\",\"Phenomic:\\u003cbr\\u003eAll Season\\u003cbr\\u003e(M2)\",\"Phenomic:\\u003cbr\\u003ePre-Flowering\\u003cbr\\u003e(M3)\"]},\"yaxis\":{\"anchor\":\"x\",\"domain\":[0.0,1.0],\"title\":{\"text\":\"Prediction Ability (pearson r)\"}},\"legend\":{\"title\":{\"text\":\"Model\"},\"tracegroupgap\":0},\"margin\":{\"t\":60},\"boxmode\":\"overlay\",\"showlegend\":false,\"autosize\":false,\"width\":500,\"height\":500},                        {\"responsive\": true}                    ).then(function(){\n",
       "                            \n",
       "var gd = document.getElementById('720a837d-4974-415c-9cc8-3288459e9079');\n",
       "var x = new MutationObserver(function (mutations, observer) {{\n",
       "        var display = window.getComputedStyle(gd).display;\n",
       "        if (!display || display === 'none') {{\n",
       "            console.log([gd, 'removed!']);\n",
       "            Plotly.purge(gd);\n",
       "            observer.disconnect();\n",
       "        }}\n",
       "}});\n",
       "\n",
       "// Listen for the removal of the full notebook cells\n",
       "var notebookContainer = gd.closest('#notebook-container');\n",
       "if (notebookContainer) {{\n",
       "    x.observe(notebookContainer, {childList: true});\n",
       "}}\n",
       "\n",
       "// Listen for the clearing of the current output cell\n",
       "var outputEl = gd.closest('.output');\n",
       "if (outputEl) {{\n",
       "    x.observe(outputEl, {childList: true});\n",
       "}}\n",
       "\n",
       "                        })                };                });            </script>        </div>"
      ]
     },
     "metadata": {},
     "output_type": "display_data"
    }
   ],
   "source": [
    "#FIGURE 5\n",
    "for_fig = sng_long_pred[sng_long_pred[\"CV\"]==\"CV1\"].copy()\n",
    "for_fig = for_fig[for_fig[\"Model\"].isin([\"M1\",\"M44\",\"M15\"])]\n",
    "for_fig[\"Model\"] = for_fig[\"Model\"].replace({\"M1\":\"Genomic<br>(M1)\",\n",
    "                                             \"M44\":\"Phenomic:<br>All Season<br>(M2)\", \n",
    "                                             \"M15\":\"Phenomic:<br>Pre-Flowering<br>(M3)\"})\n",
    "for_fig = for_fig.sort_values(\"Model\")\n",
    "fig = px.box(for_fig, x=\"Model\", y=\"cor\", color=\"Model\")\n",
    "fig.update_layout(yaxis_title=\"Prediction Ability (pearson r)\", xaxis_title=\"\")\n",
    "fig.update_layout(showlegend=False)\n",
    "\n",
    "width = 500\n",
    "height = 500\n",
    "fig.update_layout(autosize=False, width=width,height=height)\n",
    "fig.write_html(\"../Figures/Fig5.html\")\n",
    "fig.write_image(\"../Figures/Fig5.svg\")\n",
    "fig.write_image(\"../Figures/Fig5.png\")\n",
    "\n",
    "fig.show()\n",
    "\n",
    "#ALT FIGURE 5\n",
    "#mean = for_fig.pivot_table(index=[\"Model\"]).reset_index()\n",
    "#std = for_fig.pivot_table(index=[\"Model\"], aggfunc=\"std\").reset_index()\n",
    "#fig = px.bar(mean, x=\"Model\", y=\"cor\", color=\"Model\",\n",
    "#             text=mean[\"cor\"].round(2).to_list(),\n",
    "#             error_y= std[\"cor\"].tolist())\n",
    "#fig.show()"
   ]
  },
  {
   "cell_type": "code",
   "execution_count": null,
   "id": "2077684b",
   "metadata": {},
   "outputs": [],
   "source": []
  },
  {
   "cell_type": "code",
   "execution_count": 13,
   "id": "c5b0eb0b",
   "metadata": {
    "scrolled": false
   },
   "outputs": [],
   "source": [
    "\n",
    "def tukey_simultanious_fig(sim_CIs, save_html_path=\"\", save_svg_path=\"\", width=900, height=750):\n",
    "    fig = px.scatter(sim_CIs, x=\"Label\", y=\"Mean\", error_y=\"Halfwidth\")\n",
    "    fig.update_layout(yaxis_title=\"Prediction Ability (pearson r)\", xaxis_title=\"\")\n",
    "    fig.update_layout(margin=dict(l=1, r=1, t=1, b=1))\n",
    "\n",
    "    #add hline 1\n",
    "    graph_line = sim_CIs[sim_CIs[\"Model\"]==\"M44\"].copy().iloc[0]\n",
    "    graph_line = graph_line[\"Mean\"]-graph_line[\"Halfwidth\"]\n",
    "    fig.add_hline(y=graph_line, line_dash=\"dot\", line_width=1)\n",
    "\n",
    "    #add hline 2\n",
    "    graph_line = sim_CIs[sim_CIs[\"Model\"]==\"M2\"].copy().iloc[0]\n",
    "    graph_line = graph_line[\"Mean\"]+graph_line[\"Halfwidth\"]\n",
    "    fig.add_hline(y=graph_line, line_dash=\"dot\", line_width=1)\n",
    "\n",
    "    #add flowering time box\n",
    "    fig.add_vrect(x0=15.5, x1=18.5)\n",
    "    fig.update_xaxes(range=(-1,44))\n",
    "\n",
    "    fig.update_layout(autosize=False, width=width,height=height)\n",
    "    \n",
    "    if save_html_path != \"\":\n",
    "        fig.write_html(save_html_path)\n",
    "    \n",
    "    if save_svg_path != \"\":\n",
    "        fig.write_image(save_svg_path)#, scale=scale)\n",
    "\n",
    "    fig.show()"
   ]
  },
  {
   "cell_type": "code",
   "execution_count": 14,
   "id": "2c629cec",
   "metadata": {},
   "outputs": [
    {
     "data": {
      "application/vnd.plotly.v1+json": {
       "config": {
        "plotlyServerURL": "https://plot.ly"
       },
       "data": [
        {
         "error_y": {
          "array": [
           0.011564923085146013,
           0.011564923085146013,
           0.011564923085146013,
           0.011564923085146013,
           0.011564923085146013,
           0.011564923085146013,
           0.011564923085146013,
           0.011564923085146013,
           0.011564923085146013,
           0.011564923085146013,
           0.011564923085146013,
           0.011564923085146013,
           0.011564923085146013,
           0.011564923085146013,
           0.011564923085146013,
           0.011564923085146013,
           0.011564923085146013,
           0.011564923085146013,
           0.011564923085146013,
           0.011564923085146013,
           0.011564923085146013,
           0.011564923085146013,
           0.011564923085146013,
           0.011564923085146013,
           0.011564923085146013,
           0.011564923085146013,
           0.011564923085146013,
           0.011564923085146013,
           0.011564923085146013,
           0.011564923085146013,
           0.011564923085146013,
           0.011564923085146013,
           0.011564923085146013,
           0.011564923085146013,
           0.011564923085146013,
           0.011564923085146013,
           0.011564923085146013,
           0.011564923085146013,
           0.011564923085146013,
           0.011564923085146013,
           0.011564923085146013,
           0.011564923085146013,
           0.011564923085146013,
           0.011564923085146013
          ]
         },
         "hovertemplate": "Label=%{x}<br>Mean=%{y}<extra></extra>",
         "legendgroup": "",
         "marker": {
          "color": "#636efa",
          "symbol": "circle"
         },
         "mode": "markers",
         "name": "",
         "orientation": "v",
         "showlegend": false,
         "type": "scatter",
         "x": [
          "M1: Genomic",
          "M2: 9 DAP",
          "M3: M2 + 10 DAP",
          "M4: M3 + 15 DAP",
          "M5: M4 + 17 DAP",
          "M6: M5 + 22 DAP",
          "M7: M6 + 24 DAP",
          "M8: M7 + 27 DAP",
          "M9: M8 + 30 DAP",
          "M10: M9 + 32 DAP",
          "M11: M10 + 34 DAP",
          "M12: M11 + 37 DAP",
          "M13: M12 + 39 DAP",
          "M14: M13 + 41 DAP",
          "M15: M14 + 45 DAP",
          "M16: M15 + 48 DAP",
          "M17: M16 + 51 DAP",
          "M18: M17 + 53 DAP",
          "M19: M18 + 56 DAP",
          "M20: M19 + 60 DAP",
          "M21: M20 + 62 DAP",
          "M22: M21 + 64 DAP",
          "M23: M22 + 66 DAP",
          "M24: M23 + 69 DAP",
          "M25: M24 + 71 DAP",
          "M26: M25 + 73 DAP",
          "M27: M26 + 76 DAP",
          "M28: M27 + 78 DAP",
          "M29: M28 + 80 DAP",
          "M30: M29 + 83 DAP",
          "M31: M30 + 85 DAP",
          "M32: M31 + 87 DAP",
          "M33: M32 + 90 DAP",
          "M34: M33 + 93 DAP",
          "M35: M34 + 96 DAP",
          "M36: M35 + 99 DAP",
          "M37: M36 + 101 DAP",
          "M38: M37 + 104 DAP",
          "M39: M38 + 107 DAP",
          "M40: M39 + 111 DAP",
          "M41: M40 + 114 DAP",
          "M42: M41 + 118 DAP",
          "M43: M42 + 122 DAP",
          "M44: M43 + 126 DAP"
         ],
         "xaxis": "x",
         "y": [
          0.23939536600800015,
          0.5619094937680003,
          0.5550405347760005,
          0.5702915809920003,
          0.5652339478799999,
          0.5695635522399998,
          0.5730567936719999,
          0.5663722124800002,
          0.558395780752,
          0.5677681396879998,
          0.570919644264,
          0.5690960354239997,
          0.5884978822560002,
          0.5881633913279998,
          0.5887324425680002,
          0.5929319159199997,
          0.592937608976,
          0.5948854910000002,
          0.6008371365039997,
          0.5989744416639999,
          0.5995463082400001,
          0.598610193552,
          0.5967678948320003,
          0.5979944172480001,
          0.5960199691760001,
          0.595135782304,
          0.60063796784,
          0.6046080272880001,
          0.6036878847039999,
          0.6057051039279999,
          0.6111314137919996,
          0.6107342034639996,
          0.6086852025439998,
          0.6125403072560001,
          0.6133542648719997,
          0.6143364430160001,
          0.6131941017920001,
          0.612634132696,
          0.6118146882240001,
          0.6105025728719999,
          0.612144046376,
          0.6143247780639999,
          0.6148653147680001,
          0.62074317176
         ],
         "yaxis": "y"
        }
       ],
       "layout": {
        "autosize": false,
        "height": 750,
        "legend": {
         "tracegroupgap": 0
        },
        "margin": {
         "b": 1,
         "l": 1,
         "r": 1,
         "t": 1
        },
        "shapes": [
         {
          "line": {
           "dash": "dot",
           "width": 1
          },
          "type": "line",
          "x0": 0,
          "x1": 1,
          "xref": "x domain",
          "y0": 0.609178248674854,
          "y1": 0.609178248674854,
          "yref": "y"
         },
         {
          "line": {
           "dash": "dot",
           "width": 1
          },
          "type": "line",
          "x0": 0,
          "x1": 1,
          "xref": "x domain",
          "y0": 0.5734744168531463,
          "y1": 0.5734744168531463,
          "yref": "y"
         },
         {
          "type": "rect",
          "x0": 15.5,
          "x1": 18.5,
          "xref": "x",
          "y0": 0,
          "y1": 1,
          "yref": "y domain"
         }
        ],
        "template": {
         "data": {
          "bar": [
           {
            "error_x": {
             "color": "#2a3f5f"
            },
            "error_y": {
             "color": "#2a3f5f"
            },
            "marker": {
             "line": {
              "color": "#E5ECF6",
              "width": 0.5
             },
             "pattern": {
              "fillmode": "overlay",
              "size": 10,
              "solidity": 0.2
             }
            },
            "type": "bar"
           }
          ],
          "barpolar": [
           {
            "marker": {
             "line": {
              "color": "#E5ECF6",
              "width": 0.5
             },
             "pattern": {
              "fillmode": "overlay",
              "size": 10,
              "solidity": 0.2
             }
            },
            "type": "barpolar"
           }
          ],
          "carpet": [
           {
            "aaxis": {
             "endlinecolor": "#2a3f5f",
             "gridcolor": "white",
             "linecolor": "white",
             "minorgridcolor": "white",
             "startlinecolor": "#2a3f5f"
            },
            "baxis": {
             "endlinecolor": "#2a3f5f",
             "gridcolor": "white",
             "linecolor": "white",
             "minorgridcolor": "white",
             "startlinecolor": "#2a3f5f"
            },
            "type": "carpet"
           }
          ],
          "choropleth": [
           {
            "colorbar": {
             "outlinewidth": 0,
             "ticks": ""
            },
            "type": "choropleth"
           }
          ],
          "contour": [
           {
            "colorbar": {
             "outlinewidth": 0,
             "ticks": ""
            },
            "colorscale": [
             [
              0,
              "#0d0887"
             ],
             [
              0.1111111111111111,
              "#46039f"
             ],
             [
              0.2222222222222222,
              "#7201a8"
             ],
             [
              0.3333333333333333,
              "#9c179e"
             ],
             [
              0.4444444444444444,
              "#bd3786"
             ],
             [
              0.5555555555555556,
              "#d8576b"
             ],
             [
              0.6666666666666666,
              "#ed7953"
             ],
             [
              0.7777777777777778,
              "#fb9f3a"
             ],
             [
              0.8888888888888888,
              "#fdca26"
             ],
             [
              1,
              "#f0f921"
             ]
            ],
            "type": "contour"
           }
          ],
          "contourcarpet": [
           {
            "colorbar": {
             "outlinewidth": 0,
             "ticks": ""
            },
            "type": "contourcarpet"
           }
          ],
          "heatmap": [
           {
            "colorbar": {
             "outlinewidth": 0,
             "ticks": ""
            },
            "colorscale": [
             [
              0,
              "#0d0887"
             ],
             [
              0.1111111111111111,
              "#46039f"
             ],
             [
              0.2222222222222222,
              "#7201a8"
             ],
             [
              0.3333333333333333,
              "#9c179e"
             ],
             [
              0.4444444444444444,
              "#bd3786"
             ],
             [
              0.5555555555555556,
              "#d8576b"
             ],
             [
              0.6666666666666666,
              "#ed7953"
             ],
             [
              0.7777777777777778,
              "#fb9f3a"
             ],
             [
              0.8888888888888888,
              "#fdca26"
             ],
             [
              1,
              "#f0f921"
             ]
            ],
            "type": "heatmap"
           }
          ],
          "heatmapgl": [
           {
            "colorbar": {
             "outlinewidth": 0,
             "ticks": ""
            },
            "colorscale": [
             [
              0,
              "#0d0887"
             ],
             [
              0.1111111111111111,
              "#46039f"
             ],
             [
              0.2222222222222222,
              "#7201a8"
             ],
             [
              0.3333333333333333,
              "#9c179e"
             ],
             [
              0.4444444444444444,
              "#bd3786"
             ],
             [
              0.5555555555555556,
              "#d8576b"
             ],
             [
              0.6666666666666666,
              "#ed7953"
             ],
             [
              0.7777777777777778,
              "#fb9f3a"
             ],
             [
              0.8888888888888888,
              "#fdca26"
             ],
             [
              1,
              "#f0f921"
             ]
            ],
            "type": "heatmapgl"
           }
          ],
          "histogram": [
           {
            "marker": {
             "pattern": {
              "fillmode": "overlay",
              "size": 10,
              "solidity": 0.2
             }
            },
            "type": "histogram"
           }
          ],
          "histogram2d": [
           {
            "colorbar": {
             "outlinewidth": 0,
             "ticks": ""
            },
            "colorscale": [
             [
              0,
              "#0d0887"
             ],
             [
              0.1111111111111111,
              "#46039f"
             ],
             [
              0.2222222222222222,
              "#7201a8"
             ],
             [
              0.3333333333333333,
              "#9c179e"
             ],
             [
              0.4444444444444444,
              "#bd3786"
             ],
             [
              0.5555555555555556,
              "#d8576b"
             ],
             [
              0.6666666666666666,
              "#ed7953"
             ],
             [
              0.7777777777777778,
              "#fb9f3a"
             ],
             [
              0.8888888888888888,
              "#fdca26"
             ],
             [
              1,
              "#f0f921"
             ]
            ],
            "type": "histogram2d"
           }
          ],
          "histogram2dcontour": [
           {
            "colorbar": {
             "outlinewidth": 0,
             "ticks": ""
            },
            "colorscale": [
             [
              0,
              "#0d0887"
             ],
             [
              0.1111111111111111,
              "#46039f"
             ],
             [
              0.2222222222222222,
              "#7201a8"
             ],
             [
              0.3333333333333333,
              "#9c179e"
             ],
             [
              0.4444444444444444,
              "#bd3786"
             ],
             [
              0.5555555555555556,
              "#d8576b"
             ],
             [
              0.6666666666666666,
              "#ed7953"
             ],
             [
              0.7777777777777778,
              "#fb9f3a"
             ],
             [
              0.8888888888888888,
              "#fdca26"
             ],
             [
              1,
              "#f0f921"
             ]
            ],
            "type": "histogram2dcontour"
           }
          ],
          "mesh3d": [
           {
            "colorbar": {
             "outlinewidth": 0,
             "ticks": ""
            },
            "type": "mesh3d"
           }
          ],
          "parcoords": [
           {
            "line": {
             "colorbar": {
              "outlinewidth": 0,
              "ticks": ""
             }
            },
            "type": "parcoords"
           }
          ],
          "pie": [
           {
            "automargin": true,
            "type": "pie"
           }
          ],
          "scatter": [
           {
            "fillpattern": {
             "fillmode": "overlay",
             "size": 10,
             "solidity": 0.2
            },
            "type": "scatter"
           }
          ],
          "scatter3d": [
           {
            "line": {
             "colorbar": {
              "outlinewidth": 0,
              "ticks": ""
             }
            },
            "marker": {
             "colorbar": {
              "outlinewidth": 0,
              "ticks": ""
             }
            },
            "type": "scatter3d"
           }
          ],
          "scattercarpet": [
           {
            "marker": {
             "colorbar": {
              "outlinewidth": 0,
              "ticks": ""
             }
            },
            "type": "scattercarpet"
           }
          ],
          "scattergeo": [
           {
            "marker": {
             "colorbar": {
              "outlinewidth": 0,
              "ticks": ""
             }
            },
            "type": "scattergeo"
           }
          ],
          "scattergl": [
           {
            "marker": {
             "colorbar": {
              "outlinewidth": 0,
              "ticks": ""
             }
            },
            "type": "scattergl"
           }
          ],
          "scattermapbox": [
           {
            "marker": {
             "colorbar": {
              "outlinewidth": 0,
              "ticks": ""
             }
            },
            "type": "scattermapbox"
           }
          ],
          "scatterpolar": [
           {
            "marker": {
             "colorbar": {
              "outlinewidth": 0,
              "ticks": ""
             }
            },
            "type": "scatterpolar"
           }
          ],
          "scatterpolargl": [
           {
            "marker": {
             "colorbar": {
              "outlinewidth": 0,
              "ticks": ""
             }
            },
            "type": "scatterpolargl"
           }
          ],
          "scatterternary": [
           {
            "marker": {
             "colorbar": {
              "outlinewidth": 0,
              "ticks": ""
             }
            },
            "type": "scatterternary"
           }
          ],
          "surface": [
           {
            "colorbar": {
             "outlinewidth": 0,
             "ticks": ""
            },
            "colorscale": [
             [
              0,
              "#0d0887"
             ],
             [
              0.1111111111111111,
              "#46039f"
             ],
             [
              0.2222222222222222,
              "#7201a8"
             ],
             [
              0.3333333333333333,
              "#9c179e"
             ],
             [
              0.4444444444444444,
              "#bd3786"
             ],
             [
              0.5555555555555556,
              "#d8576b"
             ],
             [
              0.6666666666666666,
              "#ed7953"
             ],
             [
              0.7777777777777778,
              "#fb9f3a"
             ],
             [
              0.8888888888888888,
              "#fdca26"
             ],
             [
              1,
              "#f0f921"
             ]
            ],
            "type": "surface"
           }
          ],
          "table": [
           {
            "cells": {
             "fill": {
              "color": "#EBF0F8"
             },
             "line": {
              "color": "white"
             }
            },
            "header": {
             "fill": {
              "color": "#C8D4E3"
             },
             "line": {
              "color": "white"
             }
            },
            "type": "table"
           }
          ]
         },
         "layout": {
          "annotationdefaults": {
           "arrowcolor": "#2a3f5f",
           "arrowhead": 0,
           "arrowwidth": 1
          },
          "autotypenumbers": "strict",
          "coloraxis": {
           "colorbar": {
            "outlinewidth": 0,
            "ticks": ""
           }
          },
          "colorscale": {
           "diverging": [
            [
             0,
             "#8e0152"
            ],
            [
             0.1,
             "#c51b7d"
            ],
            [
             0.2,
             "#de77ae"
            ],
            [
             0.3,
             "#f1b6da"
            ],
            [
             0.4,
             "#fde0ef"
            ],
            [
             0.5,
             "#f7f7f7"
            ],
            [
             0.6,
             "#e6f5d0"
            ],
            [
             0.7,
             "#b8e186"
            ],
            [
             0.8,
             "#7fbc41"
            ],
            [
             0.9,
             "#4d9221"
            ],
            [
             1,
             "#276419"
            ]
           ],
           "sequential": [
            [
             0,
             "#0d0887"
            ],
            [
             0.1111111111111111,
             "#46039f"
            ],
            [
             0.2222222222222222,
             "#7201a8"
            ],
            [
             0.3333333333333333,
             "#9c179e"
            ],
            [
             0.4444444444444444,
             "#bd3786"
            ],
            [
             0.5555555555555556,
             "#d8576b"
            ],
            [
             0.6666666666666666,
             "#ed7953"
            ],
            [
             0.7777777777777778,
             "#fb9f3a"
            ],
            [
             0.8888888888888888,
             "#fdca26"
            ],
            [
             1,
             "#f0f921"
            ]
           ],
           "sequentialminus": [
            [
             0,
             "#0d0887"
            ],
            [
             0.1111111111111111,
             "#46039f"
            ],
            [
             0.2222222222222222,
             "#7201a8"
            ],
            [
             0.3333333333333333,
             "#9c179e"
            ],
            [
             0.4444444444444444,
             "#bd3786"
            ],
            [
             0.5555555555555556,
             "#d8576b"
            ],
            [
             0.6666666666666666,
             "#ed7953"
            ],
            [
             0.7777777777777778,
             "#fb9f3a"
            ],
            [
             0.8888888888888888,
             "#fdca26"
            ],
            [
             1,
             "#f0f921"
            ]
           ]
          },
          "colorway": [
           "#636efa",
           "#EF553B",
           "#00cc96",
           "#ab63fa",
           "#FFA15A",
           "#19d3f3",
           "#FF6692",
           "#B6E880",
           "#FF97FF",
           "#FECB52"
          ],
          "font": {
           "color": "#2a3f5f"
          },
          "geo": {
           "bgcolor": "white",
           "lakecolor": "white",
           "landcolor": "#E5ECF6",
           "showlakes": true,
           "showland": true,
           "subunitcolor": "white"
          },
          "hoverlabel": {
           "align": "left"
          },
          "hovermode": "closest",
          "mapbox": {
           "style": "light"
          },
          "paper_bgcolor": "white",
          "plot_bgcolor": "#E5ECF6",
          "polar": {
           "angularaxis": {
            "gridcolor": "white",
            "linecolor": "white",
            "ticks": ""
           },
           "bgcolor": "#E5ECF6",
           "radialaxis": {
            "gridcolor": "white",
            "linecolor": "white",
            "ticks": ""
           }
          },
          "scene": {
           "xaxis": {
            "backgroundcolor": "#E5ECF6",
            "gridcolor": "white",
            "gridwidth": 2,
            "linecolor": "white",
            "showbackground": true,
            "ticks": "",
            "zerolinecolor": "white"
           },
           "yaxis": {
            "backgroundcolor": "#E5ECF6",
            "gridcolor": "white",
            "gridwidth": 2,
            "linecolor": "white",
            "showbackground": true,
            "ticks": "",
            "zerolinecolor": "white"
           },
           "zaxis": {
            "backgroundcolor": "#E5ECF6",
            "gridcolor": "white",
            "gridwidth": 2,
            "linecolor": "white",
            "showbackground": true,
            "ticks": "",
            "zerolinecolor": "white"
           }
          },
          "shapedefaults": {
           "line": {
            "color": "#2a3f5f"
           }
          },
          "ternary": {
           "aaxis": {
            "gridcolor": "white",
            "linecolor": "white",
            "ticks": ""
           },
           "baxis": {
            "gridcolor": "white",
            "linecolor": "white",
            "ticks": ""
           },
           "bgcolor": "#E5ECF6",
           "caxis": {
            "gridcolor": "white",
            "linecolor": "white",
            "ticks": ""
           }
          },
          "title": {
           "x": 0.05
          },
          "xaxis": {
           "automargin": true,
           "gridcolor": "white",
           "linecolor": "white",
           "ticks": "",
           "title": {
            "standoff": 15
           },
           "zerolinecolor": "white",
           "zerolinewidth": 2
          },
          "yaxis": {
           "automargin": true,
           "gridcolor": "white",
           "linecolor": "white",
           "ticks": "",
           "title": {
            "standoff": 15
           },
           "zerolinecolor": "white",
           "zerolinewidth": 2
          }
         }
        },
        "width": 900,
        "xaxis": {
         "anchor": "y",
         "domain": [
          0,
          1
         ],
         "range": [
          -1,
          44
         ],
         "title": {
          "text": ""
         }
        },
        "yaxis": {
         "anchor": "x",
         "domain": [
          0,
          1
         ],
         "title": {
          "text": "Prediction Ability (pearson r)"
         }
        }
       }
      },
      "text/html": [
       "<div>                            <div id=\"cc2addcf-d339-4c1c-93dd-fb527d18257a\" class=\"plotly-graph-div\" style=\"height:750px; width:900px;\"></div>            <script type=\"text/javascript\">                require([\"plotly\"], function(Plotly) {                    window.PLOTLYENV=window.PLOTLYENV || {};                                    if (document.getElementById(\"cc2addcf-d339-4c1c-93dd-fb527d18257a\")) {                    Plotly.newPlot(                        \"cc2addcf-d339-4c1c-93dd-fb527d18257a\",                        [{\"error_y\":{\"array\":[0.011564923085146013,0.011564923085146013,0.011564923085146013,0.011564923085146013,0.011564923085146013,0.011564923085146013,0.011564923085146013,0.011564923085146013,0.011564923085146013,0.011564923085146013,0.011564923085146013,0.011564923085146013,0.011564923085146013,0.011564923085146013,0.011564923085146013,0.011564923085146013,0.011564923085146013,0.011564923085146013,0.011564923085146013,0.011564923085146013,0.011564923085146013,0.011564923085146013,0.011564923085146013,0.011564923085146013,0.011564923085146013,0.011564923085146013,0.011564923085146013,0.011564923085146013,0.011564923085146013,0.011564923085146013,0.011564923085146013,0.011564923085146013,0.011564923085146013,0.011564923085146013,0.011564923085146013,0.011564923085146013,0.011564923085146013,0.011564923085146013,0.011564923085146013,0.011564923085146013,0.011564923085146013,0.011564923085146013,0.011564923085146013,0.011564923085146013]},\"hovertemplate\":\"Label=%{x}\\u003cbr\\u003eMean=%{y}\\u003cextra\\u003e\\u003c\\u002fextra\\u003e\",\"legendgroup\":\"\",\"marker\":{\"color\":\"#636efa\",\"symbol\":\"circle\"},\"mode\":\"markers\",\"name\":\"\",\"orientation\":\"v\",\"showlegend\":false,\"x\":[\"M1: Genomic\",\"M2: 9 DAP\",\"M3: M2 + 10 DAP\",\"M4: M3 + 15 DAP\",\"M5: M4 + 17 DAP\",\"M6: M5 + 22 DAP\",\"M7: M6 + 24 DAP\",\"M8: M7 + 27 DAP\",\"M9: M8 + 30 DAP\",\"M10: M9 + 32 DAP\",\"M11: M10 + 34 DAP\",\"M12: M11 + 37 DAP\",\"M13: M12 + 39 DAP\",\"M14: M13 + 41 DAP\",\"M15: M14 + 45 DAP\",\"M16: M15 + 48 DAP\",\"M17: M16 + 51 DAP\",\"M18: M17 + 53 DAP\",\"M19: M18 + 56 DAP\",\"M20: M19 + 60 DAP\",\"M21: M20 + 62 DAP\",\"M22: M21 + 64 DAP\",\"M23: M22 + 66 DAP\",\"M24: M23 + 69 DAP\",\"M25: M24 + 71 DAP\",\"M26: M25 + 73 DAP\",\"M27: M26 + 76 DAP\",\"M28: M27 + 78 DAP\",\"M29: M28 + 80 DAP\",\"M30: M29 + 83 DAP\",\"M31: M30 + 85 DAP\",\"M32: M31 + 87 DAP\",\"M33: M32 + 90 DAP\",\"M34: M33 + 93 DAP\",\"M35: M34 + 96 DAP\",\"M36: M35 + 99 DAP\",\"M37: M36 + 101 DAP\",\"M38: M37 + 104 DAP\",\"M39: M38 + 107 DAP\",\"M40: M39 + 111 DAP\",\"M41: M40 + 114 DAP\",\"M42: M41 + 118 DAP\",\"M43: M42 + 122 DAP\",\"M44: M43 + 126 DAP\"],\"xaxis\":\"x\",\"y\":[0.23939536600800015,0.5619094937680003,0.5550405347760005,0.5702915809920003,0.5652339478799999,0.5695635522399998,0.5730567936719999,0.5663722124800002,0.558395780752,0.5677681396879998,0.570919644264,0.5690960354239997,0.5884978822560002,0.5881633913279998,0.5887324425680002,0.5929319159199997,0.592937608976,0.5948854910000002,0.6008371365039997,0.5989744416639999,0.5995463082400001,0.598610193552,0.5967678948320003,0.5979944172480001,0.5960199691760001,0.595135782304,0.60063796784,0.6046080272880001,0.6036878847039999,0.6057051039279999,0.6111314137919996,0.6107342034639996,0.6086852025439998,0.6125403072560001,0.6133542648719997,0.6143364430160001,0.6131941017920001,0.612634132696,0.6118146882240001,0.6105025728719999,0.612144046376,0.6143247780639999,0.6148653147680001,0.62074317176],\"yaxis\":\"y\",\"type\":\"scatter\"}],                        {\"template\":{\"data\":{\"histogram2dcontour\":[{\"type\":\"histogram2dcontour\",\"colorbar\":{\"outlinewidth\":0,\"ticks\":\"\"},\"colorscale\":[[0.0,\"#0d0887\"],[0.1111111111111111,\"#46039f\"],[0.2222222222222222,\"#7201a8\"],[0.3333333333333333,\"#9c179e\"],[0.4444444444444444,\"#bd3786\"],[0.5555555555555556,\"#d8576b\"],[0.6666666666666666,\"#ed7953\"],[0.7777777777777778,\"#fb9f3a\"],[0.8888888888888888,\"#fdca26\"],[1.0,\"#f0f921\"]]}],\"choropleth\":[{\"type\":\"choropleth\",\"colorbar\":{\"outlinewidth\":0,\"ticks\":\"\"}}],\"histogram2d\":[{\"type\":\"histogram2d\",\"colorbar\":{\"outlinewidth\":0,\"ticks\":\"\"},\"colorscale\":[[0.0,\"#0d0887\"],[0.1111111111111111,\"#46039f\"],[0.2222222222222222,\"#7201a8\"],[0.3333333333333333,\"#9c179e\"],[0.4444444444444444,\"#bd3786\"],[0.5555555555555556,\"#d8576b\"],[0.6666666666666666,\"#ed7953\"],[0.7777777777777778,\"#fb9f3a\"],[0.8888888888888888,\"#fdca26\"],[1.0,\"#f0f921\"]]}],\"heatmap\":[{\"type\":\"heatmap\",\"colorbar\":{\"outlinewidth\":0,\"ticks\":\"\"},\"colorscale\":[[0.0,\"#0d0887\"],[0.1111111111111111,\"#46039f\"],[0.2222222222222222,\"#7201a8\"],[0.3333333333333333,\"#9c179e\"],[0.4444444444444444,\"#bd3786\"],[0.5555555555555556,\"#d8576b\"],[0.6666666666666666,\"#ed7953\"],[0.7777777777777778,\"#fb9f3a\"],[0.8888888888888888,\"#fdca26\"],[1.0,\"#f0f921\"]]}],\"heatmapgl\":[{\"type\":\"heatmapgl\",\"colorbar\":{\"outlinewidth\":0,\"ticks\":\"\"},\"colorscale\":[[0.0,\"#0d0887\"],[0.1111111111111111,\"#46039f\"],[0.2222222222222222,\"#7201a8\"],[0.3333333333333333,\"#9c179e\"],[0.4444444444444444,\"#bd3786\"],[0.5555555555555556,\"#d8576b\"],[0.6666666666666666,\"#ed7953\"],[0.7777777777777778,\"#fb9f3a\"],[0.8888888888888888,\"#fdca26\"],[1.0,\"#f0f921\"]]}],\"contourcarpet\":[{\"type\":\"contourcarpet\",\"colorbar\":{\"outlinewidth\":0,\"ticks\":\"\"}}],\"contour\":[{\"type\":\"contour\",\"colorbar\":{\"outlinewidth\":0,\"ticks\":\"\"},\"colorscale\":[[0.0,\"#0d0887\"],[0.1111111111111111,\"#46039f\"],[0.2222222222222222,\"#7201a8\"],[0.3333333333333333,\"#9c179e\"],[0.4444444444444444,\"#bd3786\"],[0.5555555555555556,\"#d8576b\"],[0.6666666666666666,\"#ed7953\"],[0.7777777777777778,\"#fb9f3a\"],[0.8888888888888888,\"#fdca26\"],[1.0,\"#f0f921\"]]}],\"surface\":[{\"type\":\"surface\",\"colorbar\":{\"outlinewidth\":0,\"ticks\":\"\"},\"colorscale\":[[0.0,\"#0d0887\"],[0.1111111111111111,\"#46039f\"],[0.2222222222222222,\"#7201a8\"],[0.3333333333333333,\"#9c179e\"],[0.4444444444444444,\"#bd3786\"],[0.5555555555555556,\"#d8576b\"],[0.6666666666666666,\"#ed7953\"],[0.7777777777777778,\"#fb9f3a\"],[0.8888888888888888,\"#fdca26\"],[1.0,\"#f0f921\"]]}],\"mesh3d\":[{\"type\":\"mesh3d\",\"colorbar\":{\"outlinewidth\":0,\"ticks\":\"\"}}],\"scatter\":[{\"fillpattern\":{\"fillmode\":\"overlay\",\"size\":10,\"solidity\":0.2},\"type\":\"scatter\"}],\"parcoords\":[{\"type\":\"parcoords\",\"line\":{\"colorbar\":{\"outlinewidth\":0,\"ticks\":\"\"}}}],\"scatterpolargl\":[{\"type\":\"scatterpolargl\",\"marker\":{\"colorbar\":{\"outlinewidth\":0,\"ticks\":\"\"}}}],\"bar\":[{\"error_x\":{\"color\":\"#2a3f5f\"},\"error_y\":{\"color\":\"#2a3f5f\"},\"marker\":{\"line\":{\"color\":\"#E5ECF6\",\"width\":0.5},\"pattern\":{\"fillmode\":\"overlay\",\"size\":10,\"solidity\":0.2}},\"type\":\"bar\"}],\"scattergeo\":[{\"type\":\"scattergeo\",\"marker\":{\"colorbar\":{\"outlinewidth\":0,\"ticks\":\"\"}}}],\"scatterpolar\":[{\"type\":\"scatterpolar\",\"marker\":{\"colorbar\":{\"outlinewidth\":0,\"ticks\":\"\"}}}],\"histogram\":[{\"marker\":{\"pattern\":{\"fillmode\":\"overlay\",\"size\":10,\"solidity\":0.2}},\"type\":\"histogram\"}],\"scattergl\":[{\"type\":\"scattergl\",\"marker\":{\"colorbar\":{\"outlinewidth\":0,\"ticks\":\"\"}}}],\"scatter3d\":[{\"type\":\"scatter3d\",\"line\":{\"colorbar\":{\"outlinewidth\":0,\"ticks\":\"\"}},\"marker\":{\"colorbar\":{\"outlinewidth\":0,\"ticks\":\"\"}}}],\"scattermapbox\":[{\"type\":\"scattermapbox\",\"marker\":{\"colorbar\":{\"outlinewidth\":0,\"ticks\":\"\"}}}],\"scatterternary\":[{\"type\":\"scatterternary\",\"marker\":{\"colorbar\":{\"outlinewidth\":0,\"ticks\":\"\"}}}],\"scattercarpet\":[{\"type\":\"scattercarpet\",\"marker\":{\"colorbar\":{\"outlinewidth\":0,\"ticks\":\"\"}}}],\"carpet\":[{\"aaxis\":{\"endlinecolor\":\"#2a3f5f\",\"gridcolor\":\"white\",\"linecolor\":\"white\",\"minorgridcolor\":\"white\",\"startlinecolor\":\"#2a3f5f\"},\"baxis\":{\"endlinecolor\":\"#2a3f5f\",\"gridcolor\":\"white\",\"linecolor\":\"white\",\"minorgridcolor\":\"white\",\"startlinecolor\":\"#2a3f5f\"},\"type\":\"carpet\"}],\"table\":[{\"cells\":{\"fill\":{\"color\":\"#EBF0F8\"},\"line\":{\"color\":\"white\"}},\"header\":{\"fill\":{\"color\":\"#C8D4E3\"},\"line\":{\"color\":\"white\"}},\"type\":\"table\"}],\"barpolar\":[{\"marker\":{\"line\":{\"color\":\"#E5ECF6\",\"width\":0.5},\"pattern\":{\"fillmode\":\"overlay\",\"size\":10,\"solidity\":0.2}},\"type\":\"barpolar\"}],\"pie\":[{\"automargin\":true,\"type\":\"pie\"}]},\"layout\":{\"autotypenumbers\":\"strict\",\"colorway\":[\"#636efa\",\"#EF553B\",\"#00cc96\",\"#ab63fa\",\"#FFA15A\",\"#19d3f3\",\"#FF6692\",\"#B6E880\",\"#FF97FF\",\"#FECB52\"],\"font\":{\"color\":\"#2a3f5f\"},\"hovermode\":\"closest\",\"hoverlabel\":{\"align\":\"left\"},\"paper_bgcolor\":\"white\",\"plot_bgcolor\":\"#E5ECF6\",\"polar\":{\"bgcolor\":\"#E5ECF6\",\"angularaxis\":{\"gridcolor\":\"white\",\"linecolor\":\"white\",\"ticks\":\"\"},\"radialaxis\":{\"gridcolor\":\"white\",\"linecolor\":\"white\",\"ticks\":\"\"}},\"ternary\":{\"bgcolor\":\"#E5ECF6\",\"aaxis\":{\"gridcolor\":\"white\",\"linecolor\":\"white\",\"ticks\":\"\"},\"baxis\":{\"gridcolor\":\"white\",\"linecolor\":\"white\",\"ticks\":\"\"},\"caxis\":{\"gridcolor\":\"white\",\"linecolor\":\"white\",\"ticks\":\"\"}},\"coloraxis\":{\"colorbar\":{\"outlinewidth\":0,\"ticks\":\"\"}},\"colorscale\":{\"sequential\":[[0.0,\"#0d0887\"],[0.1111111111111111,\"#46039f\"],[0.2222222222222222,\"#7201a8\"],[0.3333333333333333,\"#9c179e\"],[0.4444444444444444,\"#bd3786\"],[0.5555555555555556,\"#d8576b\"],[0.6666666666666666,\"#ed7953\"],[0.7777777777777778,\"#fb9f3a\"],[0.8888888888888888,\"#fdca26\"],[1.0,\"#f0f921\"]],\"sequentialminus\":[[0.0,\"#0d0887\"],[0.1111111111111111,\"#46039f\"],[0.2222222222222222,\"#7201a8\"],[0.3333333333333333,\"#9c179e\"],[0.4444444444444444,\"#bd3786\"],[0.5555555555555556,\"#d8576b\"],[0.6666666666666666,\"#ed7953\"],[0.7777777777777778,\"#fb9f3a\"],[0.8888888888888888,\"#fdca26\"],[1.0,\"#f0f921\"]],\"diverging\":[[0,\"#8e0152\"],[0.1,\"#c51b7d\"],[0.2,\"#de77ae\"],[0.3,\"#f1b6da\"],[0.4,\"#fde0ef\"],[0.5,\"#f7f7f7\"],[0.6,\"#e6f5d0\"],[0.7,\"#b8e186\"],[0.8,\"#7fbc41\"],[0.9,\"#4d9221\"],[1,\"#276419\"]]},\"xaxis\":{\"gridcolor\":\"white\",\"linecolor\":\"white\",\"ticks\":\"\",\"title\":{\"standoff\":15},\"zerolinecolor\":\"white\",\"automargin\":true,\"zerolinewidth\":2},\"yaxis\":{\"gridcolor\":\"white\",\"linecolor\":\"white\",\"ticks\":\"\",\"title\":{\"standoff\":15},\"zerolinecolor\":\"white\",\"automargin\":true,\"zerolinewidth\":2},\"scene\":{\"xaxis\":{\"backgroundcolor\":\"#E5ECF6\",\"gridcolor\":\"white\",\"linecolor\":\"white\",\"showbackground\":true,\"ticks\":\"\",\"zerolinecolor\":\"white\",\"gridwidth\":2},\"yaxis\":{\"backgroundcolor\":\"#E5ECF6\",\"gridcolor\":\"white\",\"linecolor\":\"white\",\"showbackground\":true,\"ticks\":\"\",\"zerolinecolor\":\"white\",\"gridwidth\":2},\"zaxis\":{\"backgroundcolor\":\"#E5ECF6\",\"gridcolor\":\"white\",\"linecolor\":\"white\",\"showbackground\":true,\"ticks\":\"\",\"zerolinecolor\":\"white\",\"gridwidth\":2}},\"shapedefaults\":{\"line\":{\"color\":\"#2a3f5f\"}},\"annotationdefaults\":{\"arrowcolor\":\"#2a3f5f\",\"arrowhead\":0,\"arrowwidth\":1},\"geo\":{\"bgcolor\":\"white\",\"landcolor\":\"#E5ECF6\",\"subunitcolor\":\"white\",\"showland\":true,\"showlakes\":true,\"lakecolor\":\"white\"},\"title\":{\"x\":0.05},\"mapbox\":{\"style\":\"light\"}}},\"xaxis\":{\"anchor\":\"y\",\"domain\":[0.0,1.0],\"title\":{\"text\":\"\"},\"range\":[-1,44]},\"yaxis\":{\"anchor\":\"x\",\"domain\":[0.0,1.0],\"title\":{\"text\":\"Prediction Ability (pearson r)\"}},\"legend\":{\"tracegroupgap\":0},\"margin\":{\"t\":1,\"l\":1,\"r\":1,\"b\":1},\"shapes\":[{\"line\":{\"dash\":\"dot\",\"width\":1},\"type\":\"line\",\"x0\":0,\"x1\":1,\"xref\":\"x domain\",\"y0\":0.609178248674854,\"y1\":0.609178248674854,\"yref\":\"y\"},{\"line\":{\"dash\":\"dot\",\"width\":1},\"type\":\"line\",\"x0\":0,\"x1\":1,\"xref\":\"x domain\",\"y0\":0.5734744168531463,\"y1\":0.5734744168531463,\"yref\":\"y\"},{\"type\":\"rect\",\"x0\":15.5,\"x1\":18.5,\"xref\":\"x\",\"y0\":0,\"y1\":1,\"yref\":\"y domain\"}],\"autosize\":false,\"width\":900,\"height\":750},                        {\"responsive\": true}                    ).then(function(){\n",
       "                            \n",
       "var gd = document.getElementById('cc2addcf-d339-4c1c-93dd-fb527d18257a');\n",
       "var x = new MutationObserver(function (mutations, observer) {{\n",
       "        var display = window.getComputedStyle(gd).display;\n",
       "        if (!display || display === 'none') {{\n",
       "            console.log([gd, 'removed!']);\n",
       "            Plotly.purge(gd);\n",
       "            observer.disconnect();\n",
       "        }}\n",
       "}});\n",
       "\n",
       "// Listen for the removal of the full notebook cells\n",
       "var notebookContainer = gd.closest('#notebook-container');\n",
       "if (notebookContainer) {{\n",
       "    x.observe(notebookContainer, {childList: true});\n",
       "}}\n",
       "\n",
       "// Listen for the clearing of the current output cell\n",
       "var outputEl = gd.closest('.output');\n",
       "if (outputEl) {{\n",
       "    x.observe(outputEl, {childList: true});\n",
       "}}\n",
       "\n",
       "                        })                };                });            </script>        </div>"
      ]
     },
     "metadata": {},
     "output_type": "display_data"
    }
   ],
   "source": [
    "#FIGURE 6\n",
    "tukey_simultanious_fig(sim_CIs,\n",
    "                       #save_html_path=\"../Figures/Fig6.html\",\n",
    "                       #save_svg_path=\"../Figures/Fig6_noMod.svg\"\n",
    "                      )"
   ]
  },
  {
   "cell_type": "code",
   "execution_count": 15,
   "id": "7dcf19f6",
   "metadata": {},
   "outputs": [
    {
     "name": "stdout",
     "output_type": "stream",
     "text": [
      "5500\n",
      "F_onewayResult(statistic=160.39715848801248, pvalue=0.0)\n",
      "Preforming Tukey's HSD test...\n"
     ]
    }
   ],
   "source": [
    "sng_long_pred_noPHT = process_labels(sng_long_pred_noPHT)\n",
    "sng_long_pred_noPHT = add_DAP(temp_VIs, sng_long_pred_noPHT)\n",
    "sim_CIs_noPHT = run_tukey(sng_long_pred_noPHT) #run anova"
   ]
  },
  {
   "cell_type": "code",
   "execution_count": 16,
   "id": "c59ce48f",
   "metadata": {},
   "outputs": [
    {
     "data": {
      "application/vnd.plotly.v1+json": {
       "config": {
        "plotlyServerURL": "https://plot.ly"
       },
       "data": [
        {
         "error_y": {
          "array": [
           0.011867124385206531,
           0.011867124385206531,
           0.011867124385206531,
           0.011867124385206531,
           0.011867124385206531,
           0.011867124385206531,
           0.011867124385206531,
           0.011867124385206531,
           0.011867124385206531,
           0.011867124385206531,
           0.011867124385206531,
           0.011867124385206531,
           0.011867124385206531,
           0.011867124385206531,
           0.011867124385206531,
           0.011867124385206531,
           0.011867124385206531,
           0.011867124385206531,
           0.011867124385206531,
           0.011867124385206531,
           0.011867124385206531,
           0.011867124385206531,
           0.011867124385206531,
           0.011867124385206531,
           0.011867124385206531,
           0.011867124385206531,
           0.011867124385206531,
           0.011867124385206531,
           0.011867124385206531,
           0.011867124385206531,
           0.011867124385206531,
           0.011867124385206531,
           0.011867124385206531,
           0.011867124385206531,
           0.011867124385206531,
           0.011867124385206531,
           0.011867124385206531,
           0.011867124385206531,
           0.011867124385206531,
           0.011867124385206531,
           0.011867124385206531,
           0.011867124385206531,
           0.011867124385206531,
           0.011867124385206531
          ]
         },
         "hovertemplate": "Label=%{x}<br>Mean=%{y}<extra></extra>",
         "legendgroup": "",
         "marker": {
          "color": "#636efa",
          "symbol": "circle"
         },
         "mode": "markers",
         "name": "",
         "orientation": "v",
         "showlegend": false,
         "type": "scatter",
         "x": [
          "M1: Genomic",
          "M2: 9 DAP",
          "M3: M2 + 10 DAP",
          "M4: M3 + 15 DAP",
          "M5: M4 + 17 DAP",
          "M6: M5 + 22 DAP",
          "M7: M6 + 24 DAP",
          "M8: M7 + 27 DAP",
          "M9: M8 + 30 DAP",
          "M10: M9 + 32 DAP",
          "M11: M10 + 34 DAP",
          "M12: M11 + 37 DAP",
          "M13: M12 + 39 DAP",
          "M14: M13 + 41 DAP",
          "M15: M14 + 45 DAP",
          "M16: M15 + 48 DAP",
          "M17: M16 + 51 DAP",
          "M18: M17 + 53 DAP",
          "M19: M18 + 56 DAP",
          "M20: M19 + 60 DAP",
          "M21: M20 + 62 DAP",
          "M22: M21 + 64 DAP",
          "M23: M22 + 66 DAP",
          "M24: M23 + 69 DAP",
          "M25: M24 + 71 DAP",
          "M26: M25 + 73 DAP",
          "M27: M26 + 76 DAP",
          "M28: M27 + 78 DAP",
          "M29: M28 + 80 DAP",
          "M30: M29 + 83 DAP",
          "M31: M30 + 85 DAP",
          "M32: M31 + 87 DAP",
          "M33: M32 + 90 DAP",
          "M34: M33 + 93 DAP",
          "M35: M34 + 96 DAP",
          "M36: M35 + 99 DAP",
          "M37: M36 + 101 DAP",
          "M38: M37 + 104 DAP",
          "M39: M38 + 107 DAP",
          "M40: M39 + 111 DAP",
          "M41: M40 + 114 DAP",
          "M42: M41 + 118 DAP",
          "M43: M42 + 122 DAP",
          "M44: M43 + 126 DAP"
         ],
         "xaxis": "x",
         "y": [
          0.2478650568423274,
          0.5627555935272636,
          0.5569937082343258,
          0.5571600666882407,
          0.5484659333059039,
          0.5509789156787289,
          0.5568295015890744,
          0.5441531720415483,
          0.5329459479749619,
          0.5380810614143352,
          0.543489624041474,
          0.542423478499194,
          0.5691919363009954,
          0.5667269734522979,
          0.5665222753070005,
          0.5701503201656631,
          0.5722298664009209,
          0.5709078465447859,
          0.5791554732372298,
          0.5778821051806664,
          0.5776597499411387,
          0.575802769236168,
          0.5777659308794854,
          0.5759332785989405,
          0.5759467498463771,
          0.5742903580025149,
          0.5845439011172684,
          0.5865975277898468,
          0.5890113857171195,
          0.5909534939371944,
          0.5965954443670237,
          0.5951436363611774,
          0.5926926323730748,
          0.6012150536610872,
          0.5996510695283771,
          0.602285689815089,
          0.6048897782143662,
          0.6015672168428265,
          0.6030102230769033,
          0.6026099491738626,
          0.6028910436005356,
          0.6066813622024322,
          0.6056601130655834,
          0.6054531463956344
         ],
         "yaxis": "y"
        }
       ],
       "layout": {
        "autosize": false,
        "height": 750,
        "legend": {
         "tracegroupgap": 0
        },
        "margin": {
         "b": 1,
         "l": 1,
         "r": 1,
         "t": 1
        },
        "shapes": [
         {
          "line": {
           "dash": "dot",
           "width": 1
          },
          "type": "line",
          "x0": 0,
          "x1": 1,
          "xref": "x domain",
          "y0": 0.5935860220104279,
          "y1": 0.5935860220104279,
          "yref": "y"
         },
         {
          "line": {
           "dash": "dot",
           "width": 1
          },
          "type": "line",
          "x0": 0,
          "x1": 1,
          "xref": "x domain",
          "y0": 0.5746227179124701,
          "y1": 0.5746227179124701,
          "yref": "y"
         },
         {
          "type": "rect",
          "x0": 15.5,
          "x1": 18.5,
          "xref": "x",
          "y0": 0,
          "y1": 1,
          "yref": "y domain"
         }
        ],
        "template": {
         "data": {
          "bar": [
           {
            "error_x": {
             "color": "#2a3f5f"
            },
            "error_y": {
             "color": "#2a3f5f"
            },
            "marker": {
             "line": {
              "color": "#E5ECF6",
              "width": 0.5
             },
             "pattern": {
              "fillmode": "overlay",
              "size": 10,
              "solidity": 0.2
             }
            },
            "type": "bar"
           }
          ],
          "barpolar": [
           {
            "marker": {
             "line": {
              "color": "#E5ECF6",
              "width": 0.5
             },
             "pattern": {
              "fillmode": "overlay",
              "size": 10,
              "solidity": 0.2
             }
            },
            "type": "barpolar"
           }
          ],
          "carpet": [
           {
            "aaxis": {
             "endlinecolor": "#2a3f5f",
             "gridcolor": "white",
             "linecolor": "white",
             "minorgridcolor": "white",
             "startlinecolor": "#2a3f5f"
            },
            "baxis": {
             "endlinecolor": "#2a3f5f",
             "gridcolor": "white",
             "linecolor": "white",
             "minorgridcolor": "white",
             "startlinecolor": "#2a3f5f"
            },
            "type": "carpet"
           }
          ],
          "choropleth": [
           {
            "colorbar": {
             "outlinewidth": 0,
             "ticks": ""
            },
            "type": "choropleth"
           }
          ],
          "contour": [
           {
            "colorbar": {
             "outlinewidth": 0,
             "ticks": ""
            },
            "colorscale": [
             [
              0,
              "#0d0887"
             ],
             [
              0.1111111111111111,
              "#46039f"
             ],
             [
              0.2222222222222222,
              "#7201a8"
             ],
             [
              0.3333333333333333,
              "#9c179e"
             ],
             [
              0.4444444444444444,
              "#bd3786"
             ],
             [
              0.5555555555555556,
              "#d8576b"
             ],
             [
              0.6666666666666666,
              "#ed7953"
             ],
             [
              0.7777777777777778,
              "#fb9f3a"
             ],
             [
              0.8888888888888888,
              "#fdca26"
             ],
             [
              1,
              "#f0f921"
             ]
            ],
            "type": "contour"
           }
          ],
          "contourcarpet": [
           {
            "colorbar": {
             "outlinewidth": 0,
             "ticks": ""
            },
            "type": "contourcarpet"
           }
          ],
          "heatmap": [
           {
            "colorbar": {
             "outlinewidth": 0,
             "ticks": ""
            },
            "colorscale": [
             [
              0,
              "#0d0887"
             ],
             [
              0.1111111111111111,
              "#46039f"
             ],
             [
              0.2222222222222222,
              "#7201a8"
             ],
             [
              0.3333333333333333,
              "#9c179e"
             ],
             [
              0.4444444444444444,
              "#bd3786"
             ],
             [
              0.5555555555555556,
              "#d8576b"
             ],
             [
              0.6666666666666666,
              "#ed7953"
             ],
             [
              0.7777777777777778,
              "#fb9f3a"
             ],
             [
              0.8888888888888888,
              "#fdca26"
             ],
             [
              1,
              "#f0f921"
             ]
            ],
            "type": "heatmap"
           }
          ],
          "heatmapgl": [
           {
            "colorbar": {
             "outlinewidth": 0,
             "ticks": ""
            },
            "colorscale": [
             [
              0,
              "#0d0887"
             ],
             [
              0.1111111111111111,
              "#46039f"
             ],
             [
              0.2222222222222222,
              "#7201a8"
             ],
             [
              0.3333333333333333,
              "#9c179e"
             ],
             [
              0.4444444444444444,
              "#bd3786"
             ],
             [
              0.5555555555555556,
              "#d8576b"
             ],
             [
              0.6666666666666666,
              "#ed7953"
             ],
             [
              0.7777777777777778,
              "#fb9f3a"
             ],
             [
              0.8888888888888888,
              "#fdca26"
             ],
             [
              1,
              "#f0f921"
             ]
            ],
            "type": "heatmapgl"
           }
          ],
          "histogram": [
           {
            "marker": {
             "pattern": {
              "fillmode": "overlay",
              "size": 10,
              "solidity": 0.2
             }
            },
            "type": "histogram"
           }
          ],
          "histogram2d": [
           {
            "colorbar": {
             "outlinewidth": 0,
             "ticks": ""
            },
            "colorscale": [
             [
              0,
              "#0d0887"
             ],
             [
              0.1111111111111111,
              "#46039f"
             ],
             [
              0.2222222222222222,
              "#7201a8"
             ],
             [
              0.3333333333333333,
              "#9c179e"
             ],
             [
              0.4444444444444444,
              "#bd3786"
             ],
             [
              0.5555555555555556,
              "#d8576b"
             ],
             [
              0.6666666666666666,
              "#ed7953"
             ],
             [
              0.7777777777777778,
              "#fb9f3a"
             ],
             [
              0.8888888888888888,
              "#fdca26"
             ],
             [
              1,
              "#f0f921"
             ]
            ],
            "type": "histogram2d"
           }
          ],
          "histogram2dcontour": [
           {
            "colorbar": {
             "outlinewidth": 0,
             "ticks": ""
            },
            "colorscale": [
             [
              0,
              "#0d0887"
             ],
             [
              0.1111111111111111,
              "#46039f"
             ],
             [
              0.2222222222222222,
              "#7201a8"
             ],
             [
              0.3333333333333333,
              "#9c179e"
             ],
             [
              0.4444444444444444,
              "#bd3786"
             ],
             [
              0.5555555555555556,
              "#d8576b"
             ],
             [
              0.6666666666666666,
              "#ed7953"
             ],
             [
              0.7777777777777778,
              "#fb9f3a"
             ],
             [
              0.8888888888888888,
              "#fdca26"
             ],
             [
              1,
              "#f0f921"
             ]
            ],
            "type": "histogram2dcontour"
           }
          ],
          "mesh3d": [
           {
            "colorbar": {
             "outlinewidth": 0,
             "ticks": ""
            },
            "type": "mesh3d"
           }
          ],
          "parcoords": [
           {
            "line": {
             "colorbar": {
              "outlinewidth": 0,
              "ticks": ""
             }
            },
            "type": "parcoords"
           }
          ],
          "pie": [
           {
            "automargin": true,
            "type": "pie"
           }
          ],
          "scatter": [
           {
            "fillpattern": {
             "fillmode": "overlay",
             "size": 10,
             "solidity": 0.2
            },
            "type": "scatter"
           }
          ],
          "scatter3d": [
           {
            "line": {
             "colorbar": {
              "outlinewidth": 0,
              "ticks": ""
             }
            },
            "marker": {
             "colorbar": {
              "outlinewidth": 0,
              "ticks": ""
             }
            },
            "type": "scatter3d"
           }
          ],
          "scattercarpet": [
           {
            "marker": {
             "colorbar": {
              "outlinewidth": 0,
              "ticks": ""
             }
            },
            "type": "scattercarpet"
           }
          ],
          "scattergeo": [
           {
            "marker": {
             "colorbar": {
              "outlinewidth": 0,
              "ticks": ""
             }
            },
            "type": "scattergeo"
           }
          ],
          "scattergl": [
           {
            "marker": {
             "colorbar": {
              "outlinewidth": 0,
              "ticks": ""
             }
            },
            "type": "scattergl"
           }
          ],
          "scattermapbox": [
           {
            "marker": {
             "colorbar": {
              "outlinewidth": 0,
              "ticks": ""
             }
            },
            "type": "scattermapbox"
           }
          ],
          "scatterpolar": [
           {
            "marker": {
             "colorbar": {
              "outlinewidth": 0,
              "ticks": ""
             }
            },
            "type": "scatterpolar"
           }
          ],
          "scatterpolargl": [
           {
            "marker": {
             "colorbar": {
              "outlinewidth": 0,
              "ticks": ""
             }
            },
            "type": "scatterpolargl"
           }
          ],
          "scatterternary": [
           {
            "marker": {
             "colorbar": {
              "outlinewidth": 0,
              "ticks": ""
             }
            },
            "type": "scatterternary"
           }
          ],
          "surface": [
           {
            "colorbar": {
             "outlinewidth": 0,
             "ticks": ""
            },
            "colorscale": [
             [
              0,
              "#0d0887"
             ],
             [
              0.1111111111111111,
              "#46039f"
             ],
             [
              0.2222222222222222,
              "#7201a8"
             ],
             [
              0.3333333333333333,
              "#9c179e"
             ],
             [
              0.4444444444444444,
              "#bd3786"
             ],
             [
              0.5555555555555556,
              "#d8576b"
             ],
             [
              0.6666666666666666,
              "#ed7953"
             ],
             [
              0.7777777777777778,
              "#fb9f3a"
             ],
             [
              0.8888888888888888,
              "#fdca26"
             ],
             [
              1,
              "#f0f921"
             ]
            ],
            "type": "surface"
           }
          ],
          "table": [
           {
            "cells": {
             "fill": {
              "color": "#EBF0F8"
             },
             "line": {
              "color": "white"
             }
            },
            "header": {
             "fill": {
              "color": "#C8D4E3"
             },
             "line": {
              "color": "white"
             }
            },
            "type": "table"
           }
          ]
         },
         "layout": {
          "annotationdefaults": {
           "arrowcolor": "#2a3f5f",
           "arrowhead": 0,
           "arrowwidth": 1
          },
          "autotypenumbers": "strict",
          "coloraxis": {
           "colorbar": {
            "outlinewidth": 0,
            "ticks": ""
           }
          },
          "colorscale": {
           "diverging": [
            [
             0,
             "#8e0152"
            ],
            [
             0.1,
             "#c51b7d"
            ],
            [
             0.2,
             "#de77ae"
            ],
            [
             0.3,
             "#f1b6da"
            ],
            [
             0.4,
             "#fde0ef"
            ],
            [
             0.5,
             "#f7f7f7"
            ],
            [
             0.6,
             "#e6f5d0"
            ],
            [
             0.7,
             "#b8e186"
            ],
            [
             0.8,
             "#7fbc41"
            ],
            [
             0.9,
             "#4d9221"
            ],
            [
             1,
             "#276419"
            ]
           ],
           "sequential": [
            [
             0,
             "#0d0887"
            ],
            [
             0.1111111111111111,
             "#46039f"
            ],
            [
             0.2222222222222222,
             "#7201a8"
            ],
            [
             0.3333333333333333,
             "#9c179e"
            ],
            [
             0.4444444444444444,
             "#bd3786"
            ],
            [
             0.5555555555555556,
             "#d8576b"
            ],
            [
             0.6666666666666666,
             "#ed7953"
            ],
            [
             0.7777777777777778,
             "#fb9f3a"
            ],
            [
             0.8888888888888888,
             "#fdca26"
            ],
            [
             1,
             "#f0f921"
            ]
           ],
           "sequentialminus": [
            [
             0,
             "#0d0887"
            ],
            [
             0.1111111111111111,
             "#46039f"
            ],
            [
             0.2222222222222222,
             "#7201a8"
            ],
            [
             0.3333333333333333,
             "#9c179e"
            ],
            [
             0.4444444444444444,
             "#bd3786"
            ],
            [
             0.5555555555555556,
             "#d8576b"
            ],
            [
             0.6666666666666666,
             "#ed7953"
            ],
            [
             0.7777777777777778,
             "#fb9f3a"
            ],
            [
             0.8888888888888888,
             "#fdca26"
            ],
            [
             1,
             "#f0f921"
            ]
           ]
          },
          "colorway": [
           "#636efa",
           "#EF553B",
           "#00cc96",
           "#ab63fa",
           "#FFA15A",
           "#19d3f3",
           "#FF6692",
           "#B6E880",
           "#FF97FF",
           "#FECB52"
          ],
          "font": {
           "color": "#2a3f5f"
          },
          "geo": {
           "bgcolor": "white",
           "lakecolor": "white",
           "landcolor": "#E5ECF6",
           "showlakes": true,
           "showland": true,
           "subunitcolor": "white"
          },
          "hoverlabel": {
           "align": "left"
          },
          "hovermode": "closest",
          "mapbox": {
           "style": "light"
          },
          "paper_bgcolor": "white",
          "plot_bgcolor": "#E5ECF6",
          "polar": {
           "angularaxis": {
            "gridcolor": "white",
            "linecolor": "white",
            "ticks": ""
           },
           "bgcolor": "#E5ECF6",
           "radialaxis": {
            "gridcolor": "white",
            "linecolor": "white",
            "ticks": ""
           }
          },
          "scene": {
           "xaxis": {
            "backgroundcolor": "#E5ECF6",
            "gridcolor": "white",
            "gridwidth": 2,
            "linecolor": "white",
            "showbackground": true,
            "ticks": "",
            "zerolinecolor": "white"
           },
           "yaxis": {
            "backgroundcolor": "#E5ECF6",
            "gridcolor": "white",
            "gridwidth": 2,
            "linecolor": "white",
            "showbackground": true,
            "ticks": "",
            "zerolinecolor": "white"
           },
           "zaxis": {
            "backgroundcolor": "#E5ECF6",
            "gridcolor": "white",
            "gridwidth": 2,
            "linecolor": "white",
            "showbackground": true,
            "ticks": "",
            "zerolinecolor": "white"
           }
          },
          "shapedefaults": {
           "line": {
            "color": "#2a3f5f"
           }
          },
          "ternary": {
           "aaxis": {
            "gridcolor": "white",
            "linecolor": "white",
            "ticks": ""
           },
           "baxis": {
            "gridcolor": "white",
            "linecolor": "white",
            "ticks": ""
           },
           "bgcolor": "#E5ECF6",
           "caxis": {
            "gridcolor": "white",
            "linecolor": "white",
            "ticks": ""
           }
          },
          "title": {
           "x": 0.05
          },
          "xaxis": {
           "automargin": true,
           "gridcolor": "white",
           "linecolor": "white",
           "ticks": "",
           "title": {
            "standoff": 15
           },
           "zerolinecolor": "white",
           "zerolinewidth": 2
          },
          "yaxis": {
           "automargin": true,
           "gridcolor": "white",
           "linecolor": "white",
           "ticks": "",
           "title": {
            "standoff": 15
           },
           "zerolinecolor": "white",
           "zerolinewidth": 2
          }
         }
        },
        "width": 900,
        "xaxis": {
         "anchor": "y",
         "domain": [
          0,
          1
         ],
         "range": [
          -1,
          44
         ],
         "title": {
          "text": ""
         }
        },
        "yaxis": {
         "anchor": "x",
         "domain": [
          0,
          1
         ],
         "title": {
          "text": "Prediction Ability (pearson r)"
         }
        }
       }
      },
      "text/html": [
       "<div>                            <div id=\"2490c463-2e33-4274-8927-77f963385e9d\" class=\"plotly-graph-div\" style=\"height:750px; width:900px;\"></div>            <script type=\"text/javascript\">                require([\"plotly\"], function(Plotly) {                    window.PLOTLYENV=window.PLOTLYENV || {};                                    if (document.getElementById(\"2490c463-2e33-4274-8927-77f963385e9d\")) {                    Plotly.newPlot(                        \"2490c463-2e33-4274-8927-77f963385e9d\",                        [{\"error_y\":{\"array\":[0.011867124385206531,0.011867124385206531,0.011867124385206531,0.011867124385206531,0.011867124385206531,0.011867124385206531,0.011867124385206531,0.011867124385206531,0.011867124385206531,0.011867124385206531,0.011867124385206531,0.011867124385206531,0.011867124385206531,0.011867124385206531,0.011867124385206531,0.011867124385206531,0.011867124385206531,0.011867124385206531,0.011867124385206531,0.011867124385206531,0.011867124385206531,0.011867124385206531,0.011867124385206531,0.011867124385206531,0.011867124385206531,0.011867124385206531,0.011867124385206531,0.011867124385206531,0.011867124385206531,0.011867124385206531,0.011867124385206531,0.011867124385206531,0.011867124385206531,0.011867124385206531,0.011867124385206531,0.011867124385206531,0.011867124385206531,0.011867124385206531,0.011867124385206531,0.011867124385206531,0.011867124385206531,0.011867124385206531,0.011867124385206531,0.011867124385206531]},\"hovertemplate\":\"Label=%{x}\\u003cbr\\u003eMean=%{y}\\u003cextra\\u003e\\u003c\\u002fextra\\u003e\",\"legendgroup\":\"\",\"marker\":{\"color\":\"#636efa\",\"symbol\":\"circle\"},\"mode\":\"markers\",\"name\":\"\",\"orientation\":\"v\",\"showlegend\":false,\"x\":[\"M1: Genomic\",\"M2: 9 DAP\",\"M3: M2 + 10 DAP\",\"M4: M3 + 15 DAP\",\"M5: M4 + 17 DAP\",\"M6: M5 + 22 DAP\",\"M7: M6 + 24 DAP\",\"M8: M7 + 27 DAP\",\"M9: M8 + 30 DAP\",\"M10: M9 + 32 DAP\",\"M11: M10 + 34 DAP\",\"M12: M11 + 37 DAP\",\"M13: M12 + 39 DAP\",\"M14: M13 + 41 DAP\",\"M15: M14 + 45 DAP\",\"M16: M15 + 48 DAP\",\"M17: M16 + 51 DAP\",\"M18: M17 + 53 DAP\",\"M19: M18 + 56 DAP\",\"M20: M19 + 60 DAP\",\"M21: M20 + 62 DAP\",\"M22: M21 + 64 DAP\",\"M23: M22 + 66 DAP\",\"M24: M23 + 69 DAP\",\"M25: M24 + 71 DAP\",\"M26: M25 + 73 DAP\",\"M27: M26 + 76 DAP\",\"M28: M27 + 78 DAP\",\"M29: M28 + 80 DAP\",\"M30: M29 + 83 DAP\",\"M31: M30 + 85 DAP\",\"M32: M31 + 87 DAP\",\"M33: M32 + 90 DAP\",\"M34: M33 + 93 DAP\",\"M35: M34 + 96 DAP\",\"M36: M35 + 99 DAP\",\"M37: M36 + 101 DAP\",\"M38: M37 + 104 DAP\",\"M39: M38 + 107 DAP\",\"M40: M39 + 111 DAP\",\"M41: M40 + 114 DAP\",\"M42: M41 + 118 DAP\",\"M43: M42 + 122 DAP\",\"M44: M43 + 126 DAP\"],\"xaxis\":\"x\",\"y\":[0.2478650568423274,0.5627555935272636,0.5569937082343258,0.5571600666882407,0.5484659333059039,0.5509789156787289,0.5568295015890744,0.5441531720415483,0.5329459479749619,0.5380810614143352,0.543489624041474,0.542423478499194,0.5691919363009954,0.5667269734522979,0.5665222753070005,0.5701503201656631,0.5722298664009209,0.5709078465447859,0.5791554732372298,0.5778821051806664,0.5776597499411387,0.575802769236168,0.5777659308794854,0.5759332785989405,0.5759467498463771,0.5742903580025149,0.5845439011172684,0.5865975277898468,0.5890113857171195,0.5909534939371944,0.5965954443670237,0.5951436363611774,0.5926926323730748,0.6012150536610872,0.5996510695283771,0.602285689815089,0.6048897782143662,0.6015672168428265,0.6030102230769033,0.6026099491738626,0.6028910436005356,0.6066813622024322,0.6056601130655834,0.6054531463956344],\"yaxis\":\"y\",\"type\":\"scatter\"}],                        {\"template\":{\"data\":{\"histogram2dcontour\":[{\"type\":\"histogram2dcontour\",\"colorbar\":{\"outlinewidth\":0,\"ticks\":\"\"},\"colorscale\":[[0.0,\"#0d0887\"],[0.1111111111111111,\"#46039f\"],[0.2222222222222222,\"#7201a8\"],[0.3333333333333333,\"#9c179e\"],[0.4444444444444444,\"#bd3786\"],[0.5555555555555556,\"#d8576b\"],[0.6666666666666666,\"#ed7953\"],[0.7777777777777778,\"#fb9f3a\"],[0.8888888888888888,\"#fdca26\"],[1.0,\"#f0f921\"]]}],\"choropleth\":[{\"type\":\"choropleth\",\"colorbar\":{\"outlinewidth\":0,\"ticks\":\"\"}}],\"histogram2d\":[{\"type\":\"histogram2d\",\"colorbar\":{\"outlinewidth\":0,\"ticks\":\"\"},\"colorscale\":[[0.0,\"#0d0887\"],[0.1111111111111111,\"#46039f\"],[0.2222222222222222,\"#7201a8\"],[0.3333333333333333,\"#9c179e\"],[0.4444444444444444,\"#bd3786\"],[0.5555555555555556,\"#d8576b\"],[0.6666666666666666,\"#ed7953\"],[0.7777777777777778,\"#fb9f3a\"],[0.8888888888888888,\"#fdca26\"],[1.0,\"#f0f921\"]]}],\"heatmap\":[{\"type\":\"heatmap\",\"colorbar\":{\"outlinewidth\":0,\"ticks\":\"\"},\"colorscale\":[[0.0,\"#0d0887\"],[0.1111111111111111,\"#46039f\"],[0.2222222222222222,\"#7201a8\"],[0.3333333333333333,\"#9c179e\"],[0.4444444444444444,\"#bd3786\"],[0.5555555555555556,\"#d8576b\"],[0.6666666666666666,\"#ed7953\"],[0.7777777777777778,\"#fb9f3a\"],[0.8888888888888888,\"#fdca26\"],[1.0,\"#f0f921\"]]}],\"heatmapgl\":[{\"type\":\"heatmapgl\",\"colorbar\":{\"outlinewidth\":0,\"ticks\":\"\"},\"colorscale\":[[0.0,\"#0d0887\"],[0.1111111111111111,\"#46039f\"],[0.2222222222222222,\"#7201a8\"],[0.3333333333333333,\"#9c179e\"],[0.4444444444444444,\"#bd3786\"],[0.5555555555555556,\"#d8576b\"],[0.6666666666666666,\"#ed7953\"],[0.7777777777777778,\"#fb9f3a\"],[0.8888888888888888,\"#fdca26\"],[1.0,\"#f0f921\"]]}],\"contourcarpet\":[{\"type\":\"contourcarpet\",\"colorbar\":{\"outlinewidth\":0,\"ticks\":\"\"}}],\"contour\":[{\"type\":\"contour\",\"colorbar\":{\"outlinewidth\":0,\"ticks\":\"\"},\"colorscale\":[[0.0,\"#0d0887\"],[0.1111111111111111,\"#46039f\"],[0.2222222222222222,\"#7201a8\"],[0.3333333333333333,\"#9c179e\"],[0.4444444444444444,\"#bd3786\"],[0.5555555555555556,\"#d8576b\"],[0.6666666666666666,\"#ed7953\"],[0.7777777777777778,\"#fb9f3a\"],[0.8888888888888888,\"#fdca26\"],[1.0,\"#f0f921\"]]}],\"surface\":[{\"type\":\"surface\",\"colorbar\":{\"outlinewidth\":0,\"ticks\":\"\"},\"colorscale\":[[0.0,\"#0d0887\"],[0.1111111111111111,\"#46039f\"],[0.2222222222222222,\"#7201a8\"],[0.3333333333333333,\"#9c179e\"],[0.4444444444444444,\"#bd3786\"],[0.5555555555555556,\"#d8576b\"],[0.6666666666666666,\"#ed7953\"],[0.7777777777777778,\"#fb9f3a\"],[0.8888888888888888,\"#fdca26\"],[1.0,\"#f0f921\"]]}],\"mesh3d\":[{\"type\":\"mesh3d\",\"colorbar\":{\"outlinewidth\":0,\"ticks\":\"\"}}],\"scatter\":[{\"fillpattern\":{\"fillmode\":\"overlay\",\"size\":10,\"solidity\":0.2},\"type\":\"scatter\"}],\"parcoords\":[{\"type\":\"parcoords\",\"line\":{\"colorbar\":{\"outlinewidth\":0,\"ticks\":\"\"}}}],\"scatterpolargl\":[{\"type\":\"scatterpolargl\",\"marker\":{\"colorbar\":{\"outlinewidth\":0,\"ticks\":\"\"}}}],\"bar\":[{\"error_x\":{\"color\":\"#2a3f5f\"},\"error_y\":{\"color\":\"#2a3f5f\"},\"marker\":{\"line\":{\"color\":\"#E5ECF6\",\"width\":0.5},\"pattern\":{\"fillmode\":\"overlay\",\"size\":10,\"solidity\":0.2}},\"type\":\"bar\"}],\"scattergeo\":[{\"type\":\"scattergeo\",\"marker\":{\"colorbar\":{\"outlinewidth\":0,\"ticks\":\"\"}}}],\"scatterpolar\":[{\"type\":\"scatterpolar\",\"marker\":{\"colorbar\":{\"outlinewidth\":0,\"ticks\":\"\"}}}],\"histogram\":[{\"marker\":{\"pattern\":{\"fillmode\":\"overlay\",\"size\":10,\"solidity\":0.2}},\"type\":\"histogram\"}],\"scattergl\":[{\"type\":\"scattergl\",\"marker\":{\"colorbar\":{\"outlinewidth\":0,\"ticks\":\"\"}}}],\"scatter3d\":[{\"type\":\"scatter3d\",\"line\":{\"colorbar\":{\"outlinewidth\":0,\"ticks\":\"\"}},\"marker\":{\"colorbar\":{\"outlinewidth\":0,\"ticks\":\"\"}}}],\"scattermapbox\":[{\"type\":\"scattermapbox\",\"marker\":{\"colorbar\":{\"outlinewidth\":0,\"ticks\":\"\"}}}],\"scatterternary\":[{\"type\":\"scatterternary\",\"marker\":{\"colorbar\":{\"outlinewidth\":0,\"ticks\":\"\"}}}],\"scattercarpet\":[{\"type\":\"scattercarpet\",\"marker\":{\"colorbar\":{\"outlinewidth\":0,\"ticks\":\"\"}}}],\"carpet\":[{\"aaxis\":{\"endlinecolor\":\"#2a3f5f\",\"gridcolor\":\"white\",\"linecolor\":\"white\",\"minorgridcolor\":\"white\",\"startlinecolor\":\"#2a3f5f\"},\"baxis\":{\"endlinecolor\":\"#2a3f5f\",\"gridcolor\":\"white\",\"linecolor\":\"white\",\"minorgridcolor\":\"white\",\"startlinecolor\":\"#2a3f5f\"},\"type\":\"carpet\"}],\"table\":[{\"cells\":{\"fill\":{\"color\":\"#EBF0F8\"},\"line\":{\"color\":\"white\"}},\"header\":{\"fill\":{\"color\":\"#C8D4E3\"},\"line\":{\"color\":\"white\"}},\"type\":\"table\"}],\"barpolar\":[{\"marker\":{\"line\":{\"color\":\"#E5ECF6\",\"width\":0.5},\"pattern\":{\"fillmode\":\"overlay\",\"size\":10,\"solidity\":0.2}},\"type\":\"barpolar\"}],\"pie\":[{\"automargin\":true,\"type\":\"pie\"}]},\"layout\":{\"autotypenumbers\":\"strict\",\"colorway\":[\"#636efa\",\"#EF553B\",\"#00cc96\",\"#ab63fa\",\"#FFA15A\",\"#19d3f3\",\"#FF6692\",\"#B6E880\",\"#FF97FF\",\"#FECB52\"],\"font\":{\"color\":\"#2a3f5f\"},\"hovermode\":\"closest\",\"hoverlabel\":{\"align\":\"left\"},\"paper_bgcolor\":\"white\",\"plot_bgcolor\":\"#E5ECF6\",\"polar\":{\"bgcolor\":\"#E5ECF6\",\"angularaxis\":{\"gridcolor\":\"white\",\"linecolor\":\"white\",\"ticks\":\"\"},\"radialaxis\":{\"gridcolor\":\"white\",\"linecolor\":\"white\",\"ticks\":\"\"}},\"ternary\":{\"bgcolor\":\"#E5ECF6\",\"aaxis\":{\"gridcolor\":\"white\",\"linecolor\":\"white\",\"ticks\":\"\"},\"baxis\":{\"gridcolor\":\"white\",\"linecolor\":\"white\",\"ticks\":\"\"},\"caxis\":{\"gridcolor\":\"white\",\"linecolor\":\"white\",\"ticks\":\"\"}},\"coloraxis\":{\"colorbar\":{\"outlinewidth\":0,\"ticks\":\"\"}},\"colorscale\":{\"sequential\":[[0.0,\"#0d0887\"],[0.1111111111111111,\"#46039f\"],[0.2222222222222222,\"#7201a8\"],[0.3333333333333333,\"#9c179e\"],[0.4444444444444444,\"#bd3786\"],[0.5555555555555556,\"#d8576b\"],[0.6666666666666666,\"#ed7953\"],[0.7777777777777778,\"#fb9f3a\"],[0.8888888888888888,\"#fdca26\"],[1.0,\"#f0f921\"]],\"sequentialminus\":[[0.0,\"#0d0887\"],[0.1111111111111111,\"#46039f\"],[0.2222222222222222,\"#7201a8\"],[0.3333333333333333,\"#9c179e\"],[0.4444444444444444,\"#bd3786\"],[0.5555555555555556,\"#d8576b\"],[0.6666666666666666,\"#ed7953\"],[0.7777777777777778,\"#fb9f3a\"],[0.8888888888888888,\"#fdca26\"],[1.0,\"#f0f921\"]],\"diverging\":[[0,\"#8e0152\"],[0.1,\"#c51b7d\"],[0.2,\"#de77ae\"],[0.3,\"#f1b6da\"],[0.4,\"#fde0ef\"],[0.5,\"#f7f7f7\"],[0.6,\"#e6f5d0\"],[0.7,\"#b8e186\"],[0.8,\"#7fbc41\"],[0.9,\"#4d9221\"],[1,\"#276419\"]]},\"xaxis\":{\"gridcolor\":\"white\",\"linecolor\":\"white\",\"ticks\":\"\",\"title\":{\"standoff\":15},\"zerolinecolor\":\"white\",\"automargin\":true,\"zerolinewidth\":2},\"yaxis\":{\"gridcolor\":\"white\",\"linecolor\":\"white\",\"ticks\":\"\",\"title\":{\"standoff\":15},\"zerolinecolor\":\"white\",\"automargin\":true,\"zerolinewidth\":2},\"scene\":{\"xaxis\":{\"backgroundcolor\":\"#E5ECF6\",\"gridcolor\":\"white\",\"linecolor\":\"white\",\"showbackground\":true,\"ticks\":\"\",\"zerolinecolor\":\"white\",\"gridwidth\":2},\"yaxis\":{\"backgroundcolor\":\"#E5ECF6\",\"gridcolor\":\"white\",\"linecolor\":\"white\",\"showbackground\":true,\"ticks\":\"\",\"zerolinecolor\":\"white\",\"gridwidth\":2},\"zaxis\":{\"backgroundcolor\":\"#E5ECF6\",\"gridcolor\":\"white\",\"linecolor\":\"white\",\"showbackground\":true,\"ticks\":\"\",\"zerolinecolor\":\"white\",\"gridwidth\":2}},\"shapedefaults\":{\"line\":{\"color\":\"#2a3f5f\"}},\"annotationdefaults\":{\"arrowcolor\":\"#2a3f5f\",\"arrowhead\":0,\"arrowwidth\":1},\"geo\":{\"bgcolor\":\"white\",\"landcolor\":\"#E5ECF6\",\"subunitcolor\":\"white\",\"showland\":true,\"showlakes\":true,\"lakecolor\":\"white\"},\"title\":{\"x\":0.05},\"mapbox\":{\"style\":\"light\"}}},\"xaxis\":{\"anchor\":\"y\",\"domain\":[0.0,1.0],\"title\":{\"text\":\"\"},\"range\":[-1,44]},\"yaxis\":{\"anchor\":\"x\",\"domain\":[0.0,1.0],\"title\":{\"text\":\"Prediction Ability (pearson r)\"}},\"legend\":{\"tracegroupgap\":0},\"margin\":{\"t\":1,\"l\":1,\"r\":1,\"b\":1},\"shapes\":[{\"line\":{\"dash\":\"dot\",\"width\":1},\"type\":\"line\",\"x0\":0,\"x1\":1,\"xref\":\"x domain\",\"y0\":0.5935860220104279,\"y1\":0.5935860220104279,\"yref\":\"y\"},{\"line\":{\"dash\":\"dot\",\"width\":1},\"type\":\"line\",\"x0\":0,\"x1\":1,\"xref\":\"x domain\",\"y0\":0.5746227179124701,\"y1\":0.5746227179124701,\"yref\":\"y\"},{\"type\":\"rect\",\"x0\":15.5,\"x1\":18.5,\"xref\":\"x\",\"y0\":0,\"y1\":1,\"yref\":\"y domain\"}],\"autosize\":false,\"width\":900,\"height\":750},                        {\"responsive\": true}                    ).then(function(){\n",
       "                            \n",
       "var gd = document.getElementById('2490c463-2e33-4274-8927-77f963385e9d');\n",
       "var x = new MutationObserver(function (mutations, observer) {{\n",
       "        var display = window.getComputedStyle(gd).display;\n",
       "        if (!display || display === 'none') {{\n",
       "            console.log([gd, 'removed!']);\n",
       "            Plotly.purge(gd);\n",
       "            observer.disconnect();\n",
       "        }}\n",
       "}});\n",
       "\n",
       "// Listen for the removal of the full notebook cells\n",
       "var notebookContainer = gd.closest('#notebook-container');\n",
       "if (notebookContainer) {{\n",
       "    x.observe(notebookContainer, {childList: true});\n",
       "}}\n",
       "\n",
       "// Listen for the clearing of the current output cell\n",
       "var outputEl = gd.closest('.output');\n",
       "if (outputEl) {{\n",
       "    x.observe(outputEl, {childList: true});\n",
       "}}\n",
       "\n",
       "                        })                };                });            </script>        </div>"
      ]
     },
     "metadata": {},
     "output_type": "display_data"
    }
   ],
   "source": [
    "#SUP FIGURE 8\n",
    "tukey_simultanious_fig(sim_CIs_noPHT,\n",
    "                       #save_html_path=\"../Figures/SupFig8.html\",\n",
    "                       #save_svg_path=\"../Figures/SupFig8.svg\"\n",
    "                      )"
   ]
  },
  {
   "cell_type": "code",
   "execution_count": null,
   "id": "b378619a",
   "metadata": {},
   "outputs": [],
   "source": []
  }
 ],
 "metadata": {
  "kernelspec": {
   "display_name": "Python 3 (ipykernel)",
   "language": "python",
   "name": "python3"
  },
  "language_info": {
   "codemirror_mode": {
    "name": "ipython",
    "version": 3
   },
   "file_extension": ".py",
   "mimetype": "text/x-python",
   "name": "python",
   "nbconvert_exporter": "python",
   "pygments_lexer": "ipython3",
   "version": "3.9.5"
  }
 },
 "nbformat": 4,
 "nbformat_minor": 5
}
