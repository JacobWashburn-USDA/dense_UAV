{
 "cells": [
  {
   "cell_type": "code",
   "execution_count": 1,
   "id": "9aebc28c",
   "metadata": {},
   "outputs": [],
   "source": [
    "import os, sys\n",
    "import pandas as pd\n",
    "import numpy as np\n",
    "import plotly.express as px\n",
    "import io\n",
    "\n",
    "from scipy.stats import f_oneway\n",
    "from statsmodels.stats.multicomp import pairwise_tukeyhsd"
   ]
  },
  {
   "cell_type": "code",
   "execution_count": 2,
   "id": "997bc53b",
   "metadata": {},
   "outputs": [],
   "source": [
    "#bring in data\n",
    "data_dir = \"../data/\"\n",
    "#sng_long_pred = pd.read_csv(\"../data/Prediction ability.csv\")\n",
    "sng_long_pred = pd.read_csv(\"../data/Prediction ability no hieght.csv\")\n",
    "\n",
    "temp_VIs = pd.read_csv(data_dir+\"Temporal_VIs.csv\", index_col=[0])"
   ]
  },
  {
   "cell_type": "code",
   "execution_count": 3,
   "id": "31bf4d2c",
   "metadata": {},
   "outputs": [],
   "source": [
    "def process_labels(sng_long_pred):\n",
    "    #add M number as int for sorting\n",
    "    sng_long_pred[\"M_num\"] = sng_long_pred[\"Model\"].str.split(\"M\",expand=True)[1].astype(int)\n",
    "    #add genomic verses phenomic\n",
    "    sng_long_pred[\"Type\"] = \"\"\n",
    "    sng_long_pred.loc[sng_long_pred[\"Model\"]==\"M1\", \"Type\"] = \"Genomic\"\n",
    "    sng_long_pred.loc[sng_long_pred[\"Model\"]!=\"M1\", \"Type\"] = \"Phenomic\"\n",
    "    return sng_long_pred"
   ]
  },
  {
   "cell_type": "code",
   "execution_count": 4,
   "id": "2f652196",
   "metadata": {},
   "outputs": [],
   "source": [
    "def add_DAP(temp_VIs, sng_long_pred):\n",
    "    #get and add DAP to labels\n",
    "    temp_VIs=temp_VIs.copy()\n",
    "    temp_VIs.columns = pd.MultiIndex.from_tuples([x.split(\" \") for x in temp_VIs.columns.tolist()])\n",
    "    daps = [0] + temp_VIs[\"Red\"].columns.tolist()\n",
    "    daps = pd.DataFrame(daps, columns=[\"DAP\"])\n",
    "    daps[\"Model\"]=[\"M\"+str(x) for x in range(1, len(daps)+1)]\n",
    "\n",
    "    labels = []\n",
    "    for ind in daps.index:\n",
    "        label = daps.loc[ind, \"Model\"] + \": \"\n",
    "        if ind == 0:\n",
    "            label = \"M1: Genomic\"\n",
    "        elif ind == 1:\n",
    "            label += daps.loc[ind,\"DAP\"] + \" DAP\"\n",
    "        else:\n",
    "            label += daps.loc[ind-1, \"Model\"] + \" + \" + daps.loc[ind,\"DAP\"] + \" DAP\"\n",
    "        labels.append(label)\n",
    "    daps[\"Label\"] = labels\n",
    "    #long_pred = long_pred.merge(daps[[\"Model\",\"Label\"]], on=\"Model\")\n",
    "    sng_long_pred = sng_long_pred.merge(daps[[\"Model\",\"Label\"]], on=\"Model\")\n",
    "\n",
    "    #fix labels\n",
    "    tmp = sng_long_pred.loc[sng_long_pred[\"Label\"]!=\"M1: Genomic\", \"Label\"].copy()\n",
    "    sng_long_pred.loc[sng_long_pred[\"Label\"]!=\"M1: Genomic\", \"Label\"] = tmp.str.replace(\" M\\d+ \\+\", \"\", regex=True)#.unique()\n",
    "    return sng_long_pred"
   ]
  },
  {
   "cell_type": "code",
   "execution_count": 5,
   "id": "93bb641f",
   "metadata": {},
   "outputs": [],
   "source": [
    "def anova_tukey(df, group_column=\"Model\", alpha = 0.05):\n",
    "    print(len(df))\n",
    "    models = []\n",
    "    for model in df[group_column].unique():\n",
    "        models.append(df.loc[df[group_column]==model, \"cor\"].tolist())\n",
    "    anova_res = f_oneway(*models)\n",
    "    print(anova_res)\n",
    "    \n",
    "    if anova_res[1] < alpha:\n",
    "        print(\"Preforming Tukey's HSD test...\")\n",
    "    \n",
    "        tukey = pairwise_tukeyhsd(endog=df['cor'],\n",
    "                                  groups=df[group_column],\n",
    "                                  alpha=alpha)\n",
    "        return tukey\n",
    "    else: return None "
   ]
  },
  {
   "cell_type": "code",
   "execution_count": 6,
   "id": "196ea596",
   "metadata": {},
   "outputs": [],
   "source": [
    "def run_tukey(sng_long_pred):\n",
    "    tukey_res = anova_tukey(sng_long_pred[sng_long_pred[\"CV\"]==\"CV1\"]) #, group_column=\"M_num\")\n",
    "    #get single confidence interval and mean data\n",
    "    tukey_res._simultaneous_ci()\n",
    "    means = tukey_res._multicomp.groupstats.groupmean\n",
    "    #minrange = [means[i] - tukey_res.halfwidths[i] for i in range(len(means))]\n",
    "    #maxrange = [means[i] + tukey_res.halfwidths[i] for i in range(len(means))]\n",
    "    sim_CIs = pd.DataFrame([tukey_res.groupsunique, means, tukey_res.halfwidths], index=[\"Model\",\"Mean\",\"Halfwidth\"]).T\n",
    "    sim_CIs[\"M_num\"] = sim_CIs[\"Model\"].str[1:].astype(int)\n",
    "    sim_CIs = sim_CIs.sort_values(\"M_num\").reset_index(drop=True)\n",
    "    sim_CIs = sim_CIs.merge(sng_long_pred[[\"Model\",\"Label\"]].drop_duplicates(), on=\"Model\", how=\"left\")\n",
    "    return sim_CIs"
   ]
  },
  {
   "cell_type": "code",
   "execution_count": 7,
   "id": "132c2a15",
   "metadata": {},
   "outputs": [
    {
     "name": "stdout",
     "output_type": "stream",
     "text": [
      "5500\n",
      "F_onewayResult(statistic=160.39715848801248, pvalue=0.0)\n",
      "Preforming Tukey's HSD test...\n"
     ]
    }
   ],
   "source": [
    "sng_long_pred = process_labels(sng_long_pred)\n",
    "sng_long_pred = add_DAP(temp_VIs, sng_long_pred)\n",
    "sim_CIs = run_tukey(sng_long_pred)"
   ]
  },
  {
   "cell_type": "code",
   "execution_count": 9,
   "id": "c5b0eb0b",
   "metadata": {},
   "outputs": [
    {
     "data": {
      "application/vnd.plotly.v1+json": {
       "config": {
        "plotlyServerURL": "https://plot.ly"
       },
       "data": [
        {
         "error_y": {
          "array": [
           0.011867124385206531,
           0.011867124385206531,
           0.011867124385206531,
           0.011867124385206531,
           0.011867124385206531,
           0.011867124385206531,
           0.011867124385206531,
           0.011867124385206531,
           0.011867124385206531,
           0.011867124385206531,
           0.011867124385206531,
           0.011867124385206531,
           0.011867124385206531,
           0.011867124385206531,
           0.011867124385206531,
           0.011867124385206531,
           0.011867124385206531,
           0.011867124385206531,
           0.011867124385206531,
           0.011867124385206531,
           0.011867124385206531,
           0.011867124385206531,
           0.011867124385206531,
           0.011867124385206531,
           0.011867124385206531,
           0.011867124385206531,
           0.011867124385206531,
           0.011867124385206531,
           0.011867124385206531,
           0.011867124385206531,
           0.011867124385206531,
           0.011867124385206531,
           0.011867124385206531,
           0.011867124385206531,
           0.011867124385206531,
           0.011867124385206531,
           0.011867124385206531,
           0.011867124385206531,
           0.011867124385206531,
           0.011867124385206531,
           0.011867124385206531,
           0.011867124385206531,
           0.011867124385206531,
           0.011867124385206531
          ]
         },
         "hovertemplate": "Label=%{x}<br>Mean=%{y}<extra></extra>",
         "legendgroup": "",
         "marker": {
          "color": "#636efa",
          "symbol": "circle"
         },
         "mode": "markers",
         "name": "",
         "orientation": "v",
         "showlegend": false,
         "type": "scatter",
         "x": [
          "M1: Genomic",
          "M2: 9 DAP",
          "M3: 10 DAP",
          "M4: 15 DAP",
          "M5: 17 DAP",
          "M6: 22 DAP",
          "M7: 24 DAP",
          "M8: 27 DAP",
          "M9: 30 DAP",
          "M10: 32 DAP",
          "M11: 34 DAP",
          "M12: 37 DAP",
          "M13: 39 DAP",
          "M14: 41 DAP",
          "M15: 45 DAP",
          "M16: 48 DAP",
          "M17: 51 DAP",
          "M18: 53 DAP",
          "M19: 56 DAP",
          "M20: 60 DAP",
          "M21: 62 DAP",
          "M22: 64 DAP",
          "M23: 66 DAP",
          "M24: 69 DAP",
          "M25: 71 DAP",
          "M26: 73 DAP",
          "M27: 76 DAP",
          "M28: 78 DAP",
          "M29: 80 DAP",
          "M30: 83 DAP",
          "M31: 85 DAP",
          "M32: 87 DAP",
          "M33: 90 DAP",
          "M34: 93 DAP",
          "M35: 96 DAP",
          "M36: 99 DAP",
          "M37: 101 DAP",
          "M38: 104 DAP",
          "M39: 107 DAP",
          "M40: 111 DAP",
          "M41: 114 DAP",
          "M42: 118 DAP",
          "M43: 122 DAP",
          "M44: 126 DAP"
         ],
         "xaxis": "x",
         "y": [
          0.2478650568423274,
          0.5627555935272636,
          0.5569937082343258,
          0.5571600666882407,
          0.5484659333059039,
          0.5509789156787289,
          0.5568295015890744,
          0.5441531720415483,
          0.5329459479749619,
          0.5380810614143352,
          0.543489624041474,
          0.542423478499194,
          0.5691919363009954,
          0.5667269734522979,
          0.5665222753070005,
          0.5701503201656631,
          0.5722298664009209,
          0.5709078465447859,
          0.5791554732372298,
          0.5778821051806664,
          0.5776597499411387,
          0.575802769236168,
          0.5777659308794854,
          0.5759332785989405,
          0.5759467498463771,
          0.5742903580025149,
          0.5845439011172684,
          0.5865975277898468,
          0.5890113857171195,
          0.5909534939371944,
          0.5965954443670237,
          0.5951436363611774,
          0.5926926323730748,
          0.6012150536610872,
          0.5996510695283771,
          0.602285689815089,
          0.6048897782143662,
          0.6015672168428265,
          0.6030102230769033,
          0.6026099491738626,
          0.6028910436005356,
          0.6066813622024322,
          0.6056601130655834,
          0.6054531463956344
         ],
         "yaxis": "y"
        }
       ],
       "layout": {
        "autosize": false,
        "height": 750,
        "legend": {
         "tracegroupgap": 0
        },
        "margin": {
         "b": 1,
         "l": 1,
         "r": 1,
         "t": 1
        },
        "template": {
         "data": {
          "bar": [
           {
            "error_x": {
             "color": "#2a3f5f"
            },
            "error_y": {
             "color": "#2a3f5f"
            },
            "marker": {
             "line": {
              "color": "#E5ECF6",
              "width": 0.5
             },
             "pattern": {
              "fillmode": "overlay",
              "size": 10,
              "solidity": 0.2
             }
            },
            "type": "bar"
           }
          ],
          "barpolar": [
           {
            "marker": {
             "line": {
              "color": "#E5ECF6",
              "width": 0.5
             },
             "pattern": {
              "fillmode": "overlay",
              "size": 10,
              "solidity": 0.2
             }
            },
            "type": "barpolar"
           }
          ],
          "carpet": [
           {
            "aaxis": {
             "endlinecolor": "#2a3f5f",
             "gridcolor": "white",
             "linecolor": "white",
             "minorgridcolor": "white",
             "startlinecolor": "#2a3f5f"
            },
            "baxis": {
             "endlinecolor": "#2a3f5f",
             "gridcolor": "white",
             "linecolor": "white",
             "minorgridcolor": "white",
             "startlinecolor": "#2a3f5f"
            },
            "type": "carpet"
           }
          ],
          "choropleth": [
           {
            "colorbar": {
             "outlinewidth": 0,
             "ticks": ""
            },
            "type": "choropleth"
           }
          ],
          "contour": [
           {
            "colorbar": {
             "outlinewidth": 0,
             "ticks": ""
            },
            "colorscale": [
             [
              0,
              "#0d0887"
             ],
             [
              0.1111111111111111,
              "#46039f"
             ],
             [
              0.2222222222222222,
              "#7201a8"
             ],
             [
              0.3333333333333333,
              "#9c179e"
             ],
             [
              0.4444444444444444,
              "#bd3786"
             ],
             [
              0.5555555555555556,
              "#d8576b"
             ],
             [
              0.6666666666666666,
              "#ed7953"
             ],
             [
              0.7777777777777778,
              "#fb9f3a"
             ],
             [
              0.8888888888888888,
              "#fdca26"
             ],
             [
              1,
              "#f0f921"
             ]
            ],
            "type": "contour"
           }
          ],
          "contourcarpet": [
           {
            "colorbar": {
             "outlinewidth": 0,
             "ticks": ""
            },
            "type": "contourcarpet"
           }
          ],
          "heatmap": [
           {
            "colorbar": {
             "outlinewidth": 0,
             "ticks": ""
            },
            "colorscale": [
             [
              0,
              "#0d0887"
             ],
             [
              0.1111111111111111,
              "#46039f"
             ],
             [
              0.2222222222222222,
              "#7201a8"
             ],
             [
              0.3333333333333333,
              "#9c179e"
             ],
             [
              0.4444444444444444,
              "#bd3786"
             ],
             [
              0.5555555555555556,
              "#d8576b"
             ],
             [
              0.6666666666666666,
              "#ed7953"
             ],
             [
              0.7777777777777778,
              "#fb9f3a"
             ],
             [
              0.8888888888888888,
              "#fdca26"
             ],
             [
              1,
              "#f0f921"
             ]
            ],
            "type": "heatmap"
           }
          ],
          "heatmapgl": [
           {
            "colorbar": {
             "outlinewidth": 0,
             "ticks": ""
            },
            "colorscale": [
             [
              0,
              "#0d0887"
             ],
             [
              0.1111111111111111,
              "#46039f"
             ],
             [
              0.2222222222222222,
              "#7201a8"
             ],
             [
              0.3333333333333333,
              "#9c179e"
             ],
             [
              0.4444444444444444,
              "#bd3786"
             ],
             [
              0.5555555555555556,
              "#d8576b"
             ],
             [
              0.6666666666666666,
              "#ed7953"
             ],
             [
              0.7777777777777778,
              "#fb9f3a"
             ],
             [
              0.8888888888888888,
              "#fdca26"
             ],
             [
              1,
              "#f0f921"
             ]
            ],
            "type": "heatmapgl"
           }
          ],
          "histogram": [
           {
            "marker": {
             "pattern": {
              "fillmode": "overlay",
              "size": 10,
              "solidity": 0.2
             }
            },
            "type": "histogram"
           }
          ],
          "histogram2d": [
           {
            "colorbar": {
             "outlinewidth": 0,
             "ticks": ""
            },
            "colorscale": [
             [
              0,
              "#0d0887"
             ],
             [
              0.1111111111111111,
              "#46039f"
             ],
             [
              0.2222222222222222,
              "#7201a8"
             ],
             [
              0.3333333333333333,
              "#9c179e"
             ],
             [
              0.4444444444444444,
              "#bd3786"
             ],
             [
              0.5555555555555556,
              "#d8576b"
             ],
             [
              0.6666666666666666,
              "#ed7953"
             ],
             [
              0.7777777777777778,
              "#fb9f3a"
             ],
             [
              0.8888888888888888,
              "#fdca26"
             ],
             [
              1,
              "#f0f921"
             ]
            ],
            "type": "histogram2d"
           }
          ],
          "histogram2dcontour": [
           {
            "colorbar": {
             "outlinewidth": 0,
             "ticks": ""
            },
            "colorscale": [
             [
              0,
              "#0d0887"
             ],
             [
              0.1111111111111111,
              "#46039f"
             ],
             [
              0.2222222222222222,
              "#7201a8"
             ],
             [
              0.3333333333333333,
              "#9c179e"
             ],
             [
              0.4444444444444444,
              "#bd3786"
             ],
             [
              0.5555555555555556,
              "#d8576b"
             ],
             [
              0.6666666666666666,
              "#ed7953"
             ],
             [
              0.7777777777777778,
              "#fb9f3a"
             ],
             [
              0.8888888888888888,
              "#fdca26"
             ],
             [
              1,
              "#f0f921"
             ]
            ],
            "type": "histogram2dcontour"
           }
          ],
          "mesh3d": [
           {
            "colorbar": {
             "outlinewidth": 0,
             "ticks": ""
            },
            "type": "mesh3d"
           }
          ],
          "parcoords": [
           {
            "line": {
             "colorbar": {
              "outlinewidth": 0,
              "ticks": ""
             }
            },
            "type": "parcoords"
           }
          ],
          "pie": [
           {
            "automargin": true,
            "type": "pie"
           }
          ],
          "scatter": [
           {
            "fillpattern": {
             "fillmode": "overlay",
             "size": 10,
             "solidity": 0.2
            },
            "type": "scatter"
           }
          ],
          "scatter3d": [
           {
            "line": {
             "colorbar": {
              "outlinewidth": 0,
              "ticks": ""
             }
            },
            "marker": {
             "colorbar": {
              "outlinewidth": 0,
              "ticks": ""
             }
            },
            "type": "scatter3d"
           }
          ],
          "scattercarpet": [
           {
            "marker": {
             "colorbar": {
              "outlinewidth": 0,
              "ticks": ""
             }
            },
            "type": "scattercarpet"
           }
          ],
          "scattergeo": [
           {
            "marker": {
             "colorbar": {
              "outlinewidth": 0,
              "ticks": ""
             }
            },
            "type": "scattergeo"
           }
          ],
          "scattergl": [
           {
            "marker": {
             "colorbar": {
              "outlinewidth": 0,
              "ticks": ""
             }
            },
            "type": "scattergl"
           }
          ],
          "scattermapbox": [
           {
            "marker": {
             "colorbar": {
              "outlinewidth": 0,
              "ticks": ""
             }
            },
            "type": "scattermapbox"
           }
          ],
          "scatterpolar": [
           {
            "marker": {
             "colorbar": {
              "outlinewidth": 0,
              "ticks": ""
             }
            },
            "type": "scatterpolar"
           }
          ],
          "scatterpolargl": [
           {
            "marker": {
             "colorbar": {
              "outlinewidth": 0,
              "ticks": ""
             }
            },
            "type": "scatterpolargl"
           }
          ],
          "scatterternary": [
           {
            "marker": {
             "colorbar": {
              "outlinewidth": 0,
              "ticks": ""
             }
            },
            "type": "scatterternary"
           }
          ],
          "surface": [
           {
            "colorbar": {
             "outlinewidth": 0,
             "ticks": ""
            },
            "colorscale": [
             [
              0,
              "#0d0887"
             ],
             [
              0.1111111111111111,
              "#46039f"
             ],
             [
              0.2222222222222222,
              "#7201a8"
             ],
             [
              0.3333333333333333,
              "#9c179e"
             ],
             [
              0.4444444444444444,
              "#bd3786"
             ],
             [
              0.5555555555555556,
              "#d8576b"
             ],
             [
              0.6666666666666666,
              "#ed7953"
             ],
             [
              0.7777777777777778,
              "#fb9f3a"
             ],
             [
              0.8888888888888888,
              "#fdca26"
             ],
             [
              1,
              "#f0f921"
             ]
            ],
            "type": "surface"
           }
          ],
          "table": [
           {
            "cells": {
             "fill": {
              "color": "#EBF0F8"
             },
             "line": {
              "color": "white"
             }
            },
            "header": {
             "fill": {
              "color": "#C8D4E3"
             },
             "line": {
              "color": "white"
             }
            },
            "type": "table"
           }
          ]
         },
         "layout": {
          "annotationdefaults": {
           "arrowcolor": "#2a3f5f",
           "arrowhead": 0,
           "arrowwidth": 1
          },
          "autotypenumbers": "strict",
          "coloraxis": {
           "colorbar": {
            "outlinewidth": 0,
            "ticks": ""
           }
          },
          "colorscale": {
           "diverging": [
            [
             0,
             "#8e0152"
            ],
            [
             0.1,
             "#c51b7d"
            ],
            [
             0.2,
             "#de77ae"
            ],
            [
             0.3,
             "#f1b6da"
            ],
            [
             0.4,
             "#fde0ef"
            ],
            [
             0.5,
             "#f7f7f7"
            ],
            [
             0.6,
             "#e6f5d0"
            ],
            [
             0.7,
             "#b8e186"
            ],
            [
             0.8,
             "#7fbc41"
            ],
            [
             0.9,
             "#4d9221"
            ],
            [
             1,
             "#276419"
            ]
           ],
           "sequential": [
            [
             0,
             "#0d0887"
            ],
            [
             0.1111111111111111,
             "#46039f"
            ],
            [
             0.2222222222222222,
             "#7201a8"
            ],
            [
             0.3333333333333333,
             "#9c179e"
            ],
            [
             0.4444444444444444,
             "#bd3786"
            ],
            [
             0.5555555555555556,
             "#d8576b"
            ],
            [
             0.6666666666666666,
             "#ed7953"
            ],
            [
             0.7777777777777778,
             "#fb9f3a"
            ],
            [
             0.8888888888888888,
             "#fdca26"
            ],
            [
             1,
             "#f0f921"
            ]
           ],
           "sequentialminus": [
            [
             0,
             "#0d0887"
            ],
            [
             0.1111111111111111,
             "#46039f"
            ],
            [
             0.2222222222222222,
             "#7201a8"
            ],
            [
             0.3333333333333333,
             "#9c179e"
            ],
            [
             0.4444444444444444,
             "#bd3786"
            ],
            [
             0.5555555555555556,
             "#d8576b"
            ],
            [
             0.6666666666666666,
             "#ed7953"
            ],
            [
             0.7777777777777778,
             "#fb9f3a"
            ],
            [
             0.8888888888888888,
             "#fdca26"
            ],
            [
             1,
             "#f0f921"
            ]
           ]
          },
          "colorway": [
           "#636efa",
           "#EF553B",
           "#00cc96",
           "#ab63fa",
           "#FFA15A",
           "#19d3f3",
           "#FF6692",
           "#B6E880",
           "#FF97FF",
           "#FECB52"
          ],
          "font": {
           "color": "#2a3f5f"
          },
          "geo": {
           "bgcolor": "white",
           "lakecolor": "white",
           "landcolor": "#E5ECF6",
           "showlakes": true,
           "showland": true,
           "subunitcolor": "white"
          },
          "hoverlabel": {
           "align": "left"
          },
          "hovermode": "closest",
          "mapbox": {
           "style": "light"
          },
          "paper_bgcolor": "white",
          "plot_bgcolor": "#E5ECF6",
          "polar": {
           "angularaxis": {
            "gridcolor": "white",
            "linecolor": "white",
            "ticks": ""
           },
           "bgcolor": "#E5ECF6",
           "radialaxis": {
            "gridcolor": "white",
            "linecolor": "white",
            "ticks": ""
           }
          },
          "scene": {
           "xaxis": {
            "backgroundcolor": "#E5ECF6",
            "gridcolor": "white",
            "gridwidth": 2,
            "linecolor": "white",
            "showbackground": true,
            "ticks": "",
            "zerolinecolor": "white"
           },
           "yaxis": {
            "backgroundcolor": "#E5ECF6",
            "gridcolor": "white",
            "gridwidth": 2,
            "linecolor": "white",
            "showbackground": true,
            "ticks": "",
            "zerolinecolor": "white"
           },
           "zaxis": {
            "backgroundcolor": "#E5ECF6",
            "gridcolor": "white",
            "gridwidth": 2,
            "linecolor": "white",
            "showbackground": true,
            "ticks": "",
            "zerolinecolor": "white"
           }
          },
          "shapedefaults": {
           "line": {
            "color": "#2a3f5f"
           }
          },
          "ternary": {
           "aaxis": {
            "gridcolor": "white",
            "linecolor": "white",
            "ticks": ""
           },
           "baxis": {
            "gridcolor": "white",
            "linecolor": "white",
            "ticks": ""
           },
           "bgcolor": "#E5ECF6",
           "caxis": {
            "gridcolor": "white",
            "linecolor": "white",
            "ticks": ""
           }
          },
          "title": {
           "x": 0.05
          },
          "xaxis": {
           "automargin": true,
           "gridcolor": "white",
           "linecolor": "white",
           "ticks": "",
           "title": {
            "standoff": 15
           },
           "zerolinecolor": "white",
           "zerolinewidth": 2
          },
          "yaxis": {
           "automargin": true,
           "gridcolor": "white",
           "linecolor": "white",
           "ticks": "",
           "title": {
            "standoff": 15
           },
           "zerolinecolor": "white",
           "zerolinewidth": 2
          }
         }
        },
        "width": 900,
        "xaxis": {
         "anchor": "y",
         "domain": [
          0,
          1
         ],
         "title": {
          "text": ""
         }
        },
        "yaxis": {
         "anchor": "x",
         "domain": [
          0,
          1
         ],
         "title": {
          "text": "Prediction Ability (pearson r)"
         }
        }
       }
      },
      "text/html": [
       "<div>                            <div id=\"1922a523-108b-42b1-bd7d-d6b87095c380\" class=\"plotly-graph-div\" style=\"height:750px; width:900px;\"></div>            <script type=\"text/javascript\">                require([\"plotly\"], function(Plotly) {                    window.PLOTLYENV=window.PLOTLYENV || {};                                    if (document.getElementById(\"1922a523-108b-42b1-bd7d-d6b87095c380\")) {                    Plotly.newPlot(                        \"1922a523-108b-42b1-bd7d-d6b87095c380\",                        [{\"error_y\":{\"array\":[0.011867124385206531,0.011867124385206531,0.011867124385206531,0.011867124385206531,0.011867124385206531,0.011867124385206531,0.011867124385206531,0.011867124385206531,0.011867124385206531,0.011867124385206531,0.011867124385206531,0.011867124385206531,0.011867124385206531,0.011867124385206531,0.011867124385206531,0.011867124385206531,0.011867124385206531,0.011867124385206531,0.011867124385206531,0.011867124385206531,0.011867124385206531,0.011867124385206531,0.011867124385206531,0.011867124385206531,0.011867124385206531,0.011867124385206531,0.011867124385206531,0.011867124385206531,0.011867124385206531,0.011867124385206531,0.011867124385206531,0.011867124385206531,0.011867124385206531,0.011867124385206531,0.011867124385206531,0.011867124385206531,0.011867124385206531,0.011867124385206531,0.011867124385206531,0.011867124385206531,0.011867124385206531,0.011867124385206531,0.011867124385206531,0.011867124385206531]},\"hovertemplate\":\"Label=%{x}\\u003cbr\\u003eMean=%{y}\\u003cextra\\u003e\\u003c\\u002fextra\\u003e\",\"legendgroup\":\"\",\"marker\":{\"color\":\"#636efa\",\"symbol\":\"circle\"},\"mode\":\"markers\",\"name\":\"\",\"orientation\":\"v\",\"showlegend\":false,\"x\":[\"M1: Genomic\",\"M2: 9 DAP\",\"M3: 10 DAP\",\"M4: 15 DAP\",\"M5: 17 DAP\",\"M6: 22 DAP\",\"M7: 24 DAP\",\"M8: 27 DAP\",\"M9: 30 DAP\",\"M10: 32 DAP\",\"M11: 34 DAP\",\"M12: 37 DAP\",\"M13: 39 DAP\",\"M14: 41 DAP\",\"M15: 45 DAP\",\"M16: 48 DAP\",\"M17: 51 DAP\",\"M18: 53 DAP\",\"M19: 56 DAP\",\"M20: 60 DAP\",\"M21: 62 DAP\",\"M22: 64 DAP\",\"M23: 66 DAP\",\"M24: 69 DAP\",\"M25: 71 DAP\",\"M26: 73 DAP\",\"M27: 76 DAP\",\"M28: 78 DAP\",\"M29: 80 DAP\",\"M30: 83 DAP\",\"M31: 85 DAP\",\"M32: 87 DAP\",\"M33: 90 DAP\",\"M34: 93 DAP\",\"M35: 96 DAP\",\"M36: 99 DAP\",\"M37: 101 DAP\",\"M38: 104 DAP\",\"M39: 107 DAP\",\"M40: 111 DAP\",\"M41: 114 DAP\",\"M42: 118 DAP\",\"M43: 122 DAP\",\"M44: 126 DAP\"],\"xaxis\":\"x\",\"y\":[0.2478650568423274,0.5627555935272636,0.5569937082343258,0.5571600666882407,0.5484659333059039,0.5509789156787289,0.5568295015890744,0.5441531720415483,0.5329459479749619,0.5380810614143352,0.543489624041474,0.542423478499194,0.5691919363009954,0.5667269734522979,0.5665222753070005,0.5701503201656631,0.5722298664009209,0.5709078465447859,0.5791554732372298,0.5778821051806664,0.5776597499411387,0.575802769236168,0.5777659308794854,0.5759332785989405,0.5759467498463771,0.5742903580025149,0.5845439011172684,0.5865975277898468,0.5890113857171195,0.5909534939371944,0.5965954443670237,0.5951436363611774,0.5926926323730748,0.6012150536610872,0.5996510695283771,0.602285689815089,0.6048897782143662,0.6015672168428265,0.6030102230769033,0.6026099491738626,0.6028910436005356,0.6066813622024322,0.6056601130655834,0.6054531463956344],\"yaxis\":\"y\",\"type\":\"scatter\"}],                        {\"template\":{\"data\":{\"histogram2dcontour\":[{\"type\":\"histogram2dcontour\",\"colorbar\":{\"outlinewidth\":0,\"ticks\":\"\"},\"colorscale\":[[0.0,\"#0d0887\"],[0.1111111111111111,\"#46039f\"],[0.2222222222222222,\"#7201a8\"],[0.3333333333333333,\"#9c179e\"],[0.4444444444444444,\"#bd3786\"],[0.5555555555555556,\"#d8576b\"],[0.6666666666666666,\"#ed7953\"],[0.7777777777777778,\"#fb9f3a\"],[0.8888888888888888,\"#fdca26\"],[1.0,\"#f0f921\"]]}],\"choropleth\":[{\"type\":\"choropleth\",\"colorbar\":{\"outlinewidth\":0,\"ticks\":\"\"}}],\"histogram2d\":[{\"type\":\"histogram2d\",\"colorbar\":{\"outlinewidth\":0,\"ticks\":\"\"},\"colorscale\":[[0.0,\"#0d0887\"],[0.1111111111111111,\"#46039f\"],[0.2222222222222222,\"#7201a8\"],[0.3333333333333333,\"#9c179e\"],[0.4444444444444444,\"#bd3786\"],[0.5555555555555556,\"#d8576b\"],[0.6666666666666666,\"#ed7953\"],[0.7777777777777778,\"#fb9f3a\"],[0.8888888888888888,\"#fdca26\"],[1.0,\"#f0f921\"]]}],\"heatmap\":[{\"type\":\"heatmap\",\"colorbar\":{\"outlinewidth\":0,\"ticks\":\"\"},\"colorscale\":[[0.0,\"#0d0887\"],[0.1111111111111111,\"#46039f\"],[0.2222222222222222,\"#7201a8\"],[0.3333333333333333,\"#9c179e\"],[0.4444444444444444,\"#bd3786\"],[0.5555555555555556,\"#d8576b\"],[0.6666666666666666,\"#ed7953\"],[0.7777777777777778,\"#fb9f3a\"],[0.8888888888888888,\"#fdca26\"],[1.0,\"#f0f921\"]]}],\"heatmapgl\":[{\"type\":\"heatmapgl\",\"colorbar\":{\"outlinewidth\":0,\"ticks\":\"\"},\"colorscale\":[[0.0,\"#0d0887\"],[0.1111111111111111,\"#46039f\"],[0.2222222222222222,\"#7201a8\"],[0.3333333333333333,\"#9c179e\"],[0.4444444444444444,\"#bd3786\"],[0.5555555555555556,\"#d8576b\"],[0.6666666666666666,\"#ed7953\"],[0.7777777777777778,\"#fb9f3a\"],[0.8888888888888888,\"#fdca26\"],[1.0,\"#f0f921\"]]}],\"contourcarpet\":[{\"type\":\"contourcarpet\",\"colorbar\":{\"outlinewidth\":0,\"ticks\":\"\"}}],\"contour\":[{\"type\":\"contour\",\"colorbar\":{\"outlinewidth\":0,\"ticks\":\"\"},\"colorscale\":[[0.0,\"#0d0887\"],[0.1111111111111111,\"#46039f\"],[0.2222222222222222,\"#7201a8\"],[0.3333333333333333,\"#9c179e\"],[0.4444444444444444,\"#bd3786\"],[0.5555555555555556,\"#d8576b\"],[0.6666666666666666,\"#ed7953\"],[0.7777777777777778,\"#fb9f3a\"],[0.8888888888888888,\"#fdca26\"],[1.0,\"#f0f921\"]]}],\"surface\":[{\"type\":\"surface\",\"colorbar\":{\"outlinewidth\":0,\"ticks\":\"\"},\"colorscale\":[[0.0,\"#0d0887\"],[0.1111111111111111,\"#46039f\"],[0.2222222222222222,\"#7201a8\"],[0.3333333333333333,\"#9c179e\"],[0.4444444444444444,\"#bd3786\"],[0.5555555555555556,\"#d8576b\"],[0.6666666666666666,\"#ed7953\"],[0.7777777777777778,\"#fb9f3a\"],[0.8888888888888888,\"#fdca26\"],[1.0,\"#f0f921\"]]}],\"mesh3d\":[{\"type\":\"mesh3d\",\"colorbar\":{\"outlinewidth\":0,\"ticks\":\"\"}}],\"scatter\":[{\"fillpattern\":{\"fillmode\":\"overlay\",\"size\":10,\"solidity\":0.2},\"type\":\"scatter\"}],\"parcoords\":[{\"type\":\"parcoords\",\"line\":{\"colorbar\":{\"outlinewidth\":0,\"ticks\":\"\"}}}],\"scatterpolargl\":[{\"type\":\"scatterpolargl\",\"marker\":{\"colorbar\":{\"outlinewidth\":0,\"ticks\":\"\"}}}],\"bar\":[{\"error_x\":{\"color\":\"#2a3f5f\"},\"error_y\":{\"color\":\"#2a3f5f\"},\"marker\":{\"line\":{\"color\":\"#E5ECF6\",\"width\":0.5},\"pattern\":{\"fillmode\":\"overlay\",\"size\":10,\"solidity\":0.2}},\"type\":\"bar\"}],\"scattergeo\":[{\"type\":\"scattergeo\",\"marker\":{\"colorbar\":{\"outlinewidth\":0,\"ticks\":\"\"}}}],\"scatterpolar\":[{\"type\":\"scatterpolar\",\"marker\":{\"colorbar\":{\"outlinewidth\":0,\"ticks\":\"\"}}}],\"histogram\":[{\"marker\":{\"pattern\":{\"fillmode\":\"overlay\",\"size\":10,\"solidity\":0.2}},\"type\":\"histogram\"}],\"scattergl\":[{\"type\":\"scattergl\",\"marker\":{\"colorbar\":{\"outlinewidth\":0,\"ticks\":\"\"}}}],\"scatter3d\":[{\"type\":\"scatter3d\",\"line\":{\"colorbar\":{\"outlinewidth\":0,\"ticks\":\"\"}},\"marker\":{\"colorbar\":{\"outlinewidth\":0,\"ticks\":\"\"}}}],\"scattermapbox\":[{\"type\":\"scattermapbox\",\"marker\":{\"colorbar\":{\"outlinewidth\":0,\"ticks\":\"\"}}}],\"scatterternary\":[{\"type\":\"scatterternary\",\"marker\":{\"colorbar\":{\"outlinewidth\":0,\"ticks\":\"\"}}}],\"scattercarpet\":[{\"type\":\"scattercarpet\",\"marker\":{\"colorbar\":{\"outlinewidth\":0,\"ticks\":\"\"}}}],\"carpet\":[{\"aaxis\":{\"endlinecolor\":\"#2a3f5f\",\"gridcolor\":\"white\",\"linecolor\":\"white\",\"minorgridcolor\":\"white\",\"startlinecolor\":\"#2a3f5f\"},\"baxis\":{\"endlinecolor\":\"#2a3f5f\",\"gridcolor\":\"white\",\"linecolor\":\"white\",\"minorgridcolor\":\"white\",\"startlinecolor\":\"#2a3f5f\"},\"type\":\"carpet\"}],\"table\":[{\"cells\":{\"fill\":{\"color\":\"#EBF0F8\"},\"line\":{\"color\":\"white\"}},\"header\":{\"fill\":{\"color\":\"#C8D4E3\"},\"line\":{\"color\":\"white\"}},\"type\":\"table\"}],\"barpolar\":[{\"marker\":{\"line\":{\"color\":\"#E5ECF6\",\"width\":0.5},\"pattern\":{\"fillmode\":\"overlay\",\"size\":10,\"solidity\":0.2}},\"type\":\"barpolar\"}],\"pie\":[{\"automargin\":true,\"type\":\"pie\"}]},\"layout\":{\"autotypenumbers\":\"strict\",\"colorway\":[\"#636efa\",\"#EF553B\",\"#00cc96\",\"#ab63fa\",\"#FFA15A\",\"#19d3f3\",\"#FF6692\",\"#B6E880\",\"#FF97FF\",\"#FECB52\"],\"font\":{\"color\":\"#2a3f5f\"},\"hovermode\":\"closest\",\"hoverlabel\":{\"align\":\"left\"},\"paper_bgcolor\":\"white\",\"plot_bgcolor\":\"#E5ECF6\",\"polar\":{\"bgcolor\":\"#E5ECF6\",\"angularaxis\":{\"gridcolor\":\"white\",\"linecolor\":\"white\",\"ticks\":\"\"},\"radialaxis\":{\"gridcolor\":\"white\",\"linecolor\":\"white\",\"ticks\":\"\"}},\"ternary\":{\"bgcolor\":\"#E5ECF6\",\"aaxis\":{\"gridcolor\":\"white\",\"linecolor\":\"white\",\"ticks\":\"\"},\"baxis\":{\"gridcolor\":\"white\",\"linecolor\":\"white\",\"ticks\":\"\"},\"caxis\":{\"gridcolor\":\"white\",\"linecolor\":\"white\",\"ticks\":\"\"}},\"coloraxis\":{\"colorbar\":{\"outlinewidth\":0,\"ticks\":\"\"}},\"colorscale\":{\"sequential\":[[0.0,\"#0d0887\"],[0.1111111111111111,\"#46039f\"],[0.2222222222222222,\"#7201a8\"],[0.3333333333333333,\"#9c179e\"],[0.4444444444444444,\"#bd3786\"],[0.5555555555555556,\"#d8576b\"],[0.6666666666666666,\"#ed7953\"],[0.7777777777777778,\"#fb9f3a\"],[0.8888888888888888,\"#fdca26\"],[1.0,\"#f0f921\"]],\"sequentialminus\":[[0.0,\"#0d0887\"],[0.1111111111111111,\"#46039f\"],[0.2222222222222222,\"#7201a8\"],[0.3333333333333333,\"#9c179e\"],[0.4444444444444444,\"#bd3786\"],[0.5555555555555556,\"#d8576b\"],[0.6666666666666666,\"#ed7953\"],[0.7777777777777778,\"#fb9f3a\"],[0.8888888888888888,\"#fdca26\"],[1.0,\"#f0f921\"]],\"diverging\":[[0,\"#8e0152\"],[0.1,\"#c51b7d\"],[0.2,\"#de77ae\"],[0.3,\"#f1b6da\"],[0.4,\"#fde0ef\"],[0.5,\"#f7f7f7\"],[0.6,\"#e6f5d0\"],[0.7,\"#b8e186\"],[0.8,\"#7fbc41\"],[0.9,\"#4d9221\"],[1,\"#276419\"]]},\"xaxis\":{\"gridcolor\":\"white\",\"linecolor\":\"white\",\"ticks\":\"\",\"title\":{\"standoff\":15},\"zerolinecolor\":\"white\",\"automargin\":true,\"zerolinewidth\":2},\"yaxis\":{\"gridcolor\":\"white\",\"linecolor\":\"white\",\"ticks\":\"\",\"title\":{\"standoff\":15},\"zerolinecolor\":\"white\",\"automargin\":true,\"zerolinewidth\":2},\"scene\":{\"xaxis\":{\"backgroundcolor\":\"#E5ECF6\",\"gridcolor\":\"white\",\"linecolor\":\"white\",\"showbackground\":true,\"ticks\":\"\",\"zerolinecolor\":\"white\",\"gridwidth\":2},\"yaxis\":{\"backgroundcolor\":\"#E5ECF6\",\"gridcolor\":\"white\",\"linecolor\":\"white\",\"showbackground\":true,\"ticks\":\"\",\"zerolinecolor\":\"white\",\"gridwidth\":2},\"zaxis\":{\"backgroundcolor\":\"#E5ECF6\",\"gridcolor\":\"white\",\"linecolor\":\"white\",\"showbackground\":true,\"ticks\":\"\",\"zerolinecolor\":\"white\",\"gridwidth\":2}},\"shapedefaults\":{\"line\":{\"color\":\"#2a3f5f\"}},\"annotationdefaults\":{\"arrowcolor\":\"#2a3f5f\",\"arrowhead\":0,\"arrowwidth\":1},\"geo\":{\"bgcolor\":\"white\",\"landcolor\":\"#E5ECF6\",\"subunitcolor\":\"white\",\"showland\":true,\"showlakes\":true,\"lakecolor\":\"white\"},\"title\":{\"x\":0.05},\"mapbox\":{\"style\":\"light\"}}},\"xaxis\":{\"anchor\":\"y\",\"domain\":[0.0,1.0],\"title\":{\"text\":\"\"}},\"yaxis\":{\"anchor\":\"x\",\"domain\":[0.0,1.0],\"title\":{\"text\":\"Prediction Ability (pearson r)\"}},\"legend\":{\"tracegroupgap\":0},\"margin\":{\"t\":1,\"l\":1,\"r\":1,\"b\":1},\"autosize\":false,\"width\":900,\"height\":750},                        {\"responsive\": true}                    ).then(function(){\n",
       "                            \n",
       "var gd = document.getElementById('1922a523-108b-42b1-bd7d-d6b87095c380');\n",
       "var x = new MutationObserver(function (mutations, observer) {{\n",
       "        var display = window.getComputedStyle(gd).display;\n",
       "        if (!display || display === 'none') {{\n",
       "            console.log([gd, 'removed!']);\n",
       "            Plotly.purge(gd);\n",
       "            observer.disconnect();\n",
       "        }}\n",
       "}});\n",
       "\n",
       "// Listen for the removal of the full notebook cells\n",
       "var notebookContainer = gd.closest('#notebook-container');\n",
       "if (notebookContainer) {{\n",
       "    x.observe(notebookContainer, {childList: true});\n",
       "}}\n",
       "\n",
       "// Listen for the clearing of the current output cell\n",
       "var outputEl = gd.closest('.output');\n",
       "if (outputEl) {{\n",
       "    x.observe(outputEl, {childList: true});\n",
       "}}\n",
       "\n",
       "                        })                };                });            </script>        </div>"
      ]
     },
     "metadata": {},
     "output_type": "display_data"
    }
   ],
   "source": [
    "#FIGURE 6\n",
    "fig = px.scatter(sim_CIs, x=\"Label\", y=\"Mean\", error_y=\"Halfwidth\")\n",
    "fig.update_layout(yaxis_title=\"Prediction Ability (pearson r)\", xaxis_title=\"\")\n",
    "fig.update_layout(margin=dict(l=1, r=1, t=1, b=1))\n",
    "\n",
    "#fig2 = px.line(sim_CIs, x=\"Label\", y=\"Mean\")\n",
    "#fig2.update_traces(line_color='black')#, line_width=5)\n",
    "#fig.add_traces(list(fig2.select_traces()))\n",
    "\n",
    "\n",
    "width = 900\n",
    "height = 750\n",
    "fig.update_layout(autosize=False, width=width,height=height)\n",
    "fig.write_html(\"../Figures/Fig6.html\")\n",
    "fig.write_image(\"../Figures/Fig6.svg\")\n",
    "\n",
    "fig.show()\n",
    "#tukey_res.plot_simultaneous()"
   ]
  },
  {
   "cell_type": "code",
   "execution_count": null,
   "id": "3744885e",
   "metadata": {},
   "outputs": [],
   "source": []
  },
  {
   "cell_type": "code",
   "execution_count": 16,
   "id": "711045c6",
   "metadata": {},
   "outputs": [
    {
     "data": {
      "text/html": [
       "<div>\n",
       "<style scoped>\n",
       "    .dataframe tbody tr th:only-of-type {\n",
       "        vertical-align: middle;\n",
       "    }\n",
       "\n",
       "    .dataframe tbody tr th {\n",
       "        vertical-align: top;\n",
       "    }\n",
       "\n",
       "    .dataframe thead th {\n",
       "        text-align: right;\n",
       "    }\n",
       "</style>\n",
       "<table border=\"1\" class=\"dataframe\">\n",
       "  <thead>\n",
       "    <tr style=\"text-align: right;\">\n",
       "      <th></th>\n",
       "      <th>M_num</th>\n",
       "      <th>Unnamed: 0</th>\n",
       "      <th>cor</th>\n",
       "    </tr>\n",
       "    <tr>\n",
       "      <th>Model</th>\n",
       "      <th></th>\n",
       "      <th></th>\n",
       "      <th></th>\n",
       "    </tr>\n",
       "  </thead>\n",
       "  <tbody>\n",
       "    <tr>\n",
       "      <th>M1</th>\n",
       "      <td>1</td>\n",
       "      <td>63</td>\n",
       "      <td>0.247865</td>\n",
       "    </tr>\n",
       "    <tr>\n",
       "      <th>M17</th>\n",
       "      <td>17</td>\n",
       "      <td>1063</td>\n",
       "      <td>0.572230</td>\n",
       "    </tr>\n",
       "    <tr>\n",
       "      <th>M44</th>\n",
       "      <td>44</td>\n",
       "      <td>4813</td>\n",
       "      <td>0.605453</td>\n",
       "    </tr>\n",
       "  </tbody>\n",
       "</table>\n",
       "</div>"
      ],
      "text/plain": [
       "       M_num  Unnamed: 0       cor\n",
       "Model                             \n",
       "M1         1          63  0.247865\n",
       "M17       17        1063  0.572230\n",
       "M44       44        4813  0.605453"
      ]
     },
     "execution_count": 16,
     "metadata": {},
     "output_type": "execute_result"
    }
   ],
   "source": [
    "#FIGURE 5\n",
    "for_fig = sng_long_pred[sng_long_pred[\"CV\"]==\"CV1\"].copy()\n",
    "for_fig = for_fig[for_fig[\"Model\"].isin([\"M1\",\"M44\",\"M17\"])]\n",
    "for_fig.pivot_table(index=[\"Model\"])"
   ]
  },
  {
   "cell_type": "code",
   "execution_count": 15,
   "id": "dc3483e0",
   "metadata": {
    "scrolled": false
   },
   "outputs": [
    {
     "data": {
      "application/vnd.plotly.v1+json": {
       "config": {
        "plotlyServerURL": "https://plot.ly"
       },
       "data": [
        {
         "alignmentgroup": "True",
         "hovertemplate": "Model=%{x}<br>cor=%{y}<extra></extra>",
         "legendgroup": "M1",
         "marker": {
          "color": "#636efa"
         },
         "name": "M1",
         "notched": false,
         "offsetgroup": "M1",
         "orientation": "v",
         "showlegend": true,
         "type": "box",
         "x": [
          "M1",
          "M1",
          "M1",
          "M1",
          "M1",
          "M1",
          "M1",
          "M1",
          "M1",
          "M1",
          "M1",
          "M1",
          "M1",
          "M1",
          "M1",
          "M1",
          "M1",
          "M1",
          "M1",
          "M1",
          "M1",
          "M1",
          "M1",
          "M1",
          "M1",
          "M1",
          "M1",
          "M1",
          "M1",
          "M1",
          "M1",
          "M1",
          "M1",
          "M1",
          "M1",
          "M1",
          "M1",
          "M1",
          "M1",
          "M1",
          "M1",
          "M1",
          "M1",
          "M1",
          "M1",
          "M1",
          "M1",
          "M1",
          "M1",
          "M1",
          "M1",
          "M1",
          "M1",
          "M1",
          "M1",
          "M1",
          "M1",
          "M1",
          "M1",
          "M1",
          "M1",
          "M1",
          "M1",
          "M1",
          "M1",
          "M1",
          "M1",
          "M1",
          "M1",
          "M1",
          "M1",
          "M1",
          "M1",
          "M1",
          "M1",
          "M1",
          "M1",
          "M1",
          "M1",
          "M1",
          "M1",
          "M1",
          "M1",
          "M1",
          "M1",
          "M1",
          "M1",
          "M1",
          "M1",
          "M1",
          "M1",
          "M1",
          "M1",
          "M1",
          "M1",
          "M1",
          "M1",
          "M1",
          "M1",
          "M1",
          "M1",
          "M1",
          "M1",
          "M1",
          "M1",
          "M1",
          "M1",
          "M1",
          "M1",
          "M1",
          "M1",
          "M1",
          "M1",
          "M1",
          "M1",
          "M1",
          "M1",
          "M1",
          "M1",
          "M1",
          "M1",
          "M1",
          "M1",
          "M1",
          "M1"
         ],
         "x0": " ",
         "xaxis": "x",
         "y": [
          0.253694127418607,
          0.117914158981,
          0.331903523253697,
          0.268374426694237,
          0.260269339365259,
          0.234467211762672,
          0.140055244656405,
          0.236311719158486,
          0.259872776285495,
          0.195395505390445,
          0.297127624236991,
          0.297547732070329,
          0.299566819532268,
          0.148547203574442,
          0.204882533199786,
          0.171055078242095,
          0.364423594131608,
          0.257680638218115,
          0.172811230305786,
          0.251417951788715,
          0.255171365974768,
          0.230400519683052,
          0.184202640472647,
          0.252191540322332,
          0.405575967929817,
          0.156353411176098,
          0.325407885607569,
          0.211397572345928,
          0.295404424340173,
          0.245737237156728,
          0.318165109409046,
          0.206031378118908,
          0.223240636490649,
          0.263227964501457,
          0.271454869007793,
          0.253334753513199,
          0.296578584681058,
          0.307822410194248,
          0.229435682774675,
          0.271682184188852,
          0.231618333192644,
          0.161577169740543,
          0.223955435251425,
          0.308596806937841,
          0.297184195079445,
          0.171041872385097,
          0.218338157097476,
          0.287453078423093,
          0.3317125284791,
          0.346030277227277,
          0.313687502758441,
          0.252877583161088,
          0.248170911573048,
          0.140570092750651,
          0.237777627680768,
          0.287075637241852,
          0.191958452020204,
          0.276458215080415,
          0.24707493289771,
          0.283450422295301,
          0.322597440881177,
          0.202120133188968,
          0.193185314554335,
          0.220775580712352,
          0.292833814140527,
          0.217189325792956,
          0.204741464170565,
          0.358535140780615,
          0.234874371877696,
          0.251928765049531,
          0.303942843920835,
          0.27693366850561,
          0.16083634424385,
          0.272022939647007,
          0.200729843896847,
          0.254909391829872,
          0.208318772226257,
          0.24083993864783,
          0.196392421473544,
          0.276381231231691,
          0.269647255233832,
          0.271701730965692,
          0.0978421484588399,
          0.247591125707651,
          0.281187013298294,
          0.267041567836249,
          0.263931975632789,
          0.262815196606954,
          0.37447792249429,
          0.22355212973299,
          0.264936508134256,
          0.243938035760119,
          0.20074148598053,
          0.262764415251387,
          0.243354474550773,
          0.200451112839928,
          0.227714964707442,
          0.228570039690792,
          0.200510994708034,
          0.280397539920203,
          0.24997105837987,
          0.266806894497312,
          0.284754723996697,
          0.199221439764545,
          0.265546799601104,
          0.227567295866069,
          0.252442412994926,
          0.3648503189121,
          0.11913090618998,
          0.337632865269082,
          0.276760073441206,
          0.185956785527565,
          0.152906677898294,
          0.268589725170678,
          0.320022707860438,
          0.326107151193986,
          0.205782321018581,
          0.189955469911883,
          0.225312466986013,
          0.215444772118341,
          0.200871680752606,
          0.365506770149932,
          0.2405356798731,
          0.28714794257408,
          0.128306973630573
         ],
         "y0": " ",
         "yaxis": "y"
        },
        {
         "alignmentgroup": "True",
         "hovertemplate": "Model=%{x}<br>cor=%{y}<extra></extra>",
         "legendgroup": "M17",
         "marker": {
          "color": "#EF553B"
         },
         "name": "M17",
         "notched": false,
         "offsetgroup": "M17",
         "orientation": "v",
         "showlegend": true,
         "type": "box",
         "x": [
          "M17",
          "M17",
          "M17",
          "M17",
          "M17",
          "M17",
          "M17",
          "M17",
          "M17",
          "M17",
          "M17",
          "M17",
          "M17",
          "M17",
          "M17",
          "M17",
          "M17",
          "M17",
          "M17",
          "M17",
          "M17",
          "M17",
          "M17",
          "M17",
          "M17",
          "M17",
          "M17",
          "M17",
          "M17",
          "M17",
          "M17",
          "M17",
          "M17",
          "M17",
          "M17",
          "M17",
          "M17",
          "M17",
          "M17",
          "M17",
          "M17",
          "M17",
          "M17",
          "M17",
          "M17",
          "M17",
          "M17",
          "M17",
          "M17",
          "M17",
          "M17",
          "M17",
          "M17",
          "M17",
          "M17",
          "M17",
          "M17",
          "M17",
          "M17",
          "M17",
          "M17",
          "M17",
          "M17",
          "M17",
          "M17",
          "M17",
          "M17",
          "M17",
          "M17",
          "M17",
          "M17",
          "M17",
          "M17",
          "M17",
          "M17",
          "M17",
          "M17",
          "M17",
          "M17",
          "M17",
          "M17",
          "M17",
          "M17",
          "M17",
          "M17",
          "M17",
          "M17",
          "M17",
          "M17",
          "M17",
          "M17",
          "M17",
          "M17",
          "M17",
          "M17",
          "M17",
          "M17",
          "M17",
          "M17",
          "M17",
          "M17",
          "M17",
          "M17",
          "M17",
          "M17",
          "M17",
          "M17",
          "M17",
          "M17",
          "M17",
          "M17",
          "M17",
          "M17",
          "M17",
          "M17",
          "M17",
          "M17",
          "M17",
          "M17",
          "M17",
          "M17",
          "M17",
          "M17",
          "M17",
          "M17"
         ],
         "x0": " ",
         "xaxis": "x",
         "y": [
          0.583545190760268,
          0.658637093236983,
          0.52592700361153,
          0.582766615718152,
          0.545667299923823,
          0.502365089471023,
          0.573005002901601,
          0.61401458870026,
          0.517390427597927,
          0.632931534006815,
          0.524764975267025,
          0.635962911913759,
          0.573303451137154,
          0.658383497072651,
          0.481175414219324,
          0.529159818586459,
          0.597958218266845,
          0.6661247567648,
          0.466964251674432,
          0.591506279207278,
          0.560992246726143,
          0.636254964479535,
          0.549739563498538,
          0.613690018048603,
          0.49586608628164,
          0.619310284150818,
          0.518834056298385,
          0.544665912425549,
          0.674071223792589,
          0.51831697745794,
          0.617515620278871,
          0.599915078733502,
          0.545198315477362,
          0.556720383432666,
          0.572301406019895,
          0.526984840168088,
          0.549805930766668,
          0.556310412708295,
          0.614024976916905,
          0.59652004353027,
          0.595622975292147,
          0.602191511459701,
          0.620163737431439,
          0.537635486860164,
          0.508034924887375,
          0.456635153226155,
          0.631100387054149,
          0.655773895439741,
          0.56926384048922,
          0.589515095360193,
          0.571189826657555,
          0.558649206018532,
          0.52668254812979,
          0.577594250077522,
          0.608917664270221,
          0.585066508152816,
          0.63224392481378,
          0.600255441618295,
          0.505010977273522,
          0.511212808673208,
          0.567500552968768,
          0.552606622201174,
          0.600459575603652,
          0.59312004524722,
          0.557854142091988,
          0.630116373285751,
          0.582302670277375,
          0.520056114343235,
          0.53276742066637,
          0.599486590414326,
          0.596060770392677,
          0.680816653465708,
          0.532734463572611,
          0.559932152369584,
          0.509695432963554,
          0.625420089404824,
          0.568494203126874,
          0.588582781456764,
          0.547829314124461,
          0.562457040153528,
          0.520650980712211,
          0.626357579102659,
          0.587797214829855,
          0.604769222146693,
          0.526550618401485,
          0.664250606328523,
          0.614547445782159,
          0.564143684976379,
          0.487227035777031,
          0.519941765055507,
          0.667693857694381,
          0.560261370770569,
          0.511651510439121,
          0.467492921495959,
          0.643209869004154,
          0.52540736018227,
          0.541844853351074,
          0.606363103759412,
          0.53610726353431,
          0.621499131609216,
          0.614998635043049,
          0.538760275162712,
          0.585857530024605,
          0.530336021560468,
          0.58019062747247,
          0.603635813172767,
          0.595315542675415,
          0.517430002524061,
          0.565742392296748,
          0.526738990186622,
          0.583915582142719,
          0.621709881705826,
          0.545355063609098,
          0.616675220502822,
          0.497162805576223,
          0.58453663599094,
          0.60088797695476,
          0.518740413398794,
          0.627567789271664,
          0.549795985449586,
          0.570215807226786,
          0.543839195983666,
          0.489595095910278,
          0.667712145658785,
          0.574605543114951
         ],
         "y0": " ",
         "yaxis": "y"
        },
        {
         "alignmentgroup": "True",
         "hovertemplate": "Model=%{x}<br>cor=%{y}<extra></extra>",
         "legendgroup": "M44",
         "marker": {
          "color": "#00cc96"
         },
         "name": "M44",
         "notched": false,
         "offsetgroup": "M44",
         "orientation": "v",
         "showlegend": true,
         "type": "box",
         "x": [
          "M44",
          "M44",
          "M44",
          "M44",
          "M44",
          "M44",
          "M44",
          "M44",
          "M44",
          "M44",
          "M44",
          "M44",
          "M44",
          "M44",
          "M44",
          "M44",
          "M44",
          "M44",
          "M44",
          "M44",
          "M44",
          "M44",
          "M44",
          "M44",
          "M44",
          "M44",
          "M44",
          "M44",
          "M44",
          "M44",
          "M44",
          "M44",
          "M44",
          "M44",
          "M44",
          "M44",
          "M44",
          "M44",
          "M44",
          "M44",
          "M44",
          "M44",
          "M44",
          "M44",
          "M44",
          "M44",
          "M44",
          "M44",
          "M44",
          "M44",
          "M44",
          "M44",
          "M44",
          "M44",
          "M44",
          "M44",
          "M44",
          "M44",
          "M44",
          "M44",
          "M44",
          "M44",
          "M44",
          "M44",
          "M44",
          "M44",
          "M44",
          "M44",
          "M44",
          "M44",
          "M44",
          "M44",
          "M44",
          "M44",
          "M44",
          "M44",
          "M44",
          "M44",
          "M44",
          "M44",
          "M44",
          "M44",
          "M44",
          "M44",
          "M44",
          "M44",
          "M44",
          "M44",
          "M44",
          "M44",
          "M44",
          "M44",
          "M44",
          "M44",
          "M44",
          "M44",
          "M44",
          "M44",
          "M44",
          "M44",
          "M44",
          "M44",
          "M44",
          "M44",
          "M44",
          "M44",
          "M44",
          "M44",
          "M44",
          "M44",
          "M44",
          "M44",
          "M44",
          "M44",
          "M44",
          "M44",
          "M44",
          "M44",
          "M44",
          "M44",
          "M44",
          "M44",
          "M44",
          "M44",
          "M44"
         ],
         "x0": " ",
         "xaxis": "x",
         "y": [
          0.548379136168325,
          0.680501655171319,
          0.590476570245466,
          0.583630420292843,
          0.634971906891261,
          0.619842623628824,
          0.62369465440971,
          0.57965100710606,
          0.560427602647938,
          0.663904095079641,
          0.643065998424161,
          0.611782382899155,
          0.651976451405078,
          0.505954610836383,
          0.583470899439169,
          0.586412328737791,
          0.619569700880925,
          0.59189771266637,
          0.585942505044875,
          0.636327277232787,
          0.626887485287798,
          0.58526292905579,
          0.538753538790299,
          0.610157068574406,
          0.671408002610202,
          0.583021709604449,
          0.609959773466673,
          0.553532235637185,
          0.699515900679292,
          0.556985437719081,
          0.484586018492942,
          0.596688670348783,
          0.604595967216568,
          0.659595025067599,
          0.67265702850781,
          0.634642796540643,
          0.623098327865548,
          0.489035912039198,
          0.676383397563283,
          0.610629913610225,
          0.655011594512909,
          0.602222030851744,
          0.612650858266634,
          0.622531348443428,
          0.568581578770233,
          0.603621187797197,
          0.546953378047332,
          0.654903927513706,
          0.609633971252346,
          0.634146837209003,
          0.554987060222604,
          0.618846441267073,
          0.610495720601914,
          0.570512973088104,
          0.649568725669156,
          0.626482372411849,
          0.565030531779055,
          0.530952533502931,
          0.642283441905246,
          0.670214617863501,
          0.652537938631463,
          0.668049611558909,
          0.588022180174054,
          0.502108441727041,
          0.591849592355112,
          0.583166125700366,
          0.605911852471126,
          0.575007009105423,
          0.591829419142139,
          0.654544034541145,
          0.62382723666529,
          0.586695206491368,
          0.570548541208321,
          0.625709980449522,
          0.660570172868961,
          0.537285049800901,
          0.605109761285613,
          0.593797039616036,
          0.662492035996434,
          0.599818858179577,
          0.653543527243966,
          0.577856906475521,
          0.620579579269032,
          0.599317843820443,
          0.542129184121506,
          0.538723334763883,
          0.580850266110436,
          0.68783173820186,
          0.654118105661211,
          0.582287540818833,
          0.59832927400582,
          0.556294442822813,
          0.667072872529974,
          0.568581680878484,
          0.661226944376022,
          0.594201368692243,
          0.635499686962049,
          0.563418263578997,
          0.639833729582409,
          0.60247392405265,
          0.648136866383039,
          0.607172069621581,
          0.592820552368037,
          0.590665268087621,
          0.607551869388695,
          0.646181996205844,
          0.59685339304666,
          0.651919119860588,
          0.513328003656357,
          0.634834009172822,
          0.690679956202645,
          0.555685912761488,
          0.605316316620295,
          0.604397940552473,
          0.555583694235027,
          0.632175105375771,
          0.657541221696396,
          0.603838215718859,
          0.541646078481964,
          0.596148535249776,
          0.670268131886937,
          0.570184256474943,
          0.517254670833792,
          0.644299996349179,
          0.605202008424771
         ],
         "y0": " ",
         "yaxis": "y"
        }
       ],
       "layout": {
        "boxmode": "overlay",
        "legend": {
         "title": {
          "text": "Model"
         },
         "tracegroupgap": 0
        },
        "margin": {
         "t": 60
        },
        "template": {
         "data": {
          "bar": [
           {
            "error_x": {
             "color": "#2a3f5f"
            },
            "error_y": {
             "color": "#2a3f5f"
            },
            "marker": {
             "line": {
              "color": "#E5ECF6",
              "width": 0.5
             },
             "pattern": {
              "fillmode": "overlay",
              "size": 10,
              "solidity": 0.2
             }
            },
            "type": "bar"
           }
          ],
          "barpolar": [
           {
            "marker": {
             "line": {
              "color": "#E5ECF6",
              "width": 0.5
             },
             "pattern": {
              "fillmode": "overlay",
              "size": 10,
              "solidity": 0.2
             }
            },
            "type": "barpolar"
           }
          ],
          "carpet": [
           {
            "aaxis": {
             "endlinecolor": "#2a3f5f",
             "gridcolor": "white",
             "linecolor": "white",
             "minorgridcolor": "white",
             "startlinecolor": "#2a3f5f"
            },
            "baxis": {
             "endlinecolor": "#2a3f5f",
             "gridcolor": "white",
             "linecolor": "white",
             "minorgridcolor": "white",
             "startlinecolor": "#2a3f5f"
            },
            "type": "carpet"
           }
          ],
          "choropleth": [
           {
            "colorbar": {
             "outlinewidth": 0,
             "ticks": ""
            },
            "type": "choropleth"
           }
          ],
          "contour": [
           {
            "colorbar": {
             "outlinewidth": 0,
             "ticks": ""
            },
            "colorscale": [
             [
              0,
              "#0d0887"
             ],
             [
              0.1111111111111111,
              "#46039f"
             ],
             [
              0.2222222222222222,
              "#7201a8"
             ],
             [
              0.3333333333333333,
              "#9c179e"
             ],
             [
              0.4444444444444444,
              "#bd3786"
             ],
             [
              0.5555555555555556,
              "#d8576b"
             ],
             [
              0.6666666666666666,
              "#ed7953"
             ],
             [
              0.7777777777777778,
              "#fb9f3a"
             ],
             [
              0.8888888888888888,
              "#fdca26"
             ],
             [
              1,
              "#f0f921"
             ]
            ],
            "type": "contour"
           }
          ],
          "contourcarpet": [
           {
            "colorbar": {
             "outlinewidth": 0,
             "ticks": ""
            },
            "type": "contourcarpet"
           }
          ],
          "heatmap": [
           {
            "colorbar": {
             "outlinewidth": 0,
             "ticks": ""
            },
            "colorscale": [
             [
              0,
              "#0d0887"
             ],
             [
              0.1111111111111111,
              "#46039f"
             ],
             [
              0.2222222222222222,
              "#7201a8"
             ],
             [
              0.3333333333333333,
              "#9c179e"
             ],
             [
              0.4444444444444444,
              "#bd3786"
             ],
             [
              0.5555555555555556,
              "#d8576b"
             ],
             [
              0.6666666666666666,
              "#ed7953"
             ],
             [
              0.7777777777777778,
              "#fb9f3a"
             ],
             [
              0.8888888888888888,
              "#fdca26"
             ],
             [
              1,
              "#f0f921"
             ]
            ],
            "type": "heatmap"
           }
          ],
          "heatmapgl": [
           {
            "colorbar": {
             "outlinewidth": 0,
             "ticks": ""
            },
            "colorscale": [
             [
              0,
              "#0d0887"
             ],
             [
              0.1111111111111111,
              "#46039f"
             ],
             [
              0.2222222222222222,
              "#7201a8"
             ],
             [
              0.3333333333333333,
              "#9c179e"
             ],
             [
              0.4444444444444444,
              "#bd3786"
             ],
             [
              0.5555555555555556,
              "#d8576b"
             ],
             [
              0.6666666666666666,
              "#ed7953"
             ],
             [
              0.7777777777777778,
              "#fb9f3a"
             ],
             [
              0.8888888888888888,
              "#fdca26"
             ],
             [
              1,
              "#f0f921"
             ]
            ],
            "type": "heatmapgl"
           }
          ],
          "histogram": [
           {
            "marker": {
             "pattern": {
              "fillmode": "overlay",
              "size": 10,
              "solidity": 0.2
             }
            },
            "type": "histogram"
           }
          ],
          "histogram2d": [
           {
            "colorbar": {
             "outlinewidth": 0,
             "ticks": ""
            },
            "colorscale": [
             [
              0,
              "#0d0887"
             ],
             [
              0.1111111111111111,
              "#46039f"
             ],
             [
              0.2222222222222222,
              "#7201a8"
             ],
             [
              0.3333333333333333,
              "#9c179e"
             ],
             [
              0.4444444444444444,
              "#bd3786"
             ],
             [
              0.5555555555555556,
              "#d8576b"
             ],
             [
              0.6666666666666666,
              "#ed7953"
             ],
             [
              0.7777777777777778,
              "#fb9f3a"
             ],
             [
              0.8888888888888888,
              "#fdca26"
             ],
             [
              1,
              "#f0f921"
             ]
            ],
            "type": "histogram2d"
           }
          ],
          "histogram2dcontour": [
           {
            "colorbar": {
             "outlinewidth": 0,
             "ticks": ""
            },
            "colorscale": [
             [
              0,
              "#0d0887"
             ],
             [
              0.1111111111111111,
              "#46039f"
             ],
             [
              0.2222222222222222,
              "#7201a8"
             ],
             [
              0.3333333333333333,
              "#9c179e"
             ],
             [
              0.4444444444444444,
              "#bd3786"
             ],
             [
              0.5555555555555556,
              "#d8576b"
             ],
             [
              0.6666666666666666,
              "#ed7953"
             ],
             [
              0.7777777777777778,
              "#fb9f3a"
             ],
             [
              0.8888888888888888,
              "#fdca26"
             ],
             [
              1,
              "#f0f921"
             ]
            ],
            "type": "histogram2dcontour"
           }
          ],
          "mesh3d": [
           {
            "colorbar": {
             "outlinewidth": 0,
             "ticks": ""
            },
            "type": "mesh3d"
           }
          ],
          "parcoords": [
           {
            "line": {
             "colorbar": {
              "outlinewidth": 0,
              "ticks": ""
             }
            },
            "type": "parcoords"
           }
          ],
          "pie": [
           {
            "automargin": true,
            "type": "pie"
           }
          ],
          "scatter": [
           {
            "fillpattern": {
             "fillmode": "overlay",
             "size": 10,
             "solidity": 0.2
            },
            "type": "scatter"
           }
          ],
          "scatter3d": [
           {
            "line": {
             "colorbar": {
              "outlinewidth": 0,
              "ticks": ""
             }
            },
            "marker": {
             "colorbar": {
              "outlinewidth": 0,
              "ticks": ""
             }
            },
            "type": "scatter3d"
           }
          ],
          "scattercarpet": [
           {
            "marker": {
             "colorbar": {
              "outlinewidth": 0,
              "ticks": ""
             }
            },
            "type": "scattercarpet"
           }
          ],
          "scattergeo": [
           {
            "marker": {
             "colorbar": {
              "outlinewidth": 0,
              "ticks": ""
             }
            },
            "type": "scattergeo"
           }
          ],
          "scattergl": [
           {
            "marker": {
             "colorbar": {
              "outlinewidth": 0,
              "ticks": ""
             }
            },
            "type": "scattergl"
           }
          ],
          "scattermapbox": [
           {
            "marker": {
             "colorbar": {
              "outlinewidth": 0,
              "ticks": ""
             }
            },
            "type": "scattermapbox"
           }
          ],
          "scatterpolar": [
           {
            "marker": {
             "colorbar": {
              "outlinewidth": 0,
              "ticks": ""
             }
            },
            "type": "scatterpolar"
           }
          ],
          "scatterpolargl": [
           {
            "marker": {
             "colorbar": {
              "outlinewidth": 0,
              "ticks": ""
             }
            },
            "type": "scatterpolargl"
           }
          ],
          "scatterternary": [
           {
            "marker": {
             "colorbar": {
              "outlinewidth": 0,
              "ticks": ""
             }
            },
            "type": "scatterternary"
           }
          ],
          "surface": [
           {
            "colorbar": {
             "outlinewidth": 0,
             "ticks": ""
            },
            "colorscale": [
             [
              0,
              "#0d0887"
             ],
             [
              0.1111111111111111,
              "#46039f"
             ],
             [
              0.2222222222222222,
              "#7201a8"
             ],
             [
              0.3333333333333333,
              "#9c179e"
             ],
             [
              0.4444444444444444,
              "#bd3786"
             ],
             [
              0.5555555555555556,
              "#d8576b"
             ],
             [
              0.6666666666666666,
              "#ed7953"
             ],
             [
              0.7777777777777778,
              "#fb9f3a"
             ],
             [
              0.8888888888888888,
              "#fdca26"
             ],
             [
              1,
              "#f0f921"
             ]
            ],
            "type": "surface"
           }
          ],
          "table": [
           {
            "cells": {
             "fill": {
              "color": "#EBF0F8"
             },
             "line": {
              "color": "white"
             }
            },
            "header": {
             "fill": {
              "color": "#C8D4E3"
             },
             "line": {
              "color": "white"
             }
            },
            "type": "table"
           }
          ]
         },
         "layout": {
          "annotationdefaults": {
           "arrowcolor": "#2a3f5f",
           "arrowhead": 0,
           "arrowwidth": 1
          },
          "autotypenumbers": "strict",
          "coloraxis": {
           "colorbar": {
            "outlinewidth": 0,
            "ticks": ""
           }
          },
          "colorscale": {
           "diverging": [
            [
             0,
             "#8e0152"
            ],
            [
             0.1,
             "#c51b7d"
            ],
            [
             0.2,
             "#de77ae"
            ],
            [
             0.3,
             "#f1b6da"
            ],
            [
             0.4,
             "#fde0ef"
            ],
            [
             0.5,
             "#f7f7f7"
            ],
            [
             0.6,
             "#e6f5d0"
            ],
            [
             0.7,
             "#b8e186"
            ],
            [
             0.8,
             "#7fbc41"
            ],
            [
             0.9,
             "#4d9221"
            ],
            [
             1,
             "#276419"
            ]
           ],
           "sequential": [
            [
             0,
             "#0d0887"
            ],
            [
             0.1111111111111111,
             "#46039f"
            ],
            [
             0.2222222222222222,
             "#7201a8"
            ],
            [
             0.3333333333333333,
             "#9c179e"
            ],
            [
             0.4444444444444444,
             "#bd3786"
            ],
            [
             0.5555555555555556,
             "#d8576b"
            ],
            [
             0.6666666666666666,
             "#ed7953"
            ],
            [
             0.7777777777777778,
             "#fb9f3a"
            ],
            [
             0.8888888888888888,
             "#fdca26"
            ],
            [
             1,
             "#f0f921"
            ]
           ],
           "sequentialminus": [
            [
             0,
             "#0d0887"
            ],
            [
             0.1111111111111111,
             "#46039f"
            ],
            [
             0.2222222222222222,
             "#7201a8"
            ],
            [
             0.3333333333333333,
             "#9c179e"
            ],
            [
             0.4444444444444444,
             "#bd3786"
            ],
            [
             0.5555555555555556,
             "#d8576b"
            ],
            [
             0.6666666666666666,
             "#ed7953"
            ],
            [
             0.7777777777777778,
             "#fb9f3a"
            ],
            [
             0.8888888888888888,
             "#fdca26"
            ],
            [
             1,
             "#f0f921"
            ]
           ]
          },
          "colorway": [
           "#636efa",
           "#EF553B",
           "#00cc96",
           "#ab63fa",
           "#FFA15A",
           "#19d3f3",
           "#FF6692",
           "#B6E880",
           "#FF97FF",
           "#FECB52"
          ],
          "font": {
           "color": "#2a3f5f"
          },
          "geo": {
           "bgcolor": "white",
           "lakecolor": "white",
           "landcolor": "#E5ECF6",
           "showlakes": true,
           "showland": true,
           "subunitcolor": "white"
          },
          "hoverlabel": {
           "align": "left"
          },
          "hovermode": "closest",
          "mapbox": {
           "style": "light"
          },
          "paper_bgcolor": "white",
          "plot_bgcolor": "#E5ECF6",
          "polar": {
           "angularaxis": {
            "gridcolor": "white",
            "linecolor": "white",
            "ticks": ""
           },
           "bgcolor": "#E5ECF6",
           "radialaxis": {
            "gridcolor": "white",
            "linecolor": "white",
            "ticks": ""
           }
          },
          "scene": {
           "xaxis": {
            "backgroundcolor": "#E5ECF6",
            "gridcolor": "white",
            "gridwidth": 2,
            "linecolor": "white",
            "showbackground": true,
            "ticks": "",
            "zerolinecolor": "white"
           },
           "yaxis": {
            "backgroundcolor": "#E5ECF6",
            "gridcolor": "white",
            "gridwidth": 2,
            "linecolor": "white",
            "showbackground": true,
            "ticks": "",
            "zerolinecolor": "white"
           },
           "zaxis": {
            "backgroundcolor": "#E5ECF6",
            "gridcolor": "white",
            "gridwidth": 2,
            "linecolor": "white",
            "showbackground": true,
            "ticks": "",
            "zerolinecolor": "white"
           }
          },
          "shapedefaults": {
           "line": {
            "color": "#2a3f5f"
           }
          },
          "ternary": {
           "aaxis": {
            "gridcolor": "white",
            "linecolor": "white",
            "ticks": ""
           },
           "baxis": {
            "gridcolor": "white",
            "linecolor": "white",
            "ticks": ""
           },
           "bgcolor": "#E5ECF6",
           "caxis": {
            "gridcolor": "white",
            "linecolor": "white",
            "ticks": ""
           }
          },
          "title": {
           "x": 0.05
          },
          "xaxis": {
           "automargin": true,
           "gridcolor": "white",
           "linecolor": "white",
           "ticks": "",
           "title": {
            "standoff": 15
           },
           "zerolinecolor": "white",
           "zerolinewidth": 2
          },
          "yaxis": {
           "automargin": true,
           "gridcolor": "white",
           "linecolor": "white",
           "ticks": "",
           "title": {
            "standoff": 15
           },
           "zerolinecolor": "white",
           "zerolinewidth": 2
          }
         }
        },
        "xaxis": {
         "anchor": "y",
         "categoryarray": [
          "M1",
          "M17",
          "M44"
         ],
         "categoryorder": "array",
         "domain": [
          0,
          1
         ],
         "title": {
          "text": "Model"
         }
        },
        "yaxis": {
         "anchor": "x",
         "domain": [
          0,
          1
         ],
         "title": {
          "text": "cor"
         }
        }
       }
      },
      "text/html": [
       "<div>                            <div id=\"d7528a2b-ce5e-48b9-9c58-37c484227938\" class=\"plotly-graph-div\" style=\"height:525px; width:100%;\"></div>            <script type=\"text/javascript\">                require([\"plotly\"], function(Plotly) {                    window.PLOTLYENV=window.PLOTLYENV || {};                                    if (document.getElementById(\"d7528a2b-ce5e-48b9-9c58-37c484227938\")) {                    Plotly.newPlot(                        \"d7528a2b-ce5e-48b9-9c58-37c484227938\",                        [{\"alignmentgroup\":\"True\",\"hovertemplate\":\"Model=%{x}\\u003cbr\\u003ecor=%{y}\\u003cextra\\u003e\\u003c\\u002fextra\\u003e\",\"legendgroup\":\"M1\",\"marker\":{\"color\":\"#636efa\"},\"name\":\"M1\",\"notched\":false,\"offsetgroup\":\"M1\",\"orientation\":\"v\",\"showlegend\":true,\"x\":[\"M1\",\"M1\",\"M1\",\"M1\",\"M1\",\"M1\",\"M1\",\"M1\",\"M1\",\"M1\",\"M1\",\"M1\",\"M1\",\"M1\",\"M1\",\"M1\",\"M1\",\"M1\",\"M1\",\"M1\",\"M1\",\"M1\",\"M1\",\"M1\",\"M1\",\"M1\",\"M1\",\"M1\",\"M1\",\"M1\",\"M1\",\"M1\",\"M1\",\"M1\",\"M1\",\"M1\",\"M1\",\"M1\",\"M1\",\"M1\",\"M1\",\"M1\",\"M1\",\"M1\",\"M1\",\"M1\",\"M1\",\"M1\",\"M1\",\"M1\",\"M1\",\"M1\",\"M1\",\"M1\",\"M1\",\"M1\",\"M1\",\"M1\",\"M1\",\"M1\",\"M1\",\"M1\",\"M1\",\"M1\",\"M1\",\"M1\",\"M1\",\"M1\",\"M1\",\"M1\",\"M1\",\"M1\",\"M1\",\"M1\",\"M1\",\"M1\",\"M1\",\"M1\",\"M1\",\"M1\",\"M1\",\"M1\",\"M1\",\"M1\",\"M1\",\"M1\",\"M1\",\"M1\",\"M1\",\"M1\",\"M1\",\"M1\",\"M1\",\"M1\",\"M1\",\"M1\",\"M1\",\"M1\",\"M1\",\"M1\",\"M1\",\"M1\",\"M1\",\"M1\",\"M1\",\"M1\",\"M1\",\"M1\",\"M1\",\"M1\",\"M1\",\"M1\",\"M1\",\"M1\",\"M1\",\"M1\",\"M1\",\"M1\",\"M1\",\"M1\",\"M1\",\"M1\",\"M1\",\"M1\",\"M1\"],\"x0\":\" \",\"xaxis\":\"x\",\"y\":[0.253694127418607,0.117914158981,0.331903523253697,0.268374426694237,0.260269339365259,0.234467211762672,0.140055244656405,0.236311719158486,0.259872776285495,0.195395505390445,0.297127624236991,0.297547732070329,0.299566819532268,0.148547203574442,0.204882533199786,0.171055078242095,0.364423594131608,0.257680638218115,0.172811230305786,0.251417951788715,0.255171365974768,0.230400519683052,0.184202640472647,0.252191540322332,0.405575967929817,0.156353411176098,0.325407885607569,0.211397572345928,0.295404424340173,0.245737237156728,0.318165109409046,0.206031378118908,0.223240636490649,0.263227964501457,0.271454869007793,0.253334753513199,0.296578584681058,0.307822410194248,0.229435682774675,0.271682184188852,0.231618333192644,0.161577169740543,0.223955435251425,0.308596806937841,0.297184195079445,0.171041872385097,0.218338157097476,0.287453078423093,0.3317125284791,0.346030277227277,0.313687502758441,0.252877583161088,0.248170911573048,0.140570092750651,0.237777627680768,0.287075637241852,0.191958452020204,0.276458215080415,0.24707493289771,0.283450422295301,0.322597440881177,0.202120133188968,0.193185314554335,0.220775580712352,0.292833814140527,0.217189325792956,0.204741464170565,0.358535140780615,0.234874371877696,0.251928765049531,0.303942843920835,0.27693366850561,0.16083634424385,0.272022939647007,0.200729843896847,0.254909391829872,0.208318772226257,0.24083993864783,0.196392421473544,0.276381231231691,0.269647255233832,0.271701730965692,0.0978421484588399,0.247591125707651,0.281187013298294,0.267041567836249,0.263931975632789,0.262815196606954,0.37447792249429,0.22355212973299,0.264936508134256,0.243938035760119,0.20074148598053,0.262764415251387,0.243354474550773,0.200451112839928,0.227714964707442,0.228570039690792,0.200510994708034,0.280397539920203,0.24997105837987,0.266806894497312,0.284754723996697,0.199221439764545,0.265546799601104,0.227567295866069,0.252442412994926,0.3648503189121,0.11913090618998,0.337632865269082,0.276760073441206,0.185956785527565,0.152906677898294,0.268589725170678,0.320022707860438,0.326107151193986,0.205782321018581,0.189955469911883,0.225312466986013,0.215444772118341,0.200871680752606,0.365506770149932,0.2405356798731,0.28714794257408,0.128306973630573],\"y0\":\" \",\"yaxis\":\"y\",\"type\":\"box\"},{\"alignmentgroup\":\"True\",\"hovertemplate\":\"Model=%{x}\\u003cbr\\u003ecor=%{y}\\u003cextra\\u003e\\u003c\\u002fextra\\u003e\",\"legendgroup\":\"M17\",\"marker\":{\"color\":\"#EF553B\"},\"name\":\"M17\",\"notched\":false,\"offsetgroup\":\"M17\",\"orientation\":\"v\",\"showlegend\":true,\"x\":[\"M17\",\"M17\",\"M17\",\"M17\",\"M17\",\"M17\",\"M17\",\"M17\",\"M17\",\"M17\",\"M17\",\"M17\",\"M17\",\"M17\",\"M17\",\"M17\",\"M17\",\"M17\",\"M17\",\"M17\",\"M17\",\"M17\",\"M17\",\"M17\",\"M17\",\"M17\",\"M17\",\"M17\",\"M17\",\"M17\",\"M17\",\"M17\",\"M17\",\"M17\",\"M17\",\"M17\",\"M17\",\"M17\",\"M17\",\"M17\",\"M17\",\"M17\",\"M17\",\"M17\",\"M17\",\"M17\",\"M17\",\"M17\",\"M17\",\"M17\",\"M17\",\"M17\",\"M17\",\"M17\",\"M17\",\"M17\",\"M17\",\"M17\",\"M17\",\"M17\",\"M17\",\"M17\",\"M17\",\"M17\",\"M17\",\"M17\",\"M17\",\"M17\",\"M17\",\"M17\",\"M17\",\"M17\",\"M17\",\"M17\",\"M17\",\"M17\",\"M17\",\"M17\",\"M17\",\"M17\",\"M17\",\"M17\",\"M17\",\"M17\",\"M17\",\"M17\",\"M17\",\"M17\",\"M17\",\"M17\",\"M17\",\"M17\",\"M17\",\"M17\",\"M17\",\"M17\",\"M17\",\"M17\",\"M17\",\"M17\",\"M17\",\"M17\",\"M17\",\"M17\",\"M17\",\"M17\",\"M17\",\"M17\",\"M17\",\"M17\",\"M17\",\"M17\",\"M17\",\"M17\",\"M17\",\"M17\",\"M17\",\"M17\",\"M17\",\"M17\",\"M17\",\"M17\",\"M17\",\"M17\",\"M17\"],\"x0\":\" \",\"xaxis\":\"x\",\"y\":[0.583545190760268,0.658637093236983,0.52592700361153,0.582766615718152,0.545667299923823,0.502365089471023,0.573005002901601,0.61401458870026,0.517390427597927,0.632931534006815,0.524764975267025,0.635962911913759,0.573303451137154,0.658383497072651,0.481175414219324,0.529159818586459,0.597958218266845,0.6661247567648,0.466964251674432,0.591506279207278,0.560992246726143,0.636254964479535,0.549739563498538,0.613690018048603,0.49586608628164,0.619310284150818,0.518834056298385,0.544665912425549,0.674071223792589,0.51831697745794,0.617515620278871,0.599915078733502,0.545198315477362,0.556720383432666,0.572301406019895,0.526984840168088,0.549805930766668,0.556310412708295,0.614024976916905,0.59652004353027,0.595622975292147,0.602191511459701,0.620163737431439,0.537635486860164,0.508034924887375,0.456635153226155,0.631100387054149,0.655773895439741,0.56926384048922,0.589515095360193,0.571189826657555,0.558649206018532,0.52668254812979,0.577594250077522,0.608917664270221,0.585066508152816,0.63224392481378,0.600255441618295,0.505010977273522,0.511212808673208,0.567500552968768,0.552606622201174,0.600459575603652,0.59312004524722,0.557854142091988,0.630116373285751,0.582302670277375,0.520056114343235,0.53276742066637,0.599486590414326,0.596060770392677,0.680816653465708,0.532734463572611,0.559932152369584,0.509695432963554,0.625420089404824,0.568494203126874,0.588582781456764,0.547829314124461,0.562457040153528,0.520650980712211,0.626357579102659,0.587797214829855,0.604769222146693,0.526550618401485,0.664250606328523,0.614547445782159,0.564143684976379,0.487227035777031,0.519941765055507,0.667693857694381,0.560261370770569,0.511651510439121,0.467492921495959,0.643209869004154,0.52540736018227,0.541844853351074,0.606363103759412,0.53610726353431,0.621499131609216,0.614998635043049,0.538760275162712,0.585857530024605,0.530336021560468,0.58019062747247,0.603635813172767,0.595315542675415,0.517430002524061,0.565742392296748,0.526738990186622,0.583915582142719,0.621709881705826,0.545355063609098,0.616675220502822,0.497162805576223,0.58453663599094,0.60088797695476,0.518740413398794,0.627567789271664,0.549795985449586,0.570215807226786,0.543839195983666,0.489595095910278,0.667712145658785,0.574605543114951],\"y0\":\" \",\"yaxis\":\"y\",\"type\":\"box\"},{\"alignmentgroup\":\"True\",\"hovertemplate\":\"Model=%{x}\\u003cbr\\u003ecor=%{y}\\u003cextra\\u003e\\u003c\\u002fextra\\u003e\",\"legendgroup\":\"M44\",\"marker\":{\"color\":\"#00cc96\"},\"name\":\"M44\",\"notched\":false,\"offsetgroup\":\"M44\",\"orientation\":\"v\",\"showlegend\":true,\"x\":[\"M44\",\"M44\",\"M44\",\"M44\",\"M44\",\"M44\",\"M44\",\"M44\",\"M44\",\"M44\",\"M44\",\"M44\",\"M44\",\"M44\",\"M44\",\"M44\",\"M44\",\"M44\",\"M44\",\"M44\",\"M44\",\"M44\",\"M44\",\"M44\",\"M44\",\"M44\",\"M44\",\"M44\",\"M44\",\"M44\",\"M44\",\"M44\",\"M44\",\"M44\",\"M44\",\"M44\",\"M44\",\"M44\",\"M44\",\"M44\",\"M44\",\"M44\",\"M44\",\"M44\",\"M44\",\"M44\",\"M44\",\"M44\",\"M44\",\"M44\",\"M44\",\"M44\",\"M44\",\"M44\",\"M44\",\"M44\",\"M44\",\"M44\",\"M44\",\"M44\",\"M44\",\"M44\",\"M44\",\"M44\",\"M44\",\"M44\",\"M44\",\"M44\",\"M44\",\"M44\",\"M44\",\"M44\",\"M44\",\"M44\",\"M44\",\"M44\",\"M44\",\"M44\",\"M44\",\"M44\",\"M44\",\"M44\",\"M44\",\"M44\",\"M44\",\"M44\",\"M44\",\"M44\",\"M44\",\"M44\",\"M44\",\"M44\",\"M44\",\"M44\",\"M44\",\"M44\",\"M44\",\"M44\",\"M44\",\"M44\",\"M44\",\"M44\",\"M44\",\"M44\",\"M44\",\"M44\",\"M44\",\"M44\",\"M44\",\"M44\",\"M44\",\"M44\",\"M44\",\"M44\",\"M44\",\"M44\",\"M44\",\"M44\",\"M44\",\"M44\",\"M44\",\"M44\",\"M44\",\"M44\",\"M44\"],\"x0\":\" \",\"xaxis\":\"x\",\"y\":[0.548379136168325,0.680501655171319,0.590476570245466,0.583630420292843,0.634971906891261,0.619842623628824,0.62369465440971,0.57965100710606,0.560427602647938,0.663904095079641,0.643065998424161,0.611782382899155,0.651976451405078,0.505954610836383,0.583470899439169,0.586412328737791,0.619569700880925,0.59189771266637,0.585942505044875,0.636327277232787,0.626887485287798,0.58526292905579,0.538753538790299,0.610157068574406,0.671408002610202,0.583021709604449,0.609959773466673,0.553532235637185,0.699515900679292,0.556985437719081,0.484586018492942,0.596688670348783,0.604595967216568,0.659595025067599,0.67265702850781,0.634642796540643,0.623098327865548,0.489035912039198,0.676383397563283,0.610629913610225,0.655011594512909,0.602222030851744,0.612650858266634,0.622531348443428,0.568581578770233,0.603621187797197,0.546953378047332,0.654903927513706,0.609633971252346,0.634146837209003,0.554987060222604,0.618846441267073,0.610495720601914,0.570512973088104,0.649568725669156,0.626482372411849,0.565030531779055,0.530952533502931,0.642283441905246,0.670214617863501,0.652537938631463,0.668049611558909,0.588022180174054,0.502108441727041,0.591849592355112,0.583166125700366,0.605911852471126,0.575007009105423,0.591829419142139,0.654544034541145,0.62382723666529,0.586695206491368,0.570548541208321,0.625709980449522,0.660570172868961,0.537285049800901,0.605109761285613,0.593797039616036,0.662492035996434,0.599818858179577,0.653543527243966,0.577856906475521,0.620579579269032,0.599317843820443,0.542129184121506,0.538723334763883,0.580850266110436,0.68783173820186,0.654118105661211,0.582287540818833,0.59832927400582,0.556294442822813,0.667072872529974,0.568581680878484,0.661226944376022,0.594201368692243,0.635499686962049,0.563418263578997,0.639833729582409,0.60247392405265,0.648136866383039,0.607172069621581,0.592820552368037,0.590665268087621,0.607551869388695,0.646181996205844,0.59685339304666,0.651919119860588,0.513328003656357,0.634834009172822,0.690679956202645,0.555685912761488,0.605316316620295,0.604397940552473,0.555583694235027,0.632175105375771,0.657541221696396,0.603838215718859,0.541646078481964,0.596148535249776,0.670268131886937,0.570184256474943,0.517254670833792,0.644299996349179,0.605202008424771],\"y0\":\" \",\"yaxis\":\"y\",\"type\":\"box\"}],                        {\"template\":{\"data\":{\"histogram2dcontour\":[{\"type\":\"histogram2dcontour\",\"colorbar\":{\"outlinewidth\":0,\"ticks\":\"\"},\"colorscale\":[[0.0,\"#0d0887\"],[0.1111111111111111,\"#46039f\"],[0.2222222222222222,\"#7201a8\"],[0.3333333333333333,\"#9c179e\"],[0.4444444444444444,\"#bd3786\"],[0.5555555555555556,\"#d8576b\"],[0.6666666666666666,\"#ed7953\"],[0.7777777777777778,\"#fb9f3a\"],[0.8888888888888888,\"#fdca26\"],[1.0,\"#f0f921\"]]}],\"choropleth\":[{\"type\":\"choropleth\",\"colorbar\":{\"outlinewidth\":0,\"ticks\":\"\"}}],\"histogram2d\":[{\"type\":\"histogram2d\",\"colorbar\":{\"outlinewidth\":0,\"ticks\":\"\"},\"colorscale\":[[0.0,\"#0d0887\"],[0.1111111111111111,\"#46039f\"],[0.2222222222222222,\"#7201a8\"],[0.3333333333333333,\"#9c179e\"],[0.4444444444444444,\"#bd3786\"],[0.5555555555555556,\"#d8576b\"],[0.6666666666666666,\"#ed7953\"],[0.7777777777777778,\"#fb9f3a\"],[0.8888888888888888,\"#fdca26\"],[1.0,\"#f0f921\"]]}],\"heatmap\":[{\"type\":\"heatmap\",\"colorbar\":{\"outlinewidth\":0,\"ticks\":\"\"},\"colorscale\":[[0.0,\"#0d0887\"],[0.1111111111111111,\"#46039f\"],[0.2222222222222222,\"#7201a8\"],[0.3333333333333333,\"#9c179e\"],[0.4444444444444444,\"#bd3786\"],[0.5555555555555556,\"#d8576b\"],[0.6666666666666666,\"#ed7953\"],[0.7777777777777778,\"#fb9f3a\"],[0.8888888888888888,\"#fdca26\"],[1.0,\"#f0f921\"]]}],\"heatmapgl\":[{\"type\":\"heatmapgl\",\"colorbar\":{\"outlinewidth\":0,\"ticks\":\"\"},\"colorscale\":[[0.0,\"#0d0887\"],[0.1111111111111111,\"#46039f\"],[0.2222222222222222,\"#7201a8\"],[0.3333333333333333,\"#9c179e\"],[0.4444444444444444,\"#bd3786\"],[0.5555555555555556,\"#d8576b\"],[0.6666666666666666,\"#ed7953\"],[0.7777777777777778,\"#fb9f3a\"],[0.8888888888888888,\"#fdca26\"],[1.0,\"#f0f921\"]]}],\"contourcarpet\":[{\"type\":\"contourcarpet\",\"colorbar\":{\"outlinewidth\":0,\"ticks\":\"\"}}],\"contour\":[{\"type\":\"contour\",\"colorbar\":{\"outlinewidth\":0,\"ticks\":\"\"},\"colorscale\":[[0.0,\"#0d0887\"],[0.1111111111111111,\"#46039f\"],[0.2222222222222222,\"#7201a8\"],[0.3333333333333333,\"#9c179e\"],[0.4444444444444444,\"#bd3786\"],[0.5555555555555556,\"#d8576b\"],[0.6666666666666666,\"#ed7953\"],[0.7777777777777778,\"#fb9f3a\"],[0.8888888888888888,\"#fdca26\"],[1.0,\"#f0f921\"]]}],\"surface\":[{\"type\":\"surface\",\"colorbar\":{\"outlinewidth\":0,\"ticks\":\"\"},\"colorscale\":[[0.0,\"#0d0887\"],[0.1111111111111111,\"#46039f\"],[0.2222222222222222,\"#7201a8\"],[0.3333333333333333,\"#9c179e\"],[0.4444444444444444,\"#bd3786\"],[0.5555555555555556,\"#d8576b\"],[0.6666666666666666,\"#ed7953\"],[0.7777777777777778,\"#fb9f3a\"],[0.8888888888888888,\"#fdca26\"],[1.0,\"#f0f921\"]]}],\"mesh3d\":[{\"type\":\"mesh3d\",\"colorbar\":{\"outlinewidth\":0,\"ticks\":\"\"}}],\"scatter\":[{\"fillpattern\":{\"fillmode\":\"overlay\",\"size\":10,\"solidity\":0.2},\"type\":\"scatter\"}],\"parcoords\":[{\"type\":\"parcoords\",\"line\":{\"colorbar\":{\"outlinewidth\":0,\"ticks\":\"\"}}}],\"scatterpolargl\":[{\"type\":\"scatterpolargl\",\"marker\":{\"colorbar\":{\"outlinewidth\":0,\"ticks\":\"\"}}}],\"bar\":[{\"error_x\":{\"color\":\"#2a3f5f\"},\"error_y\":{\"color\":\"#2a3f5f\"},\"marker\":{\"line\":{\"color\":\"#E5ECF6\",\"width\":0.5},\"pattern\":{\"fillmode\":\"overlay\",\"size\":10,\"solidity\":0.2}},\"type\":\"bar\"}],\"scattergeo\":[{\"type\":\"scattergeo\",\"marker\":{\"colorbar\":{\"outlinewidth\":0,\"ticks\":\"\"}}}],\"scatterpolar\":[{\"type\":\"scatterpolar\",\"marker\":{\"colorbar\":{\"outlinewidth\":0,\"ticks\":\"\"}}}],\"histogram\":[{\"marker\":{\"pattern\":{\"fillmode\":\"overlay\",\"size\":10,\"solidity\":0.2}},\"type\":\"histogram\"}],\"scattergl\":[{\"type\":\"scattergl\",\"marker\":{\"colorbar\":{\"outlinewidth\":0,\"ticks\":\"\"}}}],\"scatter3d\":[{\"type\":\"scatter3d\",\"line\":{\"colorbar\":{\"outlinewidth\":0,\"ticks\":\"\"}},\"marker\":{\"colorbar\":{\"outlinewidth\":0,\"ticks\":\"\"}}}],\"scattermapbox\":[{\"type\":\"scattermapbox\",\"marker\":{\"colorbar\":{\"outlinewidth\":0,\"ticks\":\"\"}}}],\"scatterternary\":[{\"type\":\"scatterternary\",\"marker\":{\"colorbar\":{\"outlinewidth\":0,\"ticks\":\"\"}}}],\"scattercarpet\":[{\"type\":\"scattercarpet\",\"marker\":{\"colorbar\":{\"outlinewidth\":0,\"ticks\":\"\"}}}],\"carpet\":[{\"aaxis\":{\"endlinecolor\":\"#2a3f5f\",\"gridcolor\":\"white\",\"linecolor\":\"white\",\"minorgridcolor\":\"white\",\"startlinecolor\":\"#2a3f5f\"},\"baxis\":{\"endlinecolor\":\"#2a3f5f\",\"gridcolor\":\"white\",\"linecolor\":\"white\",\"minorgridcolor\":\"white\",\"startlinecolor\":\"#2a3f5f\"},\"type\":\"carpet\"}],\"table\":[{\"cells\":{\"fill\":{\"color\":\"#EBF0F8\"},\"line\":{\"color\":\"white\"}},\"header\":{\"fill\":{\"color\":\"#C8D4E3\"},\"line\":{\"color\":\"white\"}},\"type\":\"table\"}],\"barpolar\":[{\"marker\":{\"line\":{\"color\":\"#E5ECF6\",\"width\":0.5},\"pattern\":{\"fillmode\":\"overlay\",\"size\":10,\"solidity\":0.2}},\"type\":\"barpolar\"}],\"pie\":[{\"automargin\":true,\"type\":\"pie\"}]},\"layout\":{\"autotypenumbers\":\"strict\",\"colorway\":[\"#636efa\",\"#EF553B\",\"#00cc96\",\"#ab63fa\",\"#FFA15A\",\"#19d3f3\",\"#FF6692\",\"#B6E880\",\"#FF97FF\",\"#FECB52\"],\"font\":{\"color\":\"#2a3f5f\"},\"hovermode\":\"closest\",\"hoverlabel\":{\"align\":\"left\"},\"paper_bgcolor\":\"white\",\"plot_bgcolor\":\"#E5ECF6\",\"polar\":{\"bgcolor\":\"#E5ECF6\",\"angularaxis\":{\"gridcolor\":\"white\",\"linecolor\":\"white\",\"ticks\":\"\"},\"radialaxis\":{\"gridcolor\":\"white\",\"linecolor\":\"white\",\"ticks\":\"\"}},\"ternary\":{\"bgcolor\":\"#E5ECF6\",\"aaxis\":{\"gridcolor\":\"white\",\"linecolor\":\"white\",\"ticks\":\"\"},\"baxis\":{\"gridcolor\":\"white\",\"linecolor\":\"white\",\"ticks\":\"\"},\"caxis\":{\"gridcolor\":\"white\",\"linecolor\":\"white\",\"ticks\":\"\"}},\"coloraxis\":{\"colorbar\":{\"outlinewidth\":0,\"ticks\":\"\"}},\"colorscale\":{\"sequential\":[[0.0,\"#0d0887\"],[0.1111111111111111,\"#46039f\"],[0.2222222222222222,\"#7201a8\"],[0.3333333333333333,\"#9c179e\"],[0.4444444444444444,\"#bd3786\"],[0.5555555555555556,\"#d8576b\"],[0.6666666666666666,\"#ed7953\"],[0.7777777777777778,\"#fb9f3a\"],[0.8888888888888888,\"#fdca26\"],[1.0,\"#f0f921\"]],\"sequentialminus\":[[0.0,\"#0d0887\"],[0.1111111111111111,\"#46039f\"],[0.2222222222222222,\"#7201a8\"],[0.3333333333333333,\"#9c179e\"],[0.4444444444444444,\"#bd3786\"],[0.5555555555555556,\"#d8576b\"],[0.6666666666666666,\"#ed7953\"],[0.7777777777777778,\"#fb9f3a\"],[0.8888888888888888,\"#fdca26\"],[1.0,\"#f0f921\"]],\"diverging\":[[0,\"#8e0152\"],[0.1,\"#c51b7d\"],[0.2,\"#de77ae\"],[0.3,\"#f1b6da\"],[0.4,\"#fde0ef\"],[0.5,\"#f7f7f7\"],[0.6,\"#e6f5d0\"],[0.7,\"#b8e186\"],[0.8,\"#7fbc41\"],[0.9,\"#4d9221\"],[1,\"#276419\"]]},\"xaxis\":{\"gridcolor\":\"white\",\"linecolor\":\"white\",\"ticks\":\"\",\"title\":{\"standoff\":15},\"zerolinecolor\":\"white\",\"automargin\":true,\"zerolinewidth\":2},\"yaxis\":{\"gridcolor\":\"white\",\"linecolor\":\"white\",\"ticks\":\"\",\"title\":{\"standoff\":15},\"zerolinecolor\":\"white\",\"automargin\":true,\"zerolinewidth\":2},\"scene\":{\"xaxis\":{\"backgroundcolor\":\"#E5ECF6\",\"gridcolor\":\"white\",\"linecolor\":\"white\",\"showbackground\":true,\"ticks\":\"\",\"zerolinecolor\":\"white\",\"gridwidth\":2},\"yaxis\":{\"backgroundcolor\":\"#E5ECF6\",\"gridcolor\":\"white\",\"linecolor\":\"white\",\"showbackground\":true,\"ticks\":\"\",\"zerolinecolor\":\"white\",\"gridwidth\":2},\"zaxis\":{\"backgroundcolor\":\"#E5ECF6\",\"gridcolor\":\"white\",\"linecolor\":\"white\",\"showbackground\":true,\"ticks\":\"\",\"zerolinecolor\":\"white\",\"gridwidth\":2}},\"shapedefaults\":{\"line\":{\"color\":\"#2a3f5f\"}},\"annotationdefaults\":{\"arrowcolor\":\"#2a3f5f\",\"arrowhead\":0,\"arrowwidth\":1},\"geo\":{\"bgcolor\":\"white\",\"landcolor\":\"#E5ECF6\",\"subunitcolor\":\"white\",\"showland\":true,\"showlakes\":true,\"lakecolor\":\"white\"},\"title\":{\"x\":0.05},\"mapbox\":{\"style\":\"light\"}}},\"xaxis\":{\"anchor\":\"y\",\"domain\":[0.0,1.0],\"title\":{\"text\":\"Model\"},\"categoryorder\":\"array\",\"categoryarray\":[\"M1\",\"M17\",\"M44\"]},\"yaxis\":{\"anchor\":\"x\",\"domain\":[0.0,1.0],\"title\":{\"text\":\"cor\"}},\"legend\":{\"title\":{\"text\":\"Model\"},\"tracegroupgap\":0},\"margin\":{\"t\":60},\"boxmode\":\"overlay\"},                        {\"responsive\": true}                    ).then(function(){\n",
       "                            \n",
       "var gd = document.getElementById('d7528a2b-ce5e-48b9-9c58-37c484227938');\n",
       "var x = new MutationObserver(function (mutations, observer) {{\n",
       "        var display = window.getComputedStyle(gd).display;\n",
       "        if (!display || display === 'none') {{\n",
       "            console.log([gd, 'removed!']);\n",
       "            Plotly.purge(gd);\n",
       "            observer.disconnect();\n",
       "        }}\n",
       "}});\n",
       "\n",
       "// Listen for the removal of the full notebook cells\n",
       "var notebookContainer = gd.closest('#notebook-container');\n",
       "if (notebookContainer) {{\n",
       "    x.observe(notebookContainer, {childList: true});\n",
       "}}\n",
       "\n",
       "// Listen for the clearing of the current output cell\n",
       "var outputEl = gd.closest('.output');\n",
       "if (outputEl) {{\n",
       "    x.observe(outputEl, {childList: true});\n",
       "}}\n",
       "\n",
       "                        })                };                });            </script>        </div>"
      ]
     },
     "metadata": {},
     "output_type": "display_data"
    }
   ],
   "source": [
    "fig = px.box(for_fig, x=\"Model\", y=\"cor\", color=\"Model\")\n",
    "fig.show()"
   ]
  },
  {
   "cell_type": "code",
   "execution_count": 11,
   "id": "a72bd4f2",
   "metadata": {},
   "outputs": [
    {
     "data": {
      "text/html": [
       "<div>\n",
       "<style scoped>\n",
       "    .dataframe tbody tr th:only-of-type {\n",
       "        vertical-align: middle;\n",
       "    }\n",
       "\n",
       "    .dataframe tbody tr th {\n",
       "        vertical-align: top;\n",
       "    }\n",
       "\n",
       "    .dataframe thead th {\n",
       "        text-align: right;\n",
       "    }\n",
       "</style>\n",
       "<table border=\"1\" class=\"dataframe\">\n",
       "  <thead>\n",
       "    <tr style=\"text-align: right;\">\n",
       "      <th></th>\n",
       "      <th>cor</th>\n",
       "      <th>CV</th>\n",
       "      <th>Model</th>\n",
       "      <th>Pred</th>\n",
       "    </tr>\n",
       "  </thead>\n",
       "  <tbody>\n",
       "    <tr>\n",
       "      <th>0</th>\n",
       "      <td>0.177102</td>\n",
       "      <td>CV1/PCV1</td>\n",
       "      <td>M1</td>\n",
       "      <td>Genomic</td>\n",
       "    </tr>\n",
       "    <tr>\n",
       "      <th>1</th>\n",
       "      <td>0.204417</td>\n",
       "      <td>CV1/PCV1</td>\n",
       "      <td>M1</td>\n",
       "      <td>Genomic</td>\n",
       "    </tr>\n",
       "    <tr>\n",
       "      <th>2</th>\n",
       "      <td>0.306817</td>\n",
       "      <td>CV1/PCV1</td>\n",
       "      <td>M1</td>\n",
       "      <td>Genomic</td>\n",
       "    </tr>\n",
       "    <tr>\n",
       "      <th>3</th>\n",
       "      <td>0.352862</td>\n",
       "      <td>CV1/PCV1</td>\n",
       "      <td>M1</td>\n",
       "      <td>Genomic</td>\n",
       "    </tr>\n",
       "    <tr>\n",
       "      <th>4</th>\n",
       "      <td>0.307596</td>\n",
       "      <td>CV1/PCV1</td>\n",
       "      <td>M1</td>\n",
       "      <td>Genomic</td>\n",
       "    </tr>\n",
       "    <tr>\n",
       "      <th>...</th>\n",
       "      <td>...</td>\n",
       "      <td>...</td>\n",
       "      <td>...</td>\n",
       "      <td>...</td>\n",
       "    </tr>\n",
       "    <tr>\n",
       "      <th>5495</th>\n",
       "      <td>0.555338</td>\n",
       "      <td>CV1/PCV1</td>\n",
       "      <td>M9</td>\n",
       "      <td>Phenomic</td>\n",
       "    </tr>\n",
       "    <tr>\n",
       "      <th>5496</th>\n",
       "      <td>0.575200</td>\n",
       "      <td>CV1/PCV1</td>\n",
       "      <td>M9</td>\n",
       "      <td>Phenomic</td>\n",
       "    </tr>\n",
       "    <tr>\n",
       "      <th>5497</th>\n",
       "      <td>0.574533</td>\n",
       "      <td>CV1/PCV1</td>\n",
       "      <td>M9</td>\n",
       "      <td>Phenomic</td>\n",
       "    </tr>\n",
       "    <tr>\n",
       "      <th>5498</th>\n",
       "      <td>0.564543</td>\n",
       "      <td>CV1/PCV1</td>\n",
       "      <td>M9</td>\n",
       "      <td>Phenomic</td>\n",
       "    </tr>\n",
       "    <tr>\n",
       "      <th>5499</th>\n",
       "      <td>0.513078</td>\n",
       "      <td>CV1/PCV1</td>\n",
       "      <td>M9</td>\n",
       "      <td>Phenomic</td>\n",
       "    </tr>\n",
       "  </tbody>\n",
       "</table>\n",
       "<p>5500 rows × 4 columns</p>\n",
       "</div>"
      ],
      "text/plain": [
       "           cor        CV Model      Pred\n",
       "0     0.177102  CV1/PCV1    M1   Genomic\n",
       "1     0.204417  CV1/PCV1    M1   Genomic\n",
       "2     0.306817  CV1/PCV1    M1   Genomic\n",
       "3     0.352862  CV1/PCV1    M1   Genomic\n",
       "4     0.307596  CV1/PCV1    M1   Genomic\n",
       "...        ...       ...   ...       ...\n",
       "5495  0.555338  CV1/PCV1    M9  Phenomic\n",
       "5496  0.575200  CV1/PCV1    M9  Phenomic\n",
       "5497  0.574533  CV1/PCV1    M9  Phenomic\n",
       "5498  0.564543  CV1/PCV1    M9  Phenomic\n",
       "5499  0.513078  CV1/PCV1    M9  Phenomic\n",
       "\n",
       "[5500 rows x 4 columns]"
      ]
     },
     "execution_count": 11,
     "metadata": {},
     "output_type": "execute_result"
    }
   ],
   "source": [
    "cv_cors"
   ]
  },
  {
   "cell_type": "code",
   "execution_count": null,
   "id": "45be241a",
   "metadata": {},
   "outputs": [],
   "source": []
  },
  {
   "cell_type": "code",
   "execution_count": null,
   "id": "c40b3530",
   "metadata": {},
   "outputs": [],
   "source": []
  },
  {
   "cell_type": "code",
   "execution_count": null,
   "id": "2c629cec",
   "metadata": {},
   "outputs": [],
   "source": []
  },
  {
   "cell_type": "code",
   "execution_count": 2,
   "id": "50424ec9",
   "metadata": {},
   "outputs": [],
   "source": [
    "\n",
    "long_pred = pd.read_csv(data_dir+\"Longitudinal Prediction ability no hieght.csv\", index_col=[0])\n",
    "\n",
    "#add M number as int for sorting\n",
    "long_pred[\"M_num\"] = long_pred[\"Model\"].str.split(\"M\",expand=True)[1].astype(int)\n",
    "#add genomic verses phenomic\n",
    "long_pred[\"Type\"] = \"\"\n",
    "long_pred.loc[long_pred[\"Model\"]==\"M1\", \"Type\"] = \"Genomic\"\n",
    "long_pred.loc[long_pred[\"Model\"]!=\"M1\", \"Type\"] = \"Phenomic\"\n",
    "\n",
    "sng_long_pred = pd.read_csv(data_dir+\"single_flight_Prediction ability.csv\", index_col=[0])\n",
    "\n",
    "#add M number as int for sorting\n",
    "sng_long_pred[\"M_num\"] = sng_long_pred[\"Model\"].str.split(\"M\",expand=True)[1].astype(int)\n",
    "#add genomic verses phenomic\n",
    "sng_long_pred[\"Type\"] = \"\"\n",
    "sng_long_pred.loc[sng_long_pred[\"Model\"]==\"M1\", \"Type\"] = \"Genomic\"\n",
    "sng_long_pred.loc[sng_long_pred[\"Model\"]!=\"M1\", \"Type\"] = \"Phenomic\""
   ]
  },
  {
   "cell_type": "code",
   "execution_count": null,
   "id": "c59ce48f",
   "metadata": {},
   "outputs": [],
   "source": []
  }
 ],
 "metadata": {
  "kernelspec": {
   "display_name": "Python 3 (ipykernel)",
   "language": "python",
   "name": "python3"
  },
  "language_info": {
   "codemirror_mode": {
    "name": "ipython",
    "version": 3
   },
   "file_extension": ".py",
   "mimetype": "text/x-python",
   "name": "python",
   "nbconvert_exporter": "python",
   "pygments_lexer": "ipython3",
   "version": "3.9.5"
  }
 },
 "nbformat": 4,
 "nbformat_minor": 5
}
